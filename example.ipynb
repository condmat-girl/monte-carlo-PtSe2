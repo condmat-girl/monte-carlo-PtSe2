{
 "cells": [
  {
   "cell_type": "code",
   "execution_count": 1,
   "metadata": {},
   "outputs": [
    {
     "ename": "AttributeError",
     "evalue": "module 'lattice' has no attribute 'Lattice'",
     "output_type": "error",
     "traceback": [
      "\u001b[0;31m---------------------------------------------------------------------------\u001b[0m",
      "\u001b[0;31mAttributeError\u001b[0m                            Traceback (most recent call last)",
      "Cell \u001b[0;32mIn[1], line 15\u001b[0m\n\u001b[1;32m     11\u001b[0m warmup       \u001b[38;5;241m=\u001b[39m \u001b[38;5;241m1_000\u001b[39m\n\u001b[1;32m     12\u001b[0m temperature  \u001b[38;5;241m=\u001b[39m \u001b[38;5;241m5.0\u001b[39m       \n\u001b[0;32m---> 15\u001b[0m lat \u001b[38;5;241m=\u001b[39m \u001b[43mlattice\u001b[49m\u001b[38;5;241;43m.\u001b[39;49m\u001b[43mLattice\u001b[49m(rows, cols, doping, kf\u001b[38;5;241m=\u001b[39mk_f, J0\u001b[38;5;241m=\u001b[39mJ0)\n\u001b[1;32m     17\u001b[0m mc  \u001b[38;5;241m=\u001b[39m monte_carlo\u001b[38;5;241m.\u001b[39mMonteCarlo(lat)                  \n\u001b[1;32m     18\u001b[0m mc\u001b[38;5;241m.\u001b[39mmonte_carlo_loop(steps, warmup, temperature)\n",
      "\u001b[0;31mAttributeError\u001b[0m: module 'lattice' has no attribute 'Lattice'"
     ]
    }
   ],
   "source": [
    "import lattice\n",
    "import monte_carlo\n",
    "import visualization\n",
    "\n",
    "\n",
    "rows, cols   = 20, 20\n",
    "doping       = 0.10\n",
    "k_f          = 0.1\n",
    "J0           = -1.0\n",
    "steps        = 100_000\n",
    "warmup       = 1_000\n",
    "temperature  = 5.0       \n",
    "\n",
    "\n",
    "lat = lattice.Lattice(rows, cols, doping, kf=k_f, J0=J0)\n",
    "\n",
    "mc  = monte_carlo.MonteCarlo(lat)                  \n",
    "mc.monte_carlo_loop(steps, warmup, temperature)\n",
    "\n",
    "visual = visualization.Visualization(lat, mc.acc)     \n",
    "visual.plot_magnetization()\n",
    "visual.plot_lattice()\n"
   ]
  },
  {
   "cell_type": "code",
   "execution_count": null,
   "metadata": {},
   "outputs": [],
   "source": []
  }
 ],
 "metadata": {
  "kernelspec": {
   "display_name": "venv_xy",
   "language": "python",
   "name": "python3"
  },
  "language_info": {
   "codemirror_mode": {
    "name": "ipython",
    "version": 3
   },
   "file_extension": ".py",
   "mimetype": "text/x-python",
   "name": "python",
   "nbconvert_exporter": "python",
   "pygments_lexer": "ipython3",
   "version": "3.12.7"
  }
 },
 "nbformat": 4,
 "nbformat_minor": 2
}
