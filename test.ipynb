{
 "cells": [
  {
   "cell_type": "code",
   "execution_count": null,
   "id": "e71c5abe",
   "metadata": {},
   "outputs": [
    {
     "name": "stdout",
     "output_type": "stream",
     "text": [
      "\n",
      "Running Metropolis at T = 1.50\n",
      "Starting warmup phase...\n"
     ]
    },
    {
     "name": "stderr",
     "output_type": "stream",
     "text": [
      "100%|██████████| 10000/10000 [00:00<00:00, 67414.55it/s]\n"
     ]
    },
    {
     "name": "stdout",
     "output_type": "stream",
     "text": [
      "Starting production phase...\n"
     ]
    },
    {
     "name": "stderr",
     "output_type": "stream",
     "text": [
      "100%|██████████| 100000/100000 [00:04<00:00, 21060.70it/s]\n"
     ]
    },
    {
     "ename": "AttributeError",
     "evalue": "'Accumulator' object has no attribute 'compute_susceptibility_error'",
     "output_type": "error",
     "traceback": [
      "\u001b[0;31m---------------------------------------------------------------------------\u001b[0m",
      "\u001b[0;31mAttributeError\u001b[0m                            Traceback (most recent call last)",
      "Cell \u001b[0;32mIn[2], line 85\u001b[0m\n\u001b[1;32m     82\u001b[0m M_err \u001b[38;5;241m=\u001b[39m acc\u001b[38;5;241m.\u001b[39mcalculate_error(M_vals, tau)\n\u001b[1;32m     84\u001b[0m chi \u001b[38;5;241m=\u001b[39m acc\u001b[38;5;241m.\u001b[39mcompute_susceptibility(M_vals, T, lattice\u001b[38;5;241m.\u001b[39mN)\n\u001b[0;32m---> 85\u001b[0m chi_err \u001b[38;5;241m=\u001b[39m acc\u001b[38;5;241m.\u001b[39mcompute_susceptibility_error(M_vals, T, lattice\u001b[38;5;241m.\u001b[39mN)\n\u001b[1;32m     88\u001b[0m acf\u001b[38;5;241m=\u001b[39mautocorr_fft(acc\u001b[38;5;241m.\u001b[39mmagnetization)\n\u001b[1;32m     89\u001b[0m acf_time\u001b[38;5;241m=\u001b[39mautocorr_time(acf)\n",
      "\u001b[0;31mAttributeError\u001b[0m: 'Accumulator' object has no attribute 'compute_susceptibility_error'"
     ]
    }
   ],
   "source": [
    "import numpy as np\n",
    "import matplotlib.pyplot as plt\n",
    "from ising_lattice import IsingLattice\n",
    "from monte_carlo import MonteCarlo\n",
    "\n",
    "temperatures = np.linspace(1.5, 3.0, 31)  # Temperature range\n",
    "Lx = 8\n",
    "Ly = 8\n",
    "J = -1.0\n",
    "steps = 1_00_000  # production steps after warmup\n",
    "warmup_steps = 10_000  # warmup steps\n",
    "method = \"metropolis\"\n",
    "\n",
    "# --- Storage ---\n",
    "avg_magnetization = []\n",
    "magnetization_errors = []\n",
    "susceptibilities = []\n",
    "susceptibility_errors = []\n",
    "autocorr_time_list = []\n",
    "def autocorr(x):\n",
    "    x = np.asarray(x, float)\n",
    "    x = x - x.mean()\n",
    "    n = len(x)\n",
    "    result = np.correlate(x, x, mode='full')\n",
    "    acov = result[n-1:]   # lags 0..n-1\n",
    "    acov /= np.arange(n, 0, -1)   # unbiased: divide by N-k\n",
    "    return acov / acov[0]         # normalize → acf[0]=1\n",
    "\n",
    "def autocorr_time(correlation):\n",
    "    for i, val in enumerate(correlation[1:], 1):\n",
    "        if val < 0:\n",
    "            return 1 + 2 * np.sum(correlation[1:i])\n",
    "    return 1 + 2 * np.sum(correlation[1:])\n",
    "\n",
    "def autocorr_fft(x, unbiased=True):\n",
    "    \"\"\"\n",
    "    Compute autocorrelation of a 1D array using FFT (fast, O(n log n)).\n",
    "    \n",
    "    Returns:\n",
    "        acf : array of length n (lags 0..n-1), normalized so acf[0] = 1.\n",
    "    \n",
    "    Parameters:\n",
    "        unbiased : if True, normalize by (n - lag),\n",
    "                   else normalize by n (biased).\n",
    "    \"\"\"\n",
    "    x = np.asarray(x, dtype=float)\n",
    "    n = x.size\n",
    "    x = x - x.mean()\n",
    "\n",
    "    # FFT length (next power of two >= 2n-1 for linear convolution)\n",
    "    nfft = 1 << (2*n - 1).bit_length()\n",
    "\n",
    "    # Power spectrum\n",
    "    f = np.fft.rfft(x, n=nfft)\n",
    "    acov = np.fft.irfft(f * np.conjugate(f), n=nfft)[:n]\n",
    "\n",
    "    # Variance\n",
    "    var = acov[0] / n\n",
    "\n",
    "    # Normalize to get correlation\n",
    "    if unbiased:\n",
    "        denom = var * (n - np.arange(n))\n",
    "    else:\n",
    "        denom = var * n\n",
    "\n",
    "    acf = acov / denom\n",
    "    return acf\n",
    "\n",
    "# --- Loop over temperatures ---\n",
    "for T in temperatures:\n",
    "    print(f\"\\nRunning Metropolis at T = {T:.2f}\")\n",
    "\n",
    "    lattice = IsingLattice(Lx, Ly, J=J)\n",
    "    mc = MonteCarlo(lattice)\n",
    "    mc.run_loop(warmup_steps=warmup_steps,steps=steps, T=T, method=method)\n",
    "\n",
    "    acc = mc.acc  \n",
    "\n",
    "    M_vals = np.asarray(acc.magnetization)\n",
    "    M_mean = M_vals.mean()\n",
    "    tau = acc.magnetization_tau_int\n",
    "    M_err = acc.calculate_error(M_vals, tau)\n",
    "\n",
    "    chi = acc.compute_susceptibility(M_vals, T, lattice.N)\n",
    "    # chi_err = acc.(M_vals, T, lattice.N)\n",
    "    \n",
    "\n",
    "    acf=autocorr_fft(acc.magnetization)\n",
    "    acf_time=autocorr_time(acf)\n",
    "    autocorr_time_list.append(acf_time)  \n",
    "    M_err=np.sqrt(np.var(acc.magnetization)*2*acf_time/len(acc.magnetization))\n",
    "\n",
    "    avg_magnetization.append(M_mean)\n",
    "    magnetization_errors.append(M_err)\n",
    "    susceptibilities.append(chi)\n",
    "    susceptibility_errors.append(chi_err)\n",
    "    print(f\"Average Magnetization: {M_mean:.4f} ± {M_err:.4f}\")\n",
    "    print(f\"autocorr_time {acf_time:.4f}\")"
   ]
  },
  {
   "cell_type": "code",
   "execution_count": null,
   "id": "6aa86647",
   "metadata": {},
   "outputs": [
    {
     "data": {
      "image/png": "[encoded data removed]",
      "text/plain": [
       "<Figure size 400x300 with 1 Axes>"
      ]
     },
     "metadata": {},
     "output_type": "display_data"
    }
   ],
   "source": [
    "plt.figure(figsize=(4, 3))\n",
    "plt.plot(temperatures,np.abs(avg_magnetization))\n",
    "plt.errorbar(temperatures, np.abs(avg_magnetization), yerr=magnetization_errors, fmt='o', capsize=5,color='tab:red')\n",
    "plt.ylim([0,1])\n",
    "plt.xlim([temperatures.min(), temperatures.max()])\n",
    "plt.xlabel('Temperature')   \n",
    "plt.ylabel('Average Magnetization')\n",
    "plt.title('Average Magnetization vs Temperature',fontsize=10)\n",
    "plt.minorticks_on()\n",
    "ax=plt.gca()\n",
    "ax.tick_params(which='both', direction='in', top=True, right=True)\n",
    "plt.tight_layout()\n",
    "# plt.savefig('avg_magnetization_vs_temperature.png', dpi=300)"
   ]
  },
  {
   "cell_type": "code",
   "execution_count": null,
   "id": "fe82fa78",
   "metadata": {},
   "outputs": [
    {
     "data": {
      "image/png": "[encoded data removed]",
      "text/plain": [
       "<Figure size 400x300 with 1 Axes>"
      ]
     },
     "metadata": {},
     "output_type": "display_data"
    }
   ],
   "source": [
    "plt.figure(figsize=(4, 3))\n",
    "plt.plot(temperatures, autocorr_time_list, 'o-')\n",
    "plt.yscale('log')\n",
    "plt.ylim([1e2, 1e6])\n",
    "plt.xlim([temperatures.min(), temperatures.max()])\n",
    "plt.xlabel('Temperature')   \n",
    "plt.ylabel('Autocorrelation Time')\n",
    "plt.title('Autocorrelation Time vs Temperature',fontsize=10)\n",
    "plt.minorticks_on()\n",
    "ax=plt.gca()\n",
    "ax.tick_params(which='both', direction='in', top=True, right=True)\n",
    "plt.tight_layout()\n",
    "# plt.savefig('autocorr_time_vs_temperature.png', dpi=300)"
   ]
  },
  {
   "cell_type": "code",
   "execution_count": 3,
   "id": "4bf968fe",
   "metadata": {},
   "outputs": [
    {
     "name": "stderr",
     "output_type": "stream",
     "text": [
      "/home/lisa/Desktop/projects/monte-carlo-PtSe2/lattice.py:69: RuntimeWarning: invalid value encountered in multiply\n",
      "  j1(self.kf * distances) * y1(self.kf * distances)\n"
     ]
    },
    {
     "name": "stdout",
     "output_type": "stream",
     "text": [
      "Starting warmup phase...\n"
     ]
    },
    {
     "name": "stderr",
     "output_type": "stream",
     "text": [
      "100%|██████████| 100000/100000 [00:00<00:00, 107944.63it/s]\n"
     ]
    },
    {
     "name": "stdout",
     "output_type": "stream",
     "text": [
      "Starting production phase...\n"
     ]
    },
    {
     "name": "stderr",
     "output_type": "stream",
     "text": [
      "100%|██████████| 1000000/1000000 [00:32<00:00, 30889.86it/s]\n"
     ]
    },
    {
     "name": "stdout",
     "output_type": "stream",
     "text": [
      "Starting warmup phase...\n"
     ]
    },
    {
     "name": "stderr",
     "output_type": "stream",
     "text": [
      "100%|██████████| 100000/100000 [00:00<00:00, 140182.83it/s]\n"
     ]
    },
    {
     "name": "stdout",
     "output_type": "stream",
     "text": [
      "Starting production phase...\n"
     ]
    },
    {
     "name": "stderr",
     "output_type": "stream",
     "text": [
      "100%|██████████| 1000000/1000000 [00:32<00:00, 30350.17it/s]\n"
     ]
    },
    {
     "name": "stdout",
     "output_type": "stream",
     "text": [
      "Starting warmup phase...\n"
     ]
    },
    {
     "name": "stderr",
     "output_type": "stream",
     "text": [
      "100%|██████████| 100000/100000 [00:00<00:00, 139082.22it/s]\n"
     ]
    },
    {
     "name": "stdout",
     "output_type": "stream",
     "text": [
      "Starting production phase...\n"
     ]
    },
    {
     "name": "stderr",
     "output_type": "stream",
     "text": [
      "100%|██████████| 1000000/1000000 [00:33<00:00, 30126.79it/s]\n"
     ]
    },
    {
     "name": "stdout",
     "output_type": "stream",
     "text": [
      "Starting warmup phase...\n"
     ]
    },
    {
     "name": "stderr",
     "output_type": "stream",
     "text": [
      "100%|██████████| 100000/100000 [00:00<00:00, 140416.92it/s]\n"
     ]
    },
    {
     "name": "stdout",
     "output_type": "stream",
     "text": [
      "Starting production phase...\n"
     ]
    },
    {
     "name": "stderr",
     "output_type": "stream",
     "text": [
      "100%|██████████| 1000000/1000000 [00:32<00:00, 30859.79it/s]\n"
     ]
    },
    {
     "name": "stdout",
     "output_type": "stream",
     "text": [
      "Starting warmup phase...\n"
     ]
    },
    {
     "name": "stderr",
     "output_type": "stream",
     "text": [
      "100%|██████████| 100000/100000 [00:00<00:00, 139329.86it/s]\n"
     ]
    },
    {
     "name": "stdout",
     "output_type": "stream",
     "text": [
      "Starting production phase...\n"
     ]
    },
    {
     "name": "stderr",
     "output_type": "stream",
     "text": [
      "100%|██████████| 1000000/1000000 [00:32<00:00, 30712.88it/s]\n"
     ]
    },
    {
     "name": "stdout",
     "output_type": "stream",
     "text": [
      "Starting warmup phase...\n"
     ]
    },
    {
     "name": "stderr",
     "output_type": "stream",
     "text": [
      "100%|██████████| 100000/100000 [00:00<00:00, 141789.90it/s]\n"
     ]
    },
    {
     "name": "stdout",
     "output_type": "stream",
     "text": [
      "Starting production phase...\n"
     ]
    },
    {
     "name": "stderr",
     "output_type": "stream",
     "text": [
      "100%|██████████| 1000000/1000000 [00:32<00:00, 30356.91it/s]\n"
     ]
    },
    {
     "name": "stdout",
     "output_type": "stream",
     "text": [
      "Starting warmup phase...\n"
     ]
    },
    {
     "name": "stderr",
     "output_type": "stream",
     "text": [
      "100%|██████████| 100000/100000 [00:00<00:00, 139306.68it/s]\n"
     ]
    },
    {
     "name": "stdout",
     "output_type": "stream",
     "text": [
      "Starting production phase...\n"
     ]
    },
    {
     "name": "stderr",
     "output_type": "stream",
     "text": [
      "100%|██████████| 1000000/1000000 [00:32<00:00, 30456.78it/s]\n"
     ]
    },
    {
     "name": "stdout",
     "output_type": "stream",
     "text": [
      "Starting warmup phase...\n"
     ]
    },
    {
     "name": "stderr",
     "output_type": "stream",
     "text": [
      "100%|██████████| 100000/100000 [00:00<00:00, 141703.58it/s]\n"
     ]
    },
    {
     "name": "stdout",
     "output_type": "stream",
     "text": [
      "Starting production phase...\n"
     ]
    },
    {
     "name": "stderr",
     "output_type": "stream",
     "text": [
      "100%|██████████| 1000000/1000000 [00:33<00:00, 29920.07it/s]\n"
     ]
    },
    {
     "name": "stdout",
     "output_type": "stream",
     "text": [
      "Starting warmup phase...\n"
     ]
    },
    {
     "name": "stderr",
     "output_type": "stream",
     "text": [
      "100%|██████████| 100000/100000 [00:00<00:00, 139370.98it/s]\n"
     ]
    },
    {
     "name": "stdout",
     "output_type": "stream",
     "text": [
      "Starting production phase...\n"
     ]
    },
    {
     "name": "stderr",
     "output_type": "stream",
     "text": [
      "100%|██████████| 1000000/1000000 [00:33<00:00, 30120.51it/s]\n"
     ]
    },
    {
     "name": "stdout",
     "output_type": "stream",
     "text": [
      "Starting warmup phase...\n"
     ]
    },
    {
     "name": "stderr",
     "output_type": "stream",
     "text": [
      "100%|██████████| 100000/100000 [00:00<00:00, 140429.47it/s]\n"
     ]
    },
    {
     "name": "stdout",
     "output_type": "stream",
     "text": [
      "Starting production phase...\n"
     ]
    },
    {
     "name": "stderr",
     "output_type": "stream",
     "text": [
      "100%|██████████| 1000000/1000000 [00:32<00:00, 30530.73it/s]\n"
     ]
    },
    {
     "name": "stdout",
     "output_type": "stream",
     "text": [
      "Starting warmup phase...\n"
     ]
    },
    {
     "name": "stderr",
     "output_type": "stream",
     "text": [
      "100%|██████████| 100000/100000 [00:00<00:00, 138245.88it/s]\n"
     ]
    },
    {
     "name": "stdout",
     "output_type": "stream",
     "text": [
      "Starting production phase...\n"
     ]
    },
    {
     "name": "stderr",
     "output_type": "stream",
     "text": [
      "100%|██████████| 1000000/1000000 [00:33<00:00, 29958.05it/s]\n"
     ]
    },
    {
     "name": "stdout",
     "output_type": "stream",
     "text": [
      "Starting warmup phase...\n"
     ]
    },
    {
     "name": "stderr",
     "output_type": "stream",
     "text": [
      "100%|██████████| 100000/100000 [00:00<00:00, 141763.35it/s]\n"
     ]
    },
    {
     "name": "stdout",
     "output_type": "stream",
     "text": [
      "Starting production phase...\n"
     ]
    },
    {
     "name": "stderr",
     "output_type": "stream",
     "text": [
      "100%|██████████| 1000000/1000000 [00:33<00:00, 30174.58it/s]\n"
     ]
    },
    {
     "name": "stdout",
     "output_type": "stream",
     "text": [
      "Starting warmup phase...\n"
     ]
    },
    {
     "name": "stderr",
     "output_type": "stream",
     "text": [
      "100%|██████████| 100000/100000 [00:00<00:00, 139383.20it/s]\n"
     ]
    },
    {
     "name": "stdout",
     "output_type": "stream",
     "text": [
      "Starting production phase...\n"
     ]
    },
    {
     "name": "stderr",
     "output_type": "stream",
     "text": [
      "100%|██████████| 1000000/1000000 [00:32<00:00, 30437.67it/s]\n"
     ]
    },
    {
     "name": "stdout",
     "output_type": "stream",
     "text": [
      "Starting warmup phase...\n"
     ]
    },
    {
     "name": "stderr",
     "output_type": "stream",
     "text": [
      "100%|██████████| 100000/100000 [00:00<00:00, 141885.59it/s]\n"
     ]
    },
    {
     "name": "stdout",
     "output_type": "stream",
     "text": [
      "Starting production phase...\n"
     ]
    },
    {
     "name": "stderr",
     "output_type": "stream",
     "text": [
      "100%|██████████| 1000000/1000000 [00:33<00:00, 29725.43it/s]\n"
     ]
    },
    {
     "name": "stdout",
     "output_type": "stream",
     "text": [
      "Starting warmup phase...\n"
     ]
    },
    {
     "name": "stderr",
     "output_type": "stream",
     "text": [
      "100%|██████████| 100000/100000 [00:00<00:00, 139590.51it/s]\n"
     ]
    },
    {
     "name": "stdout",
     "output_type": "stream",
     "text": [
      "Starting production phase...\n"
     ]
    },
    {
     "name": "stderr",
     "output_type": "stream",
     "text": [
      "100%|██████████| 1000000/1000000 [00:33<00:00, 30022.18it/s]\n"
     ]
    },
    {
     "name": "stdout",
     "output_type": "stream",
     "text": [
      "Starting warmup phase...\n"
     ]
    },
    {
     "name": "stderr",
     "output_type": "stream",
     "text": [
      "100%|██████████| 100000/100000 [00:00<00:00, 142776.41it/s]\n"
     ]
    },
    {
     "name": "stdout",
     "output_type": "stream",
     "text": [
      "Starting production phase...\n"
     ]
    },
    {
     "name": "stderr",
     "output_type": "stream",
     "text": [
      "100%|██████████| 1000000/1000000 [00:33<00:00, 30014.60it/s]\n"
     ]
    },
    {
     "name": "stdout",
     "output_type": "stream",
     "text": [
      "Starting warmup phase...\n"
     ]
    },
    {
     "name": "stderr",
     "output_type": "stream",
     "text": [
      "100%|██████████| 100000/100000 [00:00<00:00, 140216.86it/s]\n"
     ]
    },
    {
     "name": "stdout",
     "output_type": "stream",
     "text": [
      "Starting production phase...\n"
     ]
    },
    {
     "name": "stderr",
     "output_type": "stream",
     "text": [
      "100%|██████████| 1000000/1000000 [00:33<00:00, 30293.09it/s]\n"
     ]
    },
    {
     "name": "stdout",
     "output_type": "stream",
     "text": [
      "Starting warmup phase...\n"
     ]
    },
    {
     "name": "stderr",
     "output_type": "stream",
     "text": [
      "100%|██████████| 100000/100000 [00:00<00:00, 138674.39it/s]\n"
     ]
    },
    {
     "name": "stdout",
     "output_type": "stream",
     "text": [
      "Starting production phase...\n"
     ]
    },
    {
     "name": "stderr",
     "output_type": "stream",
     "text": [
      "100%|██████████| 1000000/1000000 [00:32<00:00, 30361.76it/s]\n"
     ]
    },
    {
     "name": "stdout",
     "output_type": "stream",
     "text": [
      "Starting warmup phase...\n"
     ]
    },
    {
     "name": "stderr",
     "output_type": "stream",
     "text": [
      "100%|██████████| 100000/100000 [00:00<00:00, 137422.46it/s]\n"
     ]
    },
    {
     "name": "stdout",
     "output_type": "stream",
     "text": [
      "Starting production phase...\n"
     ]
    },
    {
     "name": "stderr",
     "output_type": "stream",
     "text": [
      "100%|██████████| 1000000/1000000 [00:33<00:00, 29897.66it/s]\n"
     ]
    },
    {
     "name": "stdout",
     "output_type": "stream",
     "text": [
      "Starting warmup phase...\n"
     ]
    },
    {
     "name": "stderr",
     "output_type": "stream",
     "text": [
      "100%|██████████| 100000/100000 [00:00<00:00, 140383.18it/s]\n"
     ]
    },
    {
     "name": "stdout",
     "output_type": "stream",
     "text": [
      "Starting production phase...\n"
     ]
    },
    {
     "name": "stderr",
     "output_type": "stream",
     "text": [
      "100%|██████████| 1000000/1000000 [00:33<00:00, 29868.62it/s]\n"
     ]
    },
    {
     "name": "stdout",
     "output_type": "stream",
     "text": [
      "Starting warmup phase...\n"
     ]
    },
    {
     "name": "stderr",
     "output_type": "stream",
     "text": [
      "100%|██████████| 100000/100000 [00:00<00:00, 139630.94it/s]\n"
     ]
    },
    {
     "name": "stdout",
     "output_type": "stream",
     "text": [
      "Starting production phase...\n"
     ]
    },
    {
     "name": "stderr",
     "output_type": "stream",
     "text": [
      "100%|██████████| 1000000/1000000 [00:32<00:00, 30387.04it/s]\n"
     ]
    },
    {
     "name": "stdout",
     "output_type": "stream",
     "text": [
      "Starting warmup phase...\n"
     ]
    },
    {
     "name": "stderr",
     "output_type": "stream",
     "text": [
      "100%|██████████| 100000/100000 [00:00<00:00, 141800.01it/s]\n"
     ]
    },
    {
     "name": "stdout",
     "output_type": "stream",
     "text": [
      "Starting production phase...\n"
     ]
    },
    {
     "name": "stderr",
     "output_type": "stream",
     "text": [
      "100%|██████████| 1000000/1000000 [00:34<00:00, 29392.95it/s]\n"
     ]
    },
    {
     "name": "stdout",
     "output_type": "stream",
     "text": [
      "Starting warmup phase...\n"
     ]
    },
    {
     "name": "stderr",
     "output_type": "stream",
     "text": [
      "100%|██████████| 100000/100000 [00:00<00:00, 140120.17it/s]\n"
     ]
    },
    {
     "name": "stdout",
     "output_type": "stream",
     "text": [
      "Starting production phase...\n"
     ]
    },
    {
     "name": "stderr",
     "output_type": "stream",
     "text": [
      "100%|██████████| 1000000/1000000 [00:32<00:00, 30638.16it/s]\n"
     ]
    },
    {
     "name": "stdout",
     "output_type": "stream",
     "text": [
      "Starting warmup phase...\n"
     ]
    },
    {
     "name": "stderr",
     "output_type": "stream",
     "text": [
      "100%|██████████| 100000/100000 [00:00<00:00, 141314.04it/s]\n"
     ]
    },
    {
     "name": "stdout",
     "output_type": "stream",
     "text": [
      "Starting production phase...\n"
     ]
    },
    {
     "name": "stderr",
     "output_type": "stream",
     "text": [
      "100%|██████████| 1000000/1000000 [00:33<00:00, 29876.67it/s]\n"
     ]
    },
    {
     "name": "stdout",
     "output_type": "stream",
     "text": [
      "Starting warmup phase...\n"
     ]
    },
    {
     "name": "stderr",
     "output_type": "stream",
     "text": [
      "100%|██████████| 100000/100000 [00:00<00:00, 139646.24it/s]\n"
     ]
    },
    {
     "name": "stdout",
     "output_type": "stream",
     "text": [
      "Starting production phase...\n"
     ]
    },
    {
     "name": "stderr",
     "output_type": "stream",
     "text": [
      "100%|██████████| 1000000/1000000 [00:32<00:00, 30359.98it/s]\n"
     ]
    },
    {
     "name": "stdout",
     "output_type": "stream",
     "text": [
      "Starting warmup phase...\n"
     ]
    },
    {
     "name": "stderr",
     "output_type": "stream",
     "text": [
      "100%|██████████| 100000/100000 [00:00<00:00, 141616.88it/s]\n"
     ]
    },
    {
     "name": "stdout",
     "output_type": "stream",
     "text": [
      "Starting production phase...\n"
     ]
    },
    {
     "name": "stderr",
     "output_type": "stream",
     "text": [
      "100%|██████████| 1000000/1000000 [00:33<00:00, 29621.14it/s]\n"
     ]
    },
    {
     "name": "stdout",
     "output_type": "stream",
     "text": [
      "Starting warmup phase...\n"
     ]
    },
    {
     "name": "stderr",
     "output_type": "stream",
     "text": [
      "100%|██████████| 100000/100000 [00:00<00:00, 139112.35it/s]\n"
     ]
    },
    {
     "name": "stdout",
     "output_type": "stream",
     "text": [
      "Starting production phase...\n"
     ]
    },
    {
     "name": "stderr",
     "output_type": "stream",
     "text": [
      "100%|██████████| 1000000/1000000 [00:32<00:00, 30415.85it/s]\n"
     ]
    },
    {
     "name": "stdout",
     "output_type": "stream",
     "text": [
      "Starting warmup phase...\n"
     ]
    },
    {
     "name": "stderr",
     "output_type": "stream",
     "text": [
      "100%|██████████| 100000/100000 [00:00<00:00, 141282.72it/s]\n"
     ]
    },
    {
     "name": "stdout",
     "output_type": "stream",
     "text": [
      "Starting production phase...\n"
     ]
    },
    {
     "name": "stderr",
     "output_type": "stream",
     "text": [
      "100%|██████████| 1000000/1000000 [00:33<00:00, 30211.99it/s]\n"
     ]
    },
    {
     "name": "stdout",
     "output_type": "stream",
     "text": [
      "Starting warmup phase...\n"
     ]
    },
    {
     "name": "stderr",
     "output_type": "stream",
     "text": [
      "100%|██████████| 100000/100000 [00:00<00:00, 140571.04it/s]\n"
     ]
    },
    {
     "name": "stdout",
     "output_type": "stream",
     "text": [
      "Starting production phase...\n"
     ]
    },
    {
     "name": "stderr",
     "output_type": "stream",
     "text": [
      "100%|██████████| 1000000/1000000 [00:33<00:00, 30278.24it/s]\n"
     ]
    },
    {
     "name": "stdout",
     "output_type": "stream",
     "text": [
      "Starting warmup phase...\n"
     ]
    },
    {
     "name": "stderr",
     "output_type": "stream",
     "text": [
      "100%|██████████| 100000/100000 [00:00<00:00, 140497.87it/s]\n"
     ]
    },
    {
     "name": "stdout",
     "output_type": "stream",
     "text": [
      "Starting production phase...\n"
     ]
    },
    {
     "name": "stderr",
     "output_type": "stream",
     "text": [
      "100%|██████████| 1000000/1000000 [00:33<00:00, 29741.35it/s]\n"
     ]
    },
    {
     "name": "stdout",
     "output_type": "stream",
     "text": [
      "Starting warmup phase...\n"
     ]
    },
    {
     "name": "stderr",
     "output_type": "stream",
     "text": [
      "100%|██████████| 100000/100000 [00:00<00:00, 141469.95it/s]\n"
     ]
    },
    {
     "name": "stdout",
     "output_type": "stream",
     "text": [
      "Starting production phase...\n"
     ]
    },
    {
     "name": "stderr",
     "output_type": "stream",
     "text": [
      "100%|██████████| 1000000/1000000 [00:32<00:00, 30519.48it/s]\n"
     ]
    },
    {
     "name": "stdout",
     "output_type": "stream",
     "text": [
      "Starting warmup phase...\n"
     ]
    },
    {
     "name": "stderr",
     "output_type": "stream",
     "text": [
      "100%|██████████| 100000/100000 [00:00<00:00, 142736.47it/s]\n"
     ]
    },
    {
     "name": "stdout",
     "output_type": "stream",
     "text": [
      "Starting production phase...\n"
     ]
    },
    {
     "name": "stderr",
     "output_type": "stream",
     "text": [
      "100%|██████████| 1000000/1000000 [00:33<00:00, 29968.65it/s]\n"
     ]
    },
    {
     "name": "stdout",
     "output_type": "stream",
     "text": [
      "Starting warmup phase...\n"
     ]
    },
    {
     "name": "stderr",
     "output_type": "stream",
     "text": [
      "100%|██████████| 100000/100000 [00:00<00:00, 140132.02it/s]\n"
     ]
    },
    {
     "name": "stdout",
     "output_type": "stream",
     "text": [
      "Starting production phase...\n"
     ]
    },
    {
     "name": "stderr",
     "output_type": "stream",
     "text": [
      "100%|██████████| 1000000/1000000 [00:32<00:00, 30743.87it/s]\n"
     ]
    },
    {
     "name": "stdout",
     "output_type": "stream",
     "text": [
      "Starting warmup phase...\n"
     ]
    },
    {
     "name": "stderr",
     "output_type": "stream",
     "text": [
      "100%|██████████| 100000/100000 [00:00<00:00, 140272.00it/s]\n"
     ]
    },
    {
     "name": "stdout",
     "output_type": "stream",
     "text": [
      "Starting production phase...\n"
     ]
    },
    {
     "name": "stderr",
     "output_type": "stream",
     "text": [
      "100%|██████████| 1000000/1000000 [00:32<00:00, 30349.37it/s]\n"
     ]
    },
    {
     "name": "stdout",
     "output_type": "stream",
     "text": [
      "Starting warmup phase...\n"
     ]
    },
    {
     "name": "stderr",
     "output_type": "stream",
     "text": [
      "100%|██████████| 100000/100000 [00:00<00:00, 136483.93it/s]\n"
     ]
    },
    {
     "name": "stdout",
     "output_type": "stream",
     "text": [
      "Starting production phase...\n"
     ]
    },
    {
     "name": "stderr",
     "output_type": "stream",
     "text": [
      "100%|██████████| 1000000/1000000 [00:33<00:00, 29858.16it/s]\n"
     ]
    },
    {
     "name": "stdout",
     "output_type": "stream",
     "text": [
      "Starting warmup phase...\n"
     ]
    },
    {
     "name": "stderr",
     "output_type": "stream",
     "text": [
      "100%|██████████| 100000/100000 [00:00<00:00, 142012.22it/s]\n"
     ]
    },
    {
     "name": "stdout",
     "output_type": "stream",
     "text": [
      "Starting production phase...\n"
     ]
    },
    {
     "name": "stderr",
     "output_type": "stream",
     "text": [
      "100%|██████████| 1000000/1000000 [00:33<00:00, 29786.45it/s]\n"
     ]
    },
    {
     "name": "stdout",
     "output_type": "stream",
     "text": [
      "Starting warmup phase...\n"
     ]
    },
    {
     "name": "stderr",
     "output_type": "stream",
     "text": [
      "100%|██████████| 100000/100000 [00:00<00:00, 137836.68it/s]\n"
     ]
    },
    {
     "name": "stdout",
     "output_type": "stream",
     "text": [
      "Starting production phase...\n"
     ]
    },
    {
     "name": "stderr",
     "output_type": "stream",
     "text": [
      "100%|██████████| 1000000/1000000 [00:33<00:00, 29557.25it/s]\n"
     ]
    },
    {
     "name": "stdout",
     "output_type": "stream",
     "text": [
      "Starting warmup phase...\n"
     ]
    },
    {
     "name": "stderr",
     "output_type": "stream",
     "text": [
      "100%|██████████| 100000/100000 [00:00<00:00, 140055.28it/s]\n"
     ]
    },
    {
     "name": "stdout",
     "output_type": "stream",
     "text": [
      "Starting production phase...\n"
     ]
    },
    {
     "name": "stderr",
     "output_type": "stream",
     "text": [
      "100%|██████████| 1000000/1000000 [00:32<00:00, 30551.22it/s]\n"
     ]
    },
    {
     "name": "stdout",
     "output_type": "stream",
     "text": [
      "Starting warmup phase...\n"
     ]
    },
    {
     "name": "stderr",
     "output_type": "stream",
     "text": [
      "100%|██████████| 100000/100000 [00:00<00:00, 139346.30it/s]\n"
     ]
    },
    {
     "name": "stdout",
     "output_type": "stream",
     "text": [
      "Starting production phase...\n"
     ]
    },
    {
     "name": "stderr",
     "output_type": "stream",
     "text": [
      "100%|██████████| 1000000/1000000 [00:32<00:00, 30383.36it/s]\n"
     ]
    },
    {
     "name": "stdout",
     "output_type": "stream",
     "text": [
      "Starting warmup phase...\n"
     ]
    },
    {
     "name": "stderr",
     "output_type": "stream",
     "text": [
      "100%|██████████| 100000/100000 [00:00<00:00, 141533.11it/s]\n"
     ]
    },
    {
     "name": "stdout",
     "output_type": "stream",
     "text": [
      "Starting production phase...\n"
     ]
    },
    {
     "name": "stderr",
     "output_type": "stream",
     "text": [
      "100%|██████████| 1000000/1000000 [00:33<00:00, 29523.76it/s]\n"
     ]
    },
    {
     "name": "stdout",
     "output_type": "stream",
     "text": [
      "Starting warmup phase...\n"
     ]
    },
    {
     "name": "stderr",
     "output_type": "stream",
     "text": [
      "100%|██████████| 100000/100000 [00:00<00:00, 140241.80it/s]\n"
     ]
    },
    {
     "name": "stdout",
     "output_type": "stream",
     "text": [
      "Starting production phase...\n"
     ]
    },
    {
     "name": "stderr",
     "output_type": "stream",
     "text": [
      "100%|██████████| 1000000/1000000 [00:32<00:00, 30422.03it/s]\n"
     ]
    },
    {
     "name": "stdout",
     "output_type": "stream",
     "text": [
      "Starting warmup phase...\n"
     ]
    },
    {
     "name": "stderr",
     "output_type": "stream",
     "text": [
      "100%|██████████| 100000/100000 [00:00<00:00, 141028.76it/s]\n"
     ]
    },
    {
     "name": "stdout",
     "output_type": "stream",
     "text": [
      "Starting production phase...\n"
     ]
    },
    {
     "name": "stderr",
     "output_type": "stream",
     "text": [
      "100%|██████████| 1000000/1000000 [00:33<00:00, 29852.94it/s]\n"
     ]
    },
    {
     "name": "stdout",
     "output_type": "stream",
     "text": [
      "Starting warmup phase...\n"
     ]
    },
    {
     "name": "stderr",
     "output_type": "stream",
     "text": [
      "100%|██████████| 100000/100000 [00:00<00:00, 140297.20it/s]\n"
     ]
    },
    {
     "name": "stdout",
     "output_type": "stream",
     "text": [
      "Starting production phase...\n"
     ]
    },
    {
     "name": "stderr",
     "output_type": "stream",
     "text": [
      "100%|██████████| 1000000/1000000 [00:33<00:00, 30195.32it/s]\n"
     ]
    },
    {
     "name": "stdout",
     "output_type": "stream",
     "text": [
      "Starting warmup phase...\n"
     ]
    },
    {
     "name": "stderr",
     "output_type": "stream",
     "text": [
      "100%|██████████| 100000/100000 [00:00<00:00, 138654.95it/s]\n"
     ]
    },
    {
     "name": "stdout",
     "output_type": "stream",
     "text": [
      "Starting production phase...\n"
     ]
    },
    {
     "name": "stderr",
     "output_type": "stream",
     "text": [
      "100%|██████████| 1000000/1000000 [00:32<00:00, 30323.74it/s]\n"
     ]
    },
    {
     "name": "stdout",
     "output_type": "stream",
     "text": [
      "Starting warmup phase...\n"
     ]
    },
    {
     "name": "stderr",
     "output_type": "stream",
     "text": [
      "100%|██████████| 100000/100000 [00:00<00:00, 140399.91it/s]\n"
     ]
    },
    {
     "name": "stdout",
     "output_type": "stream",
     "text": [
      "Starting production phase...\n"
     ]
    },
    {
     "name": "stderr",
     "output_type": "stream",
     "text": [
      "100%|██████████| 1000000/1000000 [00:33<00:00, 30203.22it/s]\n"
     ]
    },
    {
     "name": "stdout",
     "output_type": "stream",
     "text": [
      "Starting warmup phase...\n"
     ]
    },
    {
     "name": "stderr",
     "output_type": "stream",
     "text": [
      "100%|██████████| 100000/100000 [00:00<00:00, 140265.48it/s]\n"
     ]
    },
    {
     "name": "stdout",
     "output_type": "stream",
     "text": [
      "Starting production phase...\n"
     ]
    },
    {
     "name": "stderr",
     "output_type": "stream",
     "text": [
      "100%|██████████| 1000000/1000000 [00:34<00:00, 29010.25it/s]\n"
     ]
    },
    {
     "name": "stdout",
     "output_type": "stream",
     "text": [
      "Starting warmup phase...\n"
     ]
    },
    {
     "name": "stderr",
     "output_type": "stream",
     "text": [
      "100%|██████████| 100000/100000 [00:00<00:00, 140708.75it/s]\n"
     ]
    },
    {
     "name": "stdout",
     "output_type": "stream",
     "text": [
      "Starting production phase...\n"
     ]
    },
    {
     "name": "stderr",
     "output_type": "stream",
     "text": [
      "100%|██████████| 1000000/1000000 [00:33<00:00, 30099.99it/s]\n"
     ]
    },
    {
     "name": "stdout",
     "output_type": "stream",
     "text": [
      "Starting warmup phase...\n"
     ]
    },
    {
     "name": "stderr",
     "output_type": "stream",
     "text": [
      "100%|██████████| 100000/100000 [00:00<00:00, 139188.29it/s]\n"
     ]
    },
    {
     "name": "stdout",
     "output_type": "stream",
     "text": [
      "Starting production phase...\n"
     ]
    },
    {
     "name": "stderr",
     "output_type": "stream",
     "text": [
      "100%|██████████| 1000000/1000000 [00:33<00:00, 30033.06it/s]\n"
     ]
    },
    {
     "name": "stdout",
     "output_type": "stream",
     "text": [
      "Starting warmup phase...\n"
     ]
    },
    {
     "name": "stderr",
     "output_type": "stream",
     "text": [
      "100%|██████████| 100000/100000 [00:00<00:00, 142880.49it/s]\n"
     ]
    },
    {
     "name": "stdout",
     "output_type": "stream",
     "text": [
      "Starting production phase...\n"
     ]
    },
    {
     "name": "stderr",
     "output_type": "stream",
     "text": [
      "100%|██████████| 1000000/1000000 [00:34<00:00, 29353.49it/s]\n"
     ]
    },
    {
     "name": "stdout",
     "output_type": "stream",
     "text": [
      "Starting warmup phase...\n"
     ]
    },
    {
     "name": "stderr",
     "output_type": "stream",
     "text": [
      "100%|██████████| 100000/100000 [00:00<00:00, 142475.32it/s]\n"
     ]
    },
    {
     "name": "stdout",
     "output_type": "stream",
     "text": [
      "Starting production phase...\n"
     ]
    },
    {
     "name": "stderr",
     "output_type": "stream",
     "text": [
      "100%|██████████| 1000000/1000000 [00:33<00:00, 30156.07it/s]\n"
     ]
    },
    {
     "name": "stdout",
     "output_type": "stream",
     "text": [
      "Starting warmup phase...\n"
     ]
    },
    {
     "name": "stderr",
     "output_type": "stream",
     "text": [
      "100%|██████████| 100000/100000 [00:00<00:00, 141520.74it/s]\n"
     ]
    },
    {
     "name": "stdout",
     "output_type": "stream",
     "text": [
      "Starting production phase...\n"
     ]
    },
    {
     "name": "stderr",
     "output_type": "stream",
     "text": [
      "100%|██████████| 1000000/1000000 [00:33<00:00, 29889.78it/s]\n"
     ]
    },
    {
     "name": "stdout",
     "output_type": "stream",
     "text": [
      "Starting warmup phase...\n"
     ]
    },
    {
     "name": "stderr",
     "output_type": "stream",
     "text": [
      "100%|██████████| 100000/100000 [00:00<00:00, 142648.80it/s]\n"
     ]
    },
    {
     "name": "stdout",
     "output_type": "stream",
     "text": [
      "Starting production phase...\n"
     ]
    },
    {
     "name": "stderr",
     "output_type": "stream",
     "text": [
      "100%|██████████| 1000000/1000000 [00:32<00:00, 30570.90it/s]\n"
     ]
    },
    {
     "name": "stdout",
     "output_type": "stream",
     "text": [
      "Starting warmup phase...\n"
     ]
    },
    {
     "name": "stderr",
     "output_type": "stream",
     "text": [
      "100%|██████████| 100000/100000 [00:00<00:00, 133580.90it/s]\n"
     ]
    },
    {
     "name": "stdout",
     "output_type": "stream",
     "text": [
      "Starting production phase...\n"
     ]
    },
    {
     "name": "stderr",
     "output_type": "stream",
     "text": [
      "100%|██████████| 1000000/1000000 [00:33<00:00, 29592.13it/s]\n"
     ]
    },
    {
     "name": "stdout",
     "output_type": "stream",
     "text": [
      "Starting warmup phase...\n"
     ]
    },
    {
     "name": "stderr",
     "output_type": "stream",
     "text": [
      "100%|██████████| 100000/100000 [00:00<00:00, 140663.92it/s]\n"
     ]
    },
    {
     "name": "stdout",
     "output_type": "stream",
     "text": [
      "Starting production phase...\n"
     ]
    },
    {
     "name": "stderr",
     "output_type": "stream",
     "text": [
      "100%|██████████| 1000000/1000000 [00:33<00:00, 30089.17it/s]\n"
     ]
    },
    {
     "name": "stdout",
     "output_type": "stream",
     "text": [
      "Starting warmup phase...\n"
     ]
    },
    {
     "name": "stderr",
     "output_type": "stream",
     "text": [
      "100%|██████████| 100000/100000 [00:00<00:00, 140525.88it/s]\n"
     ]
    },
    {
     "name": "stdout",
     "output_type": "stream",
     "text": [
      "Starting production phase...\n"
     ]
    },
    {
     "name": "stderr",
     "output_type": "stream",
     "text": [
      "100%|██████████| 1000000/1000000 [00:33<00:00, 30247.83it/s]\n"
     ]
    },
    {
     "name": "stdout",
     "output_type": "stream",
     "text": [
      "Starting warmup phase...\n"
     ]
    },
    {
     "name": "stderr",
     "output_type": "stream",
     "text": [
      "100%|██████████| 100000/100000 [00:00<00:00, 140201.06it/s]\n"
     ]
    },
    {
     "name": "stdout",
     "output_type": "stream",
     "text": [
      "Starting production phase...\n"
     ]
    },
    {
     "name": "stderr",
     "output_type": "stream",
     "text": [
      "100%|██████████| 1000000/1000000 [00:33<00:00, 30243.72it/s]\n"
     ]
    },
    {
     "name": "stdout",
     "output_type": "stream",
     "text": [
      "Starting warmup phase...\n"
     ]
    },
    {
     "name": "stderr",
     "output_type": "stream",
     "text": [
      "100%|██████████| 100000/100000 [00:00<00:00, 140068.84it/s]\n"
     ]
    },
    {
     "name": "stdout",
     "output_type": "stream",
     "text": [
      "Starting production phase...\n"
     ]
    },
    {
     "name": "stderr",
     "output_type": "stream",
     "text": [
      "100%|██████████| 1000000/1000000 [00:33<00:00, 29899.90it/s]\n"
     ]
    },
    {
     "name": "stdout",
     "output_type": "stream",
     "text": [
      "Starting warmup phase...\n"
     ]
    },
    {
     "name": "stderr",
     "output_type": "stream",
     "text": [
      "100%|██████████| 100000/100000 [00:00<00:00, 140900.04it/s]\n"
     ]
    },
    {
     "name": "stdout",
     "output_type": "stream",
     "text": [
      "Starting production phase...\n"
     ]
    },
    {
     "name": "stderr",
     "output_type": "stream",
     "text": [
      "100%|██████████| 1000000/1000000 [00:33<00:00, 29781.53it/s]\n"
     ]
    },
    {
     "name": "stdout",
     "output_type": "stream",
     "text": [
      "Starting warmup phase...\n"
     ]
    },
    {
     "name": "stderr",
     "output_type": "stream",
     "text": [
      "100%|██████████| 100000/100000 [00:00<00:00, 140756.39it/s]\n"
     ]
    },
    {
     "name": "stdout",
     "output_type": "stream",
     "text": [
      "Starting production phase...\n"
     ]
    },
    {
     "name": "stderr",
     "output_type": "stream",
     "text": [
      "100%|██████████| 1000000/1000000 [00:33<00:00, 30187.03it/s]\n"
     ]
    },
    {
     "name": "stdout",
     "output_type": "stream",
     "text": [
      "Starting warmup phase...\n"
     ]
    },
    {
     "name": "stderr",
     "output_type": "stream",
     "text": [
      "100%|██████████| 100000/100000 [00:00<00:00, 142987.02it/s]\n"
     ]
    },
    {
     "name": "stdout",
     "output_type": "stream",
     "text": [
      "Starting production phase...\n"
     ]
    },
    {
     "name": "stderr",
     "output_type": "stream",
     "text": [
      "100%|██████████| 1000000/1000000 [00:32<00:00, 30313.83it/s]\n"
     ]
    }
   ],
   "source": [
    "# Retry the simulation after restoring module files\n",
    "from lattice import Lattice\n",
    "from monte_carlo import MonteCarlo\n",
    "from accumulator import Accumulator\n",
    "\n",
    "# --- Analysis Functions ---\n",
    "def autocorr(x):\n",
    "    x = np.asarray(x, float)\n",
    "    x = x - x.mean()\n",
    "    n = len(x)\n",
    "    result = np.correlate(x, x, mode='full')\n",
    "    acov = result[n - 1:]   # lags 0..n-1\n",
    "    acov /= np.arange(n, 0, -1)   # unbiased: divide by N-k\n",
    "    return acov / acov[0]         # normalize → acf[0]=1\n",
    "\n",
    "def autocorr_time(correlation):\n",
    "    for i, val in enumerate(correlation[1:], 1):\n",
    "        if val < 0:\n",
    "            return 1 + 2 * np.sum(correlation[1:i])\n",
    "    return 1 + 2 * np.sum(correlation[1:])\n",
    "\n",
    "# --- Simulation Parameters ---\n",
    "temperatures = np.linspace(0.1, 10.0, 60)\n",
    "rows, cols = 20, 20\n",
    "doping = 0.3\n",
    "kf = 0.3\n",
    "J0 = -1.0\n",
    "warmup_steps=100_000\n",
    "steps = 1_000_000\n",
    "\n",
    "susceptibilities = []\n",
    "susceptibility_errors = []\n",
    "magnetizations = []\n",
    "magnetization_errors = []\n",
    "autocorr_times = []\n",
    "\n",
    "for T in temperatures:\n",
    "    lattice = Lattice(rows, cols, doping, kf=kf, J0=J0)\n",
    "    mc = MonteCarlo(lattice)\n",
    "    mc.run_loop(warmup_steps=warmup_steps,steps=steps, T=T, method=\"metropolis\")\n",
    "\n",
    "    mags = mc.acc.magnetization\n",
    "    tau = autocorr_time(autocorr(mags))\n",
    "\n",
    "    magnetizations.append(np.mean(mags))\n",
    "    magnetization_errors.append(mc.acc.calculate_error(mags, tau))\n",
    "\n",
    "    chi = mc.acc.compute_susceptibility(mags, T, lattice.N)\n",
    "    susceptibilities.append(chi)\n",
    "    susceptibility_errors.append(mc.acc.calculate_error(susceptibilities, tau))\n",
    "\n",
    "    autocorr_times.append(tau)\n"
   ]
  },
  {
   "cell_type": "code",
   "execution_count": 5,
   "id": "07d78a58",
   "metadata": {},
   "outputs": [
    {
     "name": "stdout",
     "output_type": "stream",
     "text": [
      "\n",
      "Running Metropolis at T = 1.50\n",
      "Starting warmup phase...\n"
     ]
    },
    {
     "name": "stderr",
     "output_type": "stream",
     "text": [
      "100%|██████████| 100000/100000 [00:01<00:00, 66251.76it/s]\n"
     ]
    },
    {
     "name": "stdout",
     "output_type": "stream",
     "text": [
      "Starting production phase...\n"
     ]
    },
    {
     "name": "stderr",
     "output_type": "stream",
     "text": [
      "100%|██████████| 1000000/1000000 [00:21<00:00, 47083.05it/s]\n"
     ]
    },
    {
     "name": "stdout",
     "output_type": "stream",
     "text": [
      "Average Magnetization: 0.9868 ± 0.0005\n",
      "autocorr_time 187.1862\n",
      "\n",
      "Running Metropolis at T = 1.55\n",
      "Starting warmup phase...\n"
     ]
    },
    {
     "name": "stderr",
     "output_type": "stream",
     "text": [
      "100%|██████████| 100000/100000 [00:00<00:00, 106577.77it/s]\n"
     ]
    },
    {
     "name": "stdout",
     "output_type": "stream",
     "text": [
      "Starting production phase...\n"
     ]
    },
    {
     "name": "stderr",
     "output_type": "stream",
     "text": [
      "100%|██████████| 1000000/1000000 [00:18<00:00, 53777.95it/s]\n"
     ]
    },
    {
     "name": "stdout",
     "output_type": "stream",
     "text": [
      "Average Magnetization: -0.9836 ± 0.0006\n",
      "autocorr_time 203.1320\n",
      "\n",
      "Running Metropolis at T = 1.60\n",
      "Starting warmup phase...\n"
     ]
    },
    {
     "name": "stderr",
     "output_type": "stream",
     "text": [
      "100%|██████████| 100000/100000 [00:00<00:00, 105264.61it/s]\n"
     ]
    },
    {
     "name": "stdout",
     "output_type": "stream",
     "text": [
      "Starting production phase...\n"
     ]
    },
    {
     "name": "stderr",
     "output_type": "stream",
     "text": [
      "100%|██████████| 1000000/1000000 [00:18<00:00, 53843.81it/s]\n"
     ]
    },
    {
     "name": "stdout",
     "output_type": "stream",
     "text": [
      "Average Magnetization: 0.9791 ± 0.0007\n",
      "autocorr_time 234.0320\n",
      "\n",
      "Running Metropolis at T = 1.65\n",
      "Starting warmup phase...\n"
     ]
    },
    {
     "name": "stderr",
     "output_type": "stream",
     "text": [
      "100%|██████████| 100000/100000 [00:00<00:00, 106522.95it/s]\n"
     ]
    },
    {
     "name": "stdout",
     "output_type": "stream",
     "text": [
      "Starting production phase...\n"
     ]
    },
    {
     "name": "stderr",
     "output_type": "stream",
     "text": [
      "100%|██████████| 1000000/1000000 [00:18<00:00, 55073.75it/s]\n"
     ]
    },
    {
     "name": "stdout",
     "output_type": "stream",
     "text": [
      "Average Magnetization: -0.9746 ± 0.0010\n",
      "autocorr_time 300.1593\n",
      "\n",
      "Running Metropolis at T = 1.70\n",
      "Starting warmup phase...\n"
     ]
    },
    {
     "name": "stderr",
     "output_type": "stream",
     "text": [
      "100%|██████████| 100000/100000 [00:00<00:00, 107873.69it/s]\n"
     ]
    },
    {
     "name": "stdout",
     "output_type": "stream",
     "text": [
      "Starting production phase...\n"
     ]
    },
    {
     "name": "stderr",
     "output_type": "stream",
     "text": [
      "100%|██████████| 1000000/1000000 [00:18<00:00, 53735.50it/s]\n"
     ]
    },
    {
     "name": "stdout",
     "output_type": "stream",
     "text": [
      "Average Magnetization: -0.9699 ± 0.0009\n",
      "autocorr_time 236.2155\n",
      "\n",
      "Running Metropolis at T = 1.75\n",
      "Starting warmup phase...\n"
     ]
    },
    {
     "name": "stderr",
     "output_type": "stream",
     "text": [
      "100%|██████████| 100000/100000 [00:00<00:00, 111509.03it/s]\n"
     ]
    },
    {
     "name": "stdout",
     "output_type": "stream",
     "text": [
      "Starting production phase...\n"
     ]
    },
    {
     "name": "stderr",
     "output_type": "stream",
     "text": [
      "100%|██████████| 1000000/1000000 [00:18<00:00, 55355.46it/s]\n"
     ]
    },
    {
     "name": "stdout",
     "output_type": "stream",
     "text": [
      "Average Magnetization: -0.9621 ± 0.0014\n",
      "autocorr_time 358.5045\n",
      "\n",
      "Running Metropolis at T = 1.80\n",
      "Starting warmup phase...\n"
     ]
    },
    {
     "name": "stderr",
     "output_type": "stream",
     "text": [
      "100%|██████████| 100000/100000 [00:00<00:00, 107237.06it/s]\n"
     ]
    },
    {
     "name": "stdout",
     "output_type": "stream",
     "text": [
      "Starting production phase...\n"
     ]
    },
    {
     "name": "stderr",
     "output_type": "stream",
     "text": [
      "100%|██████████| 1000000/1000000 [00:18<00:00, 54422.29it/s]\n"
     ]
    },
    {
     "name": "stdout",
     "output_type": "stream",
     "text": [
      "Average Magnetization: 0.9547 ± 0.0019\n",
      "autocorr_time 470.3909\n",
      "\n",
      "Running Metropolis at T = 1.85\n",
      "Starting warmup phase...\n"
     ]
    },
    {
     "name": "stderr",
     "output_type": "stream",
     "text": [
      "100%|██████████| 100000/100000 [00:00<00:00, 105181.95it/s]\n"
     ]
    },
    {
     "name": "stdout",
     "output_type": "stream",
     "text": [
      "Starting production phase...\n"
     ]
    },
    {
     "name": "stderr",
     "output_type": "stream",
     "text": [
      "100%|██████████| 1000000/1000000 [00:18<00:00, 54462.23it/s]\n"
     ]
    },
    {
     "name": "stdout",
     "output_type": "stream",
     "text": [
      "Average Magnetization: -0.9474 ± 0.0020\n",
      "autocorr_time 438.9346\n",
      "\n",
      "Running Metropolis at T = 1.90\n",
      "Starting warmup phase...\n"
     ]
    },
    {
     "name": "stderr",
     "output_type": "stream",
     "text": [
      "100%|██████████| 100000/100000 [00:00<00:00, 110435.33it/s]\n"
     ]
    },
    {
     "name": "stdout",
     "output_type": "stream",
     "text": [
      "Starting production phase...\n"
     ]
    },
    {
     "name": "stderr",
     "output_type": "stream",
     "text": [
      "100%|██████████| 1000000/1000000 [00:18<00:00, 53016.61it/s]\n"
     ]
    },
    {
     "name": "stdout",
     "output_type": "stream",
     "text": [
      "Average Magnetization: -0.9408 ± 0.0019\n",
      "autocorr_time 376.4854\n",
      "\n",
      "Running Metropolis at T = 1.95\n",
      "Starting warmup phase...\n"
     ]
    },
    {
     "name": "stderr",
     "output_type": "stream",
     "text": [
      "100%|██████████| 100000/100000 [00:01<00:00, 90078.53it/s]\n"
     ]
    },
    {
     "name": "stdout",
     "output_type": "stream",
     "text": [
      "Starting production phase...\n"
     ]
    },
    {
     "name": "stderr",
     "output_type": "stream",
     "text": [
      "100%|██████████| 1000000/1000000 [00:18<00:00, 54337.89it/s]\n"
     ]
    },
    {
     "name": "stdout",
     "output_type": "stream",
     "text": [
      "Average Magnetization: -0.8424 ± 0.0914\n",
      "autocorr_time 27072.7442\n",
      "\n",
      "Running Metropolis at T = 2.00\n",
      "Starting warmup phase...\n"
     ]
    },
    {
     "name": "stderr",
     "output_type": "stream",
     "text": [
      "100%|██████████| 100000/100000 [00:00<00:00, 108653.66it/s]\n"
     ]
    },
    {
     "name": "stdout",
     "output_type": "stream",
     "text": [
      "Starting production phase...\n"
     ]
    },
    {
     "name": "stderr",
     "output_type": "stream",
     "text": [
      "100%|██████████| 1000000/1000000 [00:18<00:00, 54001.59it/s]\n"
     ]
    },
    {
     "name": "stdout",
     "output_type": "stream",
     "text": [
      "Average Magnetization: -0.0352 ± 0.6073\n",
      "autocorr_time 219130.7471\n",
      "\n",
      "Running Metropolis at T = 2.05\n",
      "Starting warmup phase...\n"
     ]
    },
    {
     "name": "stderr",
     "output_type": "stream",
     "text": [
      "100%|██████████| 100000/100000 [00:00<00:00, 108237.70it/s]\n"
     ]
    },
    {
     "name": "stdout",
     "output_type": "stream",
     "text": [
      "Starting production phase...\n"
     ]
    },
    {
     "name": "stderr",
     "output_type": "stream",
     "text": [
      "100%|██████████| 1000000/1000000 [00:18<00:00, 53701.58it/s]\n"
     ]
    },
    {
     "name": "stdout",
     "output_type": "stream",
     "text": [
      "Average Magnetization: -0.0753 ± 0.5065\n",
      "autocorr_time 157919.3790\n",
      "\n",
      "Running Metropolis at T = 2.10\n",
      "Starting warmup phase...\n"
     ]
    },
    {
     "name": "stderr",
     "output_type": "stream",
     "text": [
      "100%|██████████| 100000/100000 [00:00<00:00, 103659.20it/s]\n"
     ]
    },
    {
     "name": "stdout",
     "output_type": "stream",
     "text": [
      "Starting production phase...\n"
     ]
    },
    {
     "name": "stderr",
     "output_type": "stream",
     "text": [
      "100%|██████████| 1000000/1000000 [00:17<00:00, 56533.86it/s]\n"
     ]
    },
    {
     "name": "stdout",
     "output_type": "stream",
     "text": [
      "Average Magnetization: 0.0986 ± 0.2914\n",
      "autocorr_time 54589.2030\n",
      "\n",
      "Running Metropolis at T = 2.15\n",
      "Starting warmup phase...\n"
     ]
    },
    {
     "name": "stderr",
     "output_type": "stream",
     "text": [
      "100%|██████████| 100000/100000 [00:00<00:00, 108480.19it/s]\n"
     ]
    },
    {
     "name": "stdout",
     "output_type": "stream",
     "text": [
      "Starting production phase...\n"
     ]
    },
    {
     "name": "stderr",
     "output_type": "stream",
     "text": [
      "100%|██████████| 1000000/1000000 [00:18<00:00, 55105.51it/s]\n"
     ]
    },
    {
     "name": "stdout",
     "output_type": "stream",
     "text": [
      "Average Magnetization: 0.3572 ± 0.3763\n",
      "autocorr_time 113139.8753\n",
      "\n",
      "Running Metropolis at T = 2.20\n",
      "Starting warmup phase...\n"
     ]
    },
    {
     "name": "stderr",
     "output_type": "stream",
     "text": [
      "100%|██████████| 100000/100000 [00:00<00:00, 100887.23it/s]\n"
     ]
    },
    {
     "name": "stdout",
     "output_type": "stream",
     "text": [
      "Starting production phase...\n"
     ]
    },
    {
     "name": "stderr",
     "output_type": "stream",
     "text": [
      "100%|██████████| 1000000/1000000 [00:18<00:00, 55498.66it/s]\n"
     ]
    },
    {
     "name": "stdout",
     "output_type": "stream",
     "text": [
      "Average Magnetization: -0.0217 ± 0.2359\n",
      "autocorr_time 39588.1613\n",
      "\n",
      "Running Metropolis at T = 2.25\n",
      "Starting warmup phase...\n"
     ]
    },
    {
     "name": "stderr",
     "output_type": "stream",
     "text": [
      "100%|██████████| 100000/100000 [00:00<00:00, 105034.93it/s]\n"
     ]
    },
    {
     "name": "stdout",
     "output_type": "stream",
     "text": [
      "Starting production phase...\n"
     ]
    },
    {
     "name": "stderr",
     "output_type": "stream",
     "text": [
      "100%|██████████| 1000000/1000000 [00:18<00:00, 55554.92it/s]\n"
     ]
    },
    {
     "name": "stdout",
     "output_type": "stream",
     "text": [
      "Average Magnetization: -0.0684 ± 0.2070\n",
      "autocorr_time 32397.3214\n",
      "\n",
      "Running Metropolis at T = 2.30\n",
      "Starting warmup phase...\n"
     ]
    },
    {
     "name": "stderr",
     "output_type": "stream",
     "text": [
      "100%|██████████| 100000/100000 [00:00<00:00, 111680.14it/s]\n"
     ]
    },
    {
     "name": "stdout",
     "output_type": "stream",
     "text": [
      "Starting production phase...\n"
     ]
    },
    {
     "name": "stderr",
     "output_type": "stream",
     "text": [
      "100%|██████████| 1000000/1000000 [00:18<00:00, 55100.83it/s]\n"
     ]
    },
    {
     "name": "stdout",
     "output_type": "stream",
     "text": [
      "Average Magnetization: -0.1033 ± 0.1475\n",
      "autocorr_time 17588.9541\n",
      "\n",
      "Running Metropolis at T = 2.35\n",
      "Starting warmup phase...\n"
     ]
    },
    {
     "name": "stderr",
     "output_type": "stream",
     "text": [
      "100%|██████████| 100000/100000 [00:00<00:00, 107329.15it/s]\n"
     ]
    },
    {
     "name": "stdout",
     "output_type": "stream",
     "text": [
      "Starting production phase...\n"
     ]
    },
    {
     "name": "stderr",
     "output_type": "stream",
     "text": [
      "100%|██████████| 1000000/1000000 [00:18<00:00, 55172.88it/s]\n"
     ]
    },
    {
     "name": "stdout",
     "output_type": "stream",
     "text": [
      "Average Magnetization: 0.0807 ± 0.1305\n",
      "autocorr_time 15141.1026\n",
      "\n",
      "Running Metropolis at T = 2.40\n",
      "Starting warmup phase...\n"
     ]
    },
    {
     "name": "stderr",
     "output_type": "stream",
     "text": [
      "100%|██████████| 100000/100000 [00:00<00:00, 104812.74it/s]\n"
     ]
    },
    {
     "name": "stdout",
     "output_type": "stream",
     "text": [
      "Starting production phase...\n"
     ]
    },
    {
     "name": "stderr",
     "output_type": "stream",
     "text": [
      "100%|██████████| 1000000/1000000 [00:18<00:00, 54458.63it/s]\n"
     ]
    },
    {
     "name": "stdout",
     "output_type": "stream",
     "text": [
      "Average Magnetization: -0.0595 ± 0.1366\n",
      "autocorr_time 17549.3942\n",
      "\n",
      "Running Metropolis at T = 2.45\n",
      "Starting warmup phase...\n"
     ]
    },
    {
     "name": "stderr",
     "output_type": "stream",
     "text": [
      "100%|██████████| 100000/100000 [00:00<00:00, 109471.35it/s]\n"
     ]
    },
    {
     "name": "stdout",
     "output_type": "stream",
     "text": [
      "Starting production phase...\n"
     ]
    },
    {
     "name": "stderr",
     "output_type": "stream",
     "text": [
      "100%|██████████| 1000000/1000000 [00:18<00:00, 53894.34it/s]\n"
     ]
    },
    {
     "name": "stdout",
     "output_type": "stream",
     "text": [
      "Average Magnetization: -0.0008 ± 0.1014\n",
      "autocorr_time 10679.2561\n",
      "\n",
      "Running Metropolis at T = 2.50\n",
      "Starting warmup phase...\n"
     ]
    },
    {
     "name": "stderr",
     "output_type": "stream",
     "text": [
      "100%|██████████| 100000/100000 [00:00<00:00, 109938.12it/s]\n"
     ]
    },
    {
     "name": "stdout",
     "output_type": "stream",
     "text": [
      "Starting production phase...\n"
     ]
    },
    {
     "name": "stderr",
     "output_type": "stream",
     "text": [
      "100%|██████████| 1000000/1000000 [00:18<00:00, 54938.22it/s]\n"
     ]
    },
    {
     "name": "stdout",
     "output_type": "stream",
     "text": [
      "Average Magnetization: -0.0191 ± 0.0798\n",
      "autocorr_time 7532.1746\n",
      "\n",
      "Running Metropolis at T = 2.55\n",
      "Starting warmup phase...\n"
     ]
    },
    {
     "name": "stderr",
     "output_type": "stream",
     "text": [
      "100%|██████████| 100000/100000 [00:01<00:00, 97958.46it/s]\n"
     ]
    },
    {
     "name": "stdout",
     "output_type": "stream",
     "text": [
      "Starting production phase...\n"
     ]
    },
    {
     "name": "stderr",
     "output_type": "stream",
     "text": [
      "100%|██████████| 1000000/1000000 [00:17<00:00, 56176.78it/s]\n"
     ]
    },
    {
     "name": "stdout",
     "output_type": "stream",
     "text": [
      "Average Magnetization: -0.0221 ± 0.0662\n",
      "autocorr_time 5684.1412\n",
      "\n",
      "Running Metropolis at T = 2.60\n",
      "Starting warmup phase...\n"
     ]
    },
    {
     "name": "stderr",
     "output_type": "stream",
     "text": [
      "100%|██████████| 100000/100000 [00:00<00:00, 110552.23it/s]\n"
     ]
    },
    {
     "name": "stdout",
     "output_type": "stream",
     "text": [
      "Starting production phase...\n"
     ]
    },
    {
     "name": "stderr",
     "output_type": "stream",
     "text": [
      "100%|██████████| 1000000/1000000 [00:18<00:00, 54132.81it/s]\n"
     ]
    },
    {
     "name": "stdout",
     "output_type": "stream",
     "text": [
      "Average Magnetization: -0.0484 ± 0.0604\n",
      "autocorr_time 5073.3698\n",
      "\n",
      "Running Metropolis at T = 2.65\n",
      "Starting warmup phase...\n"
     ]
    },
    {
     "name": "stderr",
     "output_type": "stream",
     "text": [
      "100%|██████████| 100000/100000 [00:00<00:00, 113574.47it/s]\n"
     ]
    },
    {
     "name": "stdout",
     "output_type": "stream",
     "text": [
      "Starting production phase...\n"
     ]
    },
    {
     "name": "stderr",
     "output_type": "stream",
     "text": [
      "100%|██████████| 1000000/1000000 [00:18<00:00, 54919.02it/s]\n"
     ]
    },
    {
     "name": "stdout",
     "output_type": "stream",
     "text": [
      "Average Magnetization: 0.0756 ± 0.0524\n",
      "autocorr_time 4192.4253\n",
      "\n",
      "Running Metropolis at T = 2.70\n",
      "Starting warmup phase...\n"
     ]
    },
    {
     "name": "stderr",
     "output_type": "stream",
     "text": [
      "100%|██████████| 100000/100000 [00:00<00:00, 109913.57it/s]\n"
     ]
    },
    {
     "name": "stdout",
     "output_type": "stream",
     "text": [
      "Starting production phase...\n"
     ]
    },
    {
     "name": "stderr",
     "output_type": "stream",
     "text": [
      "100%|██████████| 1000000/1000000 [00:18<00:00, 54424.23it/s]\n"
     ]
    },
    {
     "name": "stdout",
     "output_type": "stream",
     "text": [
      "Average Magnetization: 0.0312 ± 0.0423\n",
      "autocorr_time 3200.0664\n",
      "\n",
      "Running Metropolis at T = 2.75\n",
      "Starting warmup phase...\n"
     ]
    },
    {
     "name": "stderr",
     "output_type": "stream",
     "text": [
      "100%|██████████| 100000/100000 [00:00<00:00, 104923.68it/s]\n"
     ]
    },
    {
     "name": "stdout",
     "output_type": "stream",
     "text": [
      "Starting production phase...\n"
     ]
    },
    {
     "name": "stderr",
     "output_type": "stream",
     "text": [
      "100%|██████████| 1000000/1000000 [00:18<00:00, 55054.27it/s]\n"
     ]
    },
    {
     "name": "stdout",
     "output_type": "stream",
     "text": [
      "Average Magnetization: 0.0315 ± 0.0498\n",
      "autocorr_time 4480.0082\n",
      "\n",
      "Running Metropolis at T = 2.80\n",
      "Starting warmup phase...\n"
     ]
    },
    {
     "name": "stderr",
     "output_type": "stream",
     "text": [
      "100%|██████████| 100000/100000 [00:00<00:00, 111722.89it/s]\n"
     ]
    },
    {
     "name": "stdout",
     "output_type": "stream",
     "text": [
      "Starting production phase...\n"
     ]
    },
    {
     "name": "stderr",
     "output_type": "stream",
     "text": [
      "100%|██████████| 1000000/1000000 [00:18<00:00, 54508.79it/s]\n"
     ]
    },
    {
     "name": "stdout",
     "output_type": "stream",
     "text": [
      "Average Magnetization: -0.0009 ± 0.0324\n",
      "autocorr_time 2264.1050\n",
      "\n",
      "Running Metropolis at T = 2.85\n",
      "Starting warmup phase...\n"
     ]
    },
    {
     "name": "stderr",
     "output_type": "stream",
     "text": [
      "100%|██████████| 100000/100000 [00:01<00:00, 99931.67it/s]\n"
     ]
    },
    {
     "name": "stdout",
     "output_type": "stream",
     "text": [
      "Starting production phase...\n"
     ]
    },
    {
     "name": "stderr",
     "output_type": "stream",
     "text": [
      "100%|██████████| 1000000/1000000 [00:18<00:00, 54750.58it/s]\n"
     ]
    },
    {
     "name": "stdout",
     "output_type": "stream",
     "text": [
      "Average Magnetization: -0.0287 ± 0.0309\n",
      "autocorr_time 2247.3520\n",
      "\n",
      "Running Metropolis at T = 2.90\n",
      "Starting warmup phase...\n"
     ]
    },
    {
     "name": "stderr",
     "output_type": "stream",
     "text": [
      "100%|██████████| 100000/100000 [00:00<00:00, 111387.20it/s]\n"
     ]
    },
    {
     "name": "stdout",
     "output_type": "stream",
     "text": [
      "Starting production phase...\n"
     ]
    },
    {
     "name": "stderr",
     "output_type": "stream",
     "text": [
      "100%|██████████| 1000000/1000000 [00:18<00:00, 53730.20it/s]\n"
     ]
    },
    {
     "name": "stdout",
     "output_type": "stream",
     "text": [
      "Average Magnetization: 0.0143 ± 0.0285\n",
      "autocorr_time 1995.3204\n",
      "\n",
      "Running Metropolis at T = 2.95\n",
      "Starting warmup phase...\n"
     ]
    },
    {
     "name": "stderr",
     "output_type": "stream",
     "text": [
      "100%|██████████| 100000/100000 [00:00<00:00, 113125.64it/s]\n"
     ]
    },
    {
     "name": "stdout",
     "output_type": "stream",
     "text": [
      "Starting production phase...\n"
     ]
    },
    {
     "name": "stderr",
     "output_type": "stream",
     "text": [
      "100%|██████████| 1000000/1000000 [00:18<00:00, 54556.84it/s]\n"
     ]
    },
    {
     "name": "stdout",
     "output_type": "stream",
     "text": [
      "Average Magnetization: -0.0098 ± 0.0249\n",
      "autocorr_time 1652.0405\n",
      "\n",
      "Running Metropolis at T = 3.00\n",
      "Starting warmup phase...\n"
     ]
    },
    {
     "name": "stderr",
     "output_type": "stream",
     "text": [
      "100%|██████████| 100000/100000 [00:00<00:00, 103528.71it/s]\n"
     ]
    },
    {
     "name": "stdout",
     "output_type": "stream",
     "text": [
      "Starting production phase...\n"
     ]
    },
    {
     "name": "stderr",
     "output_type": "stream",
     "text": [
      "100%|██████████| 1000000/1000000 [00:18<00:00, 54562.08it/s]\n"
     ]
    },
    {
     "name": "stdout",
     "output_type": "stream",
     "text": [
      "Average Magnetization: 0.0058 ± 0.0214\n",
      "autocorr_time 1383.8867\n"
     ]
    }
   ],
   "source": [
    "import numpy as np\n",
    "import matplotlib.pyplot as plt\n",
    "from ising_lattice import IsingLattice\n",
    "from monte_carlo import MonteCarlo\n",
    "\n",
    "temperatures = np.linspace(1.5, 3.0, 31)  # Temperature range\n",
    "Lx = 8\n",
    "Ly = 8\n",
    "J = -1.0\n",
    "steps = 1_000_000  # production steps after warmup\n",
    "warmup_steps = 100_000  # warmup steps\n",
    "method = \"metropolis\"\n",
    "\n",
    "# --- Storage ---\n",
    "avg_magnetization = []\n",
    "magnetization_errors = []\n",
    "susceptibilities = []\n",
    "susceptibility_errors = []\n",
    "autocorr_time_list = []\n",
    "def autocorr(x):\n",
    "    x = np.asarray(x, float)\n",
    "    x = x - x.mean()\n",
    "    n = len(x)\n",
    "    result = np.correlate(x, x, mode='full')\n",
    "    acov = result[n-1:]   # lags 0..n-1\n",
    "    acov /= np.arange(n, 0, -1)   # unbiased: divide by N-k\n",
    "    return acov / acov[0]         # normalize → acf[0]=1\n",
    "\n",
    "def autocorr_time(correlation):\n",
    "    for i, val in enumerate(correlation[1:], 1):\n",
    "        if val < 0:\n",
    "            return 1 + 2 * np.sum(correlation[1:i])\n",
    "    return 1 + 2 * np.sum(correlation[1:])\n",
    "\n",
    "def autocorr_fft(x, unbiased=True):\n",
    "    \"\"\"\n",
    "    Compute autocorrelation of a 1D array using FFT (fast, O(n log n)).\n",
    "    \n",
    "    Returns:\n",
    "        acf : array of length n (lags 0..n-1), normalized so acf[0] = 1.\n",
    "    \n",
    "    Parameters:\n",
    "        unbiased : if True, normalize by (n - lag),\n",
    "                   else normalize by n (biased).\n",
    "    \"\"\"\n",
    "    x = np.asarray(x, dtype=float)\n",
    "    n = x.size\n",
    "    x = x - x.mean()\n",
    "\n",
    "    # FFT length (next power of two >= 2n-1 for linear convolution)\n",
    "    nfft = 1 << (2*n - 1).bit_length()\n",
    "\n",
    "    # Power spectrum\n",
    "    f = np.fft.rfft(x, n=nfft)\n",
    "    acov = np.fft.irfft(f * np.conjugate(f), n=nfft)[:n]\n",
    "\n",
    "    # Variance\n",
    "    var = acov[0] / n\n",
    "\n",
    "    # Normalize to get correlation\n",
    "    if unbiased:\n",
    "        denom = var * (n - np.arange(n))\n",
    "    else:\n",
    "        denom = var * n\n",
    "\n",
    "    acf = acov / denom\n",
    "    return acf\n",
    "\n",
    "# --- Loop over temperatures ---\n",
    "for T in temperatures:\n",
    "    print(f\"\\nRunning Metropolis at T = {T:.2f}\")\n",
    "\n",
    "    lattice = IsingLattice(Lx, Ly, J=J)\n",
    "    mc = MonteCarlo(lattice)\n",
    "    mc.run_loop(warmup_steps=warmup_steps,steps=steps, T=T, method=method)\n",
    "\n",
    "    acc = mc.acc  \n",
    "\n",
    "    M_vals = np.asarray(acc.magnetization)\n",
    "    M_mean = M_vals.mean()\n",
    "    tau = acc.magnetization_tau_int\n",
    "    M_err = acc.calculate_error(M_vals, tau)\n",
    "\n",
    "    chi = np.mean(acc.susceptibility)\n",
    "    # chi_err = acc.(M_vals, T, lattice.N)\n",
    "    \n",
    "\n",
    "    acf=autocorr_fft(acc.magnetization)\n",
    "    acf_time=autocorr_time(acf)\n",
    "    autocorr_time_list.append(acf_time)  \n",
    "    M_err=np.sqrt(np.var(acc.magnetization)*2*acf_time/len(acc.magnetization))\n",
    "    chi_err=np.sqrt(np.var(acc.susceptibility)*2*acf_time/len(acc.susceptibility))\n",
    "\n",
    "\n",
    "    avg_magnetization.append(M_mean)\n",
    "    magnetization_errors.append(M_err)\n",
    "    susceptibilities.append(chi)\n",
    "    susceptibility_errors.append(chi_err)\n",
    "    print(f\"Average Magnetization: {M_mean:.4f} ± {M_err:.4f}\")\n",
    "    print(f\"autocorr_time {acf_time:.4f}\")"
   ]
  },
  {
   "cell_type": "code",
   "execution_count": 6,
   "id": "607fcfcb",
   "metadata": {},
   "outputs": [
    {
     "data": {
      "image/png": "[encoded data removed]",
      "text/plain": [
       "<Figure size 1800x500 with 3 Axes>"
      ]
     },
     "metadata": {},
     "output_type": "display_data"
    }
   ],
   "source": [
    "import numpy as np\n",
    "import matplotlib.pyplot as plt\n",
    "\n",
    "\n",
    "fig, axs = plt.subplots(1, 3, figsize=(18, 5))\n",
    "\n",
    "axs[0].errorbar(temperatures, np.abs(avg_magnetization), yerr=magnetization_errors, fmt='o', capsize=4)\n",
    "axs[0].set_xlabel(\"Temperature T\")\n",
    "axs[0].set_ylabel(\"⟨M⟩\")\n",
    "axs[0].set_title(\"Average Magnetization\")\n",
    "\n",
    "axs[1].errorbar(temperatures, susceptibilities, yerr=susceptibility_errors, fmt='o', capsize=4)\n",
    "axs[1].set_xlabel(\"Temperature T\")\n",
    "axs[1].set_ylabel(\"χ\")\n",
    "axs[1].set_title(\"Susceptibility\")\n",
    "\n",
    "axs[2].plot(temperatures, autocorr_time_list, marker='o')\n",
    "axs[2].set_xlabel(\"Temperature T\")\n",
    "axs[2].set_ylabel(\"τ_int\")\n",
    "axs[2].set_title(\"Autocorrelation Time\")\n",
    "# plt.savefig('100ksteps')\n",
    "plt.tight_layout()\n",
    "plt.show()\n"
   ]
  },
  {
   "cell_type": "code",
   "execution_count": null,
   "id": "9ab466aa",
   "metadata": {},
   "outputs": [
    {
     "data": {
      "image/png": "[encoded data removed]",
      "text/plain": [
       "<Figure size 1200x300 with 3 Axes>"
      ]
     },
     "metadata": {},
     "output_type": "display_data"
    }
   ],
   "source": [
    "# plt.figure(figsize=(4, 3))\n",
    "# plt.plot(temperatures,np.abs(avg_magnetization))\n",
    "# plt.errorbar(temperatures, np.abs(avg_magnetization), yerr=magnetization_errors, fmt='o', capsize=5,color='tab:red')\n",
    "# plt.ylim([0,1])\n",
    "# plt.xlim([temperatures.min(), temperatures.max()])\n",
    "# plt.xlabel('Temperature')   \n",
    "# plt.ylabel('Average Magnetization')\n",
    "# plt.title('Average Magnetization vs Temperature',fontsize=10)\n",
    "# plt.minorticks_on()\n",
    "# ax=plt.gca()\n",
    "# ax.tick_params(which='both', direction='in', top=True, right=True)\n",
    "# plt.tight_layout()\n",
    "# # plt.savefig('avg_magnetization_vs_temperature.png', dpi=300)\n",
    "\n",
    "import numpy as np\n",
    "import matplotlib.pyplot as plt\n",
    "\n",
    "\n",
    "fig, axs = plt.subplots(1, 3, figsize=(12, 3))\n",
    "\n",
    "axs[0].plot(temperatures, np.abs(avg_magnetization))\n",
    "axs[0].errorbar(temperatures, np.abs(avg_magnetization), yerr=magnetization_errors, fmt='o', capsize=4)\n",
    "axs[0].set_xlabel(\"Temperature T\")\n",
    "axs[0].set_ylabel(\"⟨M⟩\")\n",
    "axs[0].set_ylim(0,1)\n",
    "axs[0].set_title(\"Average Magnetization\")\n",
    "# axs[0].tick_params(which='both', direction='in', top=True, right=True)\n",
    "\n",
    "axs[1].errorbar(temperatures, susceptibilities, yerr=susceptibility_errors, fmt='o', capsize=4)\n",
    "axs[1].set_xlabel(\"Temperature T\")\n",
    "axs[1].set_ylabel(\"χ\")\n",
    "axs[1].set_title(\"Susceptibility\")\n",
    "\n",
    "axs[2].plot(temperatures, autocorr_time_list, marker='o')\n",
    "axs[2].set_yscale('log')\n",
    "axs[2].set_xlabel(\"Temperature T\")\n",
    "axs[2].set_ylabel(\"τ_int\")\n",
    "axs[2].set_title(\"Autocorrelation Time\")\n",
    "# plt.savefig('100ksteps')\n",
    "plt.tight_layout()\n",
    "plt.show()\n"
   ]
  },
  {
   "cell_type": "code",
   "execution_count": null,
   "id": "035e2795",
   "metadata": {},
   "outputs": [],
   "source": []
  },
  {
   "cell_type": "code",
   "execution_count": null,
   "id": "2f2b8ec7",
   "metadata": {},
   "outputs": [],
   "source": []
  },
  {
   "cell_type": "code",
   "execution_count": 6,
   "id": "1f4e3401",
   "metadata": {},
   "outputs": [
    {
     "name": "stdout",
     "output_type": "stream",
     "text": [
      "\n",
      "Running Metropolis at T = 1.50\n",
      "Starting warmup phase...\n"
     ]
    },
    {
     "name": "stderr",
     "output_type": "stream",
     "text": [
      "100%|██████████| 10000/10000 [00:01<00:00, 5700.43it/s]\n"
     ]
    },
    {
     "name": "stdout",
     "output_type": "stream",
     "text": [
      "Starting production phase...\n"
     ]
    },
    {
     "name": "stderr",
     "output_type": "stream",
     "text": [
      "100%|██████████| 100000/100000 [00:16<00:00, 6158.65it/s]\n"
     ]
    },
    {
     "name": "stdout",
     "output_type": "stream",
     "text": [
      "Average Magnetization: -0.0002 ± 0.0044\n",
      "autocorr_time 1.0000\n",
      "\n",
      "Running Metropolis at T = 1.55\n",
      "Starting warmup phase...\n"
     ]
    },
    {
     "name": "stderr",
     "output_type": "stream",
     "text": [
      "100%|██████████| 10000/10000 [00:01<00:00, 6150.83it/s]\n"
     ]
    },
    {
     "name": "stdout",
     "output_type": "stream",
     "text": [
      "Starting production phase...\n"
     ]
    },
    {
     "name": "stderr",
     "output_type": "stream",
     "text": [
      "100%|██████████| 100000/100000 [00:16<00:00, 6226.12it/s]\n"
     ]
    },
    {
     "name": "stdout",
     "output_type": "stream",
     "text": [
      "Average Magnetization: 0.0002 ± 0.0044\n",
      "autocorr_time 1.0000\n",
      "\n",
      "Running Metropolis at T = 1.60\n",
      "Starting warmup phase...\n"
     ]
    },
    {
     "name": "stderr",
     "output_type": "stream",
     "text": [
      "100%|██████████| 10000/10000 [00:01<00:00, 6242.12it/s]\n"
     ]
    },
    {
     "name": "stdout",
     "output_type": "stream",
     "text": [
      "Starting production phase...\n"
     ]
    },
    {
     "name": "stderr",
     "output_type": "stream",
     "text": [
      "100%|██████████| 100000/100000 [00:16<00:00, 6160.08it/s]\n"
     ]
    },
    {
     "name": "stdout",
     "output_type": "stream",
     "text": [
      "Average Magnetization: -0.0001 ± 0.0044\n",
      "autocorr_time 1.0000\n",
      "\n",
      "Running Metropolis at T = 1.65\n",
      "Starting warmup phase...\n"
     ]
    },
    {
     "name": "stderr",
     "output_type": "stream",
     "text": [
      "100%|██████████| 10000/10000 [00:01<00:00, 6287.01it/s]\n"
     ]
    },
    {
     "name": "stdout",
     "output_type": "stream",
     "text": [
      "Starting production phase...\n"
     ]
    },
    {
     "name": "stderr",
     "output_type": "stream",
     "text": [
      "100%|██████████| 100000/100000 [00:16<00:00, 6231.82it/s]\n"
     ]
    },
    {
     "name": "stdout",
     "output_type": "stream",
     "text": [
      "Average Magnetization: 0.0008 ± 0.0044\n",
      "autocorr_time 1.0000\n",
      "\n",
      "Running Metropolis at T = 1.70\n",
      "Starting warmup phase...\n"
     ]
    },
    {
     "name": "stderr",
     "output_type": "stream",
     "text": [
      "100%|██████████| 10000/10000 [00:01<00:00, 6236.39it/s]\n"
     ]
    },
    {
     "name": "stdout",
     "output_type": "stream",
     "text": [
      "Starting production phase...\n"
     ]
    },
    {
     "name": "stderr",
     "output_type": "stream",
     "text": [
      "100%|██████████| 100000/100000 [00:15<00:00, 6255.02it/s]\n"
     ]
    },
    {
     "name": "stdout",
     "output_type": "stream",
     "text": [
      "Average Magnetization: 0.0003 ± 0.0043\n",
      "autocorr_time 1.0000\n",
      "\n",
      "Running Metropolis at T = 1.75\n",
      "Starting warmup phase...\n"
     ]
    },
    {
     "name": "stderr",
     "output_type": "stream",
     "text": [
      "100%|██████████| 10000/10000 [00:01<00:00, 6324.98it/s]\n"
     ]
    },
    {
     "name": "stdout",
     "output_type": "stream",
     "text": [
      "Starting production phase...\n"
     ]
    },
    {
     "name": "stderr",
     "output_type": "stream",
     "text": [
      "100%|██████████| 100000/100000 [00:15<00:00, 6320.12it/s]\n"
     ]
    },
    {
     "name": "stdout",
     "output_type": "stream",
     "text": [
      "Average Magnetization: 0.0005 ± 0.0043\n",
      "autocorr_time 1.0000\n",
      "\n",
      "Running Metropolis at T = 1.80\n",
      "Starting warmup phase...\n"
     ]
    },
    {
     "name": "stderr",
     "output_type": "stream",
     "text": [
      "100%|██████████| 10000/10000 [00:01<00:00, 6243.34it/s]\n"
     ]
    },
    {
     "name": "stdout",
     "output_type": "stream",
     "text": [
      "Starting production phase...\n"
     ]
    },
    {
     "name": "stderr",
     "output_type": "stream",
     "text": [
      "100%|██████████| 100000/100000 [00:15<00:00, 6342.99it/s]\n"
     ]
    },
    {
     "name": "stdout",
     "output_type": "stream",
     "text": [
      "Average Magnetization: -0.0010 ± 0.0043\n",
      "autocorr_time 1.0000\n",
      "\n",
      "Running Metropolis at T = 1.85\n",
      "Starting warmup phase...\n"
     ]
    },
    {
     "name": "stderr",
     "output_type": "stream",
     "text": [
      "100%|██████████| 10000/10000 [00:01<00:00, 6459.62it/s]\n"
     ]
    },
    {
     "name": "stdout",
     "output_type": "stream",
     "text": [
      "Starting production phase...\n"
     ]
    },
    {
     "name": "stderr",
     "output_type": "stream",
     "text": [
      "100%|██████████| 100000/100000 [00:15<00:00, 6400.64it/s]\n"
     ]
    },
    {
     "name": "stdout",
     "output_type": "stream",
     "text": [
      "Average Magnetization: -0.0002 ± 0.0043\n",
      "autocorr_time 1.0000\n",
      "\n",
      "Running Metropolis at T = 1.90\n",
      "Starting warmup phase...\n"
     ]
    },
    {
     "name": "stderr",
     "output_type": "stream",
     "text": [
      "100%|██████████| 10000/10000 [00:01<00:00, 6479.19it/s]\n"
     ]
    },
    {
     "name": "stdout",
     "output_type": "stream",
     "text": [
      "Starting production phase...\n"
     ]
    },
    {
     "name": "stderr",
     "output_type": "stream",
     "text": [
      "100%|██████████| 100000/100000 [00:15<00:00, 6460.73it/s]\n"
     ]
    },
    {
     "name": "stdout",
     "output_type": "stream",
     "text": [
      "Average Magnetization: 0.0004 ± 0.0042\n",
      "autocorr_time 1.0000\n",
      "\n",
      "Running Metropolis at T = 1.95\n",
      "Starting warmup phase...\n"
     ]
    },
    {
     "name": "stderr",
     "output_type": "stream",
     "text": [
      "100%|██████████| 10000/10000 [00:01<00:00, 6622.55it/s]\n"
     ]
    },
    {
     "name": "stdout",
     "output_type": "stream",
     "text": [
      "Starting production phase...\n"
     ]
    },
    {
     "name": "stderr",
     "output_type": "stream",
     "text": [
      "100%|██████████| 100000/100000 [00:15<00:00, 6620.23it/s]\n"
     ]
    },
    {
     "name": "stdout",
     "output_type": "stream",
     "text": [
      "Average Magnetization: -0.0009 ± 0.0042\n",
      "autocorr_time 1.0000\n",
      "\n",
      "Running Metropolis at T = 2.00\n",
      "Starting warmup phase...\n"
     ]
    },
    {
     "name": "stderr",
     "output_type": "stream",
     "text": [
      "100%|██████████| 10000/10000 [00:01<00:00, 6614.82it/s]\n"
     ]
    },
    {
     "name": "stdout",
     "output_type": "stream",
     "text": [
      "Starting production phase...\n"
     ]
    },
    {
     "name": "stderr",
     "output_type": "stream",
     "text": [
      "100%|██████████| 100000/100000 [00:15<00:00, 6664.70it/s]\n"
     ]
    },
    {
     "name": "stdout",
     "output_type": "stream",
     "text": [
      "Average Magnetization: -0.0007 ± 0.0041\n",
      "autocorr_time 1.0000\n",
      "\n",
      "Running Metropolis at T = 2.05\n",
      "Starting warmup phase...\n"
     ]
    },
    {
     "name": "stderr",
     "output_type": "stream",
     "text": [
      "100%|██████████| 10000/10000 [00:01<00:00, 7208.37it/s]\n"
     ]
    },
    {
     "name": "stdout",
     "output_type": "stream",
     "text": [
      "Starting production phase...\n"
     ]
    },
    {
     "name": "stderr",
     "output_type": "stream",
     "text": [
      "100%|██████████| 100000/100000 [00:14<00:00, 6969.31it/s]\n"
     ]
    },
    {
     "name": "stdout",
     "output_type": "stream",
     "text": [
      "Average Magnetization: -0.0009 ± 0.0040\n",
      "autocorr_time 1.0000\n",
      "\n",
      "Running Metropolis at T = 2.10\n",
      "Starting warmup phase...\n"
     ]
    },
    {
     "name": "stderr",
     "output_type": "stream",
     "text": [
      "100%|██████████| 10000/10000 [00:01<00:00, 7185.06it/s]\n"
     ]
    },
    {
     "name": "stdout",
     "output_type": "stream",
     "text": [
      "Starting production phase...\n"
     ]
    },
    {
     "name": "stderr",
     "output_type": "stream",
     "text": [
      "100%|██████████| 100000/100000 [00:14<00:00, 6938.30it/s]\n"
     ]
    },
    {
     "name": "stdout",
     "output_type": "stream",
     "text": [
      "Average Magnetization: -0.0008 ± 0.0040\n",
      "autocorr_time 1.0000\n",
      "\n",
      "Running Metropolis at T = 2.15\n",
      "Starting warmup phase...\n"
     ]
    },
    {
     "name": "stderr",
     "output_type": "stream",
     "text": [
      "100%|██████████| 10000/10000 [00:01<00:00, 7481.76it/s]\n"
     ]
    },
    {
     "name": "stdout",
     "output_type": "stream",
     "text": [
      "Starting production phase...\n"
     ]
    },
    {
     "name": "stderr",
     "output_type": "stream",
     "text": [
      "100%|██████████| 100000/100000 [00:13<00:00, 7346.34it/s]\n"
     ]
    },
    {
     "name": "stdout",
     "output_type": "stream",
     "text": [
      "Average Magnetization: -0.0017 ± 0.0039\n",
      "autocorr_time 1.0000\n",
      "\n",
      "Running Metropolis at T = 2.20\n",
      "Starting warmup phase...\n"
     ]
    },
    {
     "name": "stderr",
     "output_type": "stream",
     "text": [
      "100%|██████████| 10000/10000 [00:01<00:00, 7777.20it/s]\n"
     ]
    },
    {
     "name": "stdout",
     "output_type": "stream",
     "text": [
      "Starting production phase...\n"
     ]
    },
    {
     "name": "stderr",
     "output_type": "stream",
     "text": [
      "100%|██████████| 100000/100000 [00:13<00:00, 7664.07it/s]\n"
     ]
    },
    {
     "name": "stdout",
     "output_type": "stream",
     "text": [
      "Average Magnetization: 0.0009 ± 0.0038\n",
      "autocorr_time 1.0000\n",
      "\n",
      "Running Metropolis at T = 2.25\n",
      "Starting warmup phase...\n"
     ]
    },
    {
     "name": "stderr",
     "output_type": "stream",
     "text": [
      "100%|██████████| 10000/10000 [00:01<00:00, 8643.50it/s]\n"
     ]
    },
    {
     "name": "stdout",
     "output_type": "stream",
     "text": [
      "Starting production phase...\n"
     ]
    },
    {
     "name": "stderr",
     "output_type": "stream",
     "text": [
      "100%|██████████| 100000/100000 [00:12<00:00, 7979.89it/s]\n"
     ]
    },
    {
     "name": "stdout",
     "output_type": "stream",
     "text": [
      "Average Magnetization: 0.0012 ± 0.0037\n",
      "autocorr_time 1.0000\n",
      "\n",
      "Running Metropolis at T = 2.30\n",
      "Starting warmup phase...\n"
     ]
    },
    {
     "name": "stderr",
     "output_type": "stream",
     "text": [
      "100%|██████████| 10000/10000 [00:01<00:00, 8496.04it/s]\n"
     ]
    },
    {
     "name": "stdout",
     "output_type": "stream",
     "text": [
      "Starting production phase...\n"
     ]
    },
    {
     "name": "stderr",
     "output_type": "stream",
     "text": [
      "100%|██████████| 100000/100000 [00:11<00:00, 8523.26it/s]\n"
     ]
    },
    {
     "name": "stdout",
     "output_type": "stream",
     "text": [
      "Average Magnetization: 0.0026 ± 0.0035\n",
      "autocorr_time 1.0000\n",
      "\n",
      "Running Metropolis at T = 2.35\n",
      "Starting warmup phase...\n"
     ]
    },
    {
     "name": "stderr",
     "output_type": "stream",
     "text": [
      "100%|██████████| 10000/10000 [00:01<00:00, 9952.30it/s]\n"
     ]
    },
    {
     "name": "stdout",
     "output_type": "stream",
     "text": [
      "Starting production phase...\n"
     ]
    },
    {
     "name": "stderr",
     "output_type": "stream",
     "text": [
      "100%|██████████| 100000/100000 [00:11<00:00, 9056.11it/s]\n"
     ]
    },
    {
     "name": "stdout",
     "output_type": "stream",
     "text": [
      "Average Magnetization: -0.0005 ± 0.0034\n",
      "autocorr_time 1.0000\n",
      "\n",
      "Running Metropolis at T = 2.40\n",
      "Starting warmup phase...\n"
     ]
    },
    {
     "name": "stderr",
     "output_type": "stream",
     "text": [
      "100%|██████████| 10000/10000 [00:01<00:00, 9837.20it/s]\n"
     ]
    },
    {
     "name": "stdout",
     "output_type": "stream",
     "text": [
      "Starting production phase...\n"
     ]
    },
    {
     "name": "stderr",
     "output_type": "stream",
     "text": [
      "100%|██████████| 100000/100000 [00:10<00:00, 9644.11it/s]\n"
     ]
    },
    {
     "name": "stdout",
     "output_type": "stream",
     "text": [
      "Average Magnetization: -0.0007 ± 0.0032\n",
      "autocorr_time 1.0000\n",
      "\n",
      "Running Metropolis at T = 2.45\n",
      "Starting warmup phase...\n"
     ]
    },
    {
     "name": "stderr",
     "output_type": "stream",
     "text": [
      "100%|██████████| 10000/10000 [00:00<00:00, 11536.34it/s]\n"
     ]
    },
    {
     "name": "stdout",
     "output_type": "stream",
     "text": [
      "Starting production phase...\n"
     ]
    },
    {
     "name": "stderr",
     "output_type": "stream",
     "text": [
      "100%|██████████| 100000/100000 [00:09<00:00, 10375.24it/s]\n"
     ]
    },
    {
     "name": "stdout",
     "output_type": "stream",
     "text": [
      "Average Magnetization: 0.0011 ± 0.0031\n",
      "autocorr_time 1.0000\n",
      "\n",
      "Running Metropolis at T = 2.50\n",
      "Starting warmup phase...\n"
     ]
    },
    {
     "name": "stderr",
     "output_type": "stream",
     "text": [
      "100%|██████████| 10000/10000 [00:00<00:00, 12017.52it/s]\n"
     ]
    },
    {
     "name": "stdout",
     "output_type": "stream",
     "text": [
      "Starting production phase...\n"
     ]
    },
    {
     "name": "stderr",
     "output_type": "stream",
     "text": [
      "100%|██████████| 100000/100000 [00:08<00:00, 11128.61it/s]\n"
     ]
    },
    {
     "name": "stdout",
     "output_type": "stream",
     "text": [
      "Average Magnetization: 0.0006 ± 0.0029\n",
      "autocorr_time 1.0000\n",
      "\n",
      "Running Metropolis at T = 2.55\n",
      "Starting warmup phase...\n"
     ]
    },
    {
     "name": "stderr",
     "output_type": "stream",
     "text": [
      "100%|██████████| 10000/10000 [00:00<00:00, 13483.24it/s]\n"
     ]
    },
    {
     "name": "stdout",
     "output_type": "stream",
     "text": [
      "Starting production phase...\n"
     ]
    },
    {
     "name": "stderr",
     "output_type": "stream",
     "text": [
      "100%|██████████| 100000/100000 [00:08<00:00, 11886.82it/s]\n"
     ]
    },
    {
     "name": "stdout",
     "output_type": "stream",
     "text": [
      "Average Magnetization: -0.0007 ± 0.0028\n",
      "autocorr_time 1.0000\n",
      "\n",
      "Running Metropolis at T = 2.60\n",
      "Starting warmup phase...\n"
     ]
    },
    {
     "name": "stderr",
     "output_type": "stream",
     "text": [
      "100%|██████████| 10000/10000 [00:00<00:00, 14318.63it/s]\n"
     ]
    },
    {
     "name": "stdout",
     "output_type": "stream",
     "text": [
      "Starting production phase...\n"
     ]
    },
    {
     "name": "stderr",
     "output_type": "stream",
     "text": [
      "100%|██████████| 100000/100000 [00:07<00:00, 12810.17it/s]\n"
     ]
    },
    {
     "name": "stdout",
     "output_type": "stream",
     "text": [
      "Average Magnetization: -0.0011 ± 0.0027\n",
      "autocorr_time 1.0000\n",
      "\n",
      "Running Metropolis at T = 2.65\n",
      "Starting warmup phase...\n"
     ]
    },
    {
     "name": "stderr",
     "output_type": "stream",
     "text": [
      "100%|██████████| 10000/10000 [00:00<00:00, 16154.61it/s]\n"
     ]
    },
    {
     "name": "stdout",
     "output_type": "stream",
     "text": [
      "Starting production phase...\n"
     ]
    },
    {
     "name": "stderr",
     "output_type": "stream",
     "text": [
      "100%|██████████| 100000/100000 [00:07<00:00, 13780.67it/s]\n"
     ]
    },
    {
     "name": "stdout",
     "output_type": "stream",
     "text": [
      "Average Magnetization: 0.0020 ± 0.0025\n",
      "autocorr_time 1.0000\n",
      "\n",
      "Running Metropolis at T = 2.70\n",
      "Starting warmup phase...\n"
     ]
    },
    {
     "name": "stderr",
     "output_type": "stream",
     "text": [
      "100%|██████████| 10000/10000 [00:00<00:00, 16423.00it/s]\n"
     ]
    },
    {
     "name": "stdout",
     "output_type": "stream",
     "text": [
      "Starting production phase...\n"
     ]
    },
    {
     "name": "stderr",
     "output_type": "stream",
     "text": [
      "100%|██████████| 100000/100000 [00:06<00:00, 14544.02it/s]\n"
     ]
    },
    {
     "name": "stdout",
     "output_type": "stream",
     "text": [
      "Average Magnetization: -0.0015 ± 0.0024\n",
      "autocorr_time 1.0000\n",
      "\n",
      "Running Metropolis at T = 2.75\n",
      "Starting warmup phase...\n"
     ]
    },
    {
     "name": "stderr",
     "output_type": "stream",
     "text": [
      "100%|██████████| 10000/10000 [00:00<00:00, 18621.61it/s]\n"
     ]
    },
    {
     "name": "stdout",
     "output_type": "stream",
     "text": [
      "Starting production phase...\n"
     ]
    },
    {
     "name": "stderr",
     "output_type": "stream",
     "text": [
      "100%|██████████| 100000/100000 [00:06<00:00, 15424.17it/s]\n"
     ]
    },
    {
     "name": "stdout",
     "output_type": "stream",
     "text": [
      "Average Magnetization: -0.0028 ± 0.0023\n",
      "autocorr_time 1.0000\n",
      "\n",
      "Running Metropolis at T = 2.80\n",
      "Starting warmup phase...\n"
     ]
    },
    {
     "name": "stderr",
     "output_type": "stream",
     "text": [
      "100%|██████████| 10000/10000 [00:00<00:00, 19658.25it/s]\n"
     ]
    },
    {
     "name": "stdout",
     "output_type": "stream",
     "text": [
      "Starting production phase...\n"
     ]
    },
    {
     "name": "stderr",
     "output_type": "stream",
     "text": [
      "100%|██████████| 100000/100000 [00:06<00:00, 16555.97it/s]\n"
     ]
    },
    {
     "name": "stdout",
     "output_type": "stream",
     "text": [
      "Average Magnetization: -0.0019 ± 0.0024\n",
      "autocorr_time 1.1568\n",
      "\n",
      "Running Metropolis at T = 2.85\n",
      "Starting warmup phase...\n"
     ]
    },
    {
     "name": "stderr",
     "output_type": "stream",
     "text": [
      "100%|██████████| 10000/10000 [00:00<00:00, 21199.92it/s]\n"
     ]
    },
    {
     "name": "stdout",
     "output_type": "stream",
     "text": [
      "Starting production phase...\n"
     ]
    },
    {
     "name": "stderr",
     "output_type": "stream",
     "text": [
      "100%|██████████| 100000/100000 [00:05<00:00, 17642.26it/s]\n"
     ]
    },
    {
     "name": "stdout",
     "output_type": "stream",
     "text": [
      "Average Magnetization: 0.0027 ± 0.0024\n",
      "autocorr_time 1.3264\n",
      "\n",
      "Running Metropolis at T = 2.90\n",
      "Starting warmup phase...\n"
     ]
    },
    {
     "name": "stderr",
     "output_type": "stream",
     "text": [
      "100%|██████████| 10000/10000 [00:00<00:00, 21989.70it/s]\n"
     ]
    },
    {
     "name": "stdout",
     "output_type": "stream",
     "text": [
      "Starting production phase...\n"
     ]
    },
    {
     "name": "stderr",
     "output_type": "stream",
     "text": [
      "100%|██████████| 100000/100000 [00:05<00:00, 18706.48it/s]\n"
     ]
    },
    {
     "name": "stdout",
     "output_type": "stream",
     "text": [
      "Average Magnetization: -0.0003 ± 0.0024\n",
      "autocorr_time 1.4280\n",
      "\n",
      "Running Metropolis at T = 2.95\n",
      "Starting warmup phase...\n"
     ]
    },
    {
     "name": "stderr",
     "output_type": "stream",
     "text": [
      "100%|██████████| 10000/10000 [00:00<00:00, 24691.68it/s]\n"
     ]
    },
    {
     "name": "stdout",
     "output_type": "stream",
     "text": [
      "Starting production phase...\n"
     ]
    },
    {
     "name": "stderr",
     "output_type": "stream",
     "text": [
      "100%|██████████| 100000/100000 [00:05<00:00, 19601.76it/s]\n"
     ]
    },
    {
     "name": "stdout",
     "output_type": "stream",
     "text": [
      "Average Magnetization: 0.0006 ± 0.0024\n",
      "autocorr_time 1.5637\n",
      "\n",
      "Running Metropolis at T = 3.00\n",
      "Starting warmup phase...\n"
     ]
    },
    {
     "name": "stderr",
     "output_type": "stream",
     "text": [
      "100%|██████████| 10000/10000 [00:00<00:00, 24815.83it/s]\n"
     ]
    },
    {
     "name": "stdout",
     "output_type": "stream",
     "text": [
      "Starting production phase...\n"
     ]
    },
    {
     "name": "stderr",
     "output_type": "stream",
     "text": [
      "100%|██████████| 100000/100000 [00:04<00:00, 20549.60it/s]"
     ]
    },
    {
     "name": "stdout",
     "output_type": "stream",
     "text": [
      "Average Magnetization: 0.0010 ± 0.0025\n",
      "autocorr_time 1.8682\n"
     ]
    },
    {
     "name": "stderr",
     "output_type": "stream",
     "text": [
      "\n"
     ]
    }
   ],
   "source": [
    "import numpy as np\n",
    "import matplotlib.pyplot as plt\n",
    "from ising_lattice import IsingLattice\n",
    "from monte_carlo import MonteCarlo\n",
    "\n",
    "temperatures = np.linspace(1.5, 3.0, 31)  # Temperature range\n",
    "Lx = 8\n",
    "Ly = 8\n",
    "J = 1.0\n",
    "steps = 1_00_000  # production steps after warmup\n",
    "warmup_steps = 10_000  # warmup steps\n",
    "method = \"wolff\"\n",
    "\n",
    "# --- Storage ---\n",
    "avg_magnetization = []\n",
    "magnetization_errors = []\n",
    "susceptibilities = []\n",
    "susceptibility_errors = []\n",
    "autocorr_time_list = []\n",
    "def autocorr(x):\n",
    "    x = np.asarray(x, float)\n",
    "    x = x - x.mean()\n",
    "    n = len(x)\n",
    "    result = np.correlate(x, x, mode='full')\n",
    "    acov = result[n-1:]   # lags 0..n-1\n",
    "    acov /= np.arange(n, 0, -1)   # unbiased: divide by N-k\n",
    "    return acov / acov[0]         # normalize → acf[0]=1\n",
    "\n",
    "def autocorr_time(correlation):\n",
    "    for i, val in enumerate(correlation[1:], 1):\n",
    "        if val < 0:\n",
    "            return 1 + 2 * np.sum(correlation[1:i])\n",
    "    return 1 + 2 * np.sum(correlation[1:])\n",
    "\n",
    "def autocorr_fft(x, unbiased=True):\n",
    "    \"\"\"\n",
    "    Compute autocorrelation of a 1D array using FFT (fast, O(n log n)).\n",
    "    \n",
    "    Returns:\n",
    "        acf : array of length n (lags 0..n-1), normalized so acf[0] = 1.\n",
    "    \n",
    "    Parameters:\n",
    "        unbiased : if True, normalize by (n - lag),\n",
    "                   else normalize by n (biased).\n",
    "    \"\"\"\n",
    "    x = np.asarray(x, dtype=float)\n",
    "    n = x.size\n",
    "    x = x - x.mean()\n",
    "\n",
    "    # FFT length (next power of two >= 2n-1 for linear convolution)\n",
    "    nfft = 1 << (2*n - 1).bit_length()\n",
    "\n",
    "    # Power spectrum\n",
    "    f = np.fft.rfft(x, n=nfft)\n",
    "    acov = np.fft.irfft(f * np.conjugate(f), n=nfft)[:n]\n",
    "\n",
    "    # Variance\n",
    "    var = acov[0] / n\n",
    "\n",
    "    # Normalize to get correlation\n",
    "    if unbiased:\n",
    "        denom = var * (n - np.arange(n))\n",
    "    else:\n",
    "        denom = var * n\n",
    "\n",
    "    acf = acov / denom\n",
    "    return acf\n",
    "\n",
    "# --- Loop over temperatures ---\n",
    "for T in temperatures:\n",
    "    print(f\"\\nRunning Metropolis at T = {T:.2f}\")\n",
    "\n",
    "    lattice = IsingLattice(Lx, Ly, J=J)\n",
    "    mc = MonteCarlo(lattice)\n",
    "    mc.run_loop(warmup_steps=warmup_steps,steps=steps, T=T, method=method)\n",
    "\n",
    "    acc = mc.acc  \n",
    "\n",
    "    M_vals = np.asarray(acc.magnetization)\n",
    "    M_mean = M_vals.mean()\n",
    "    tau = acc.magnetization_tau_int\n",
    "    M_err = acc.calculate_error(M_vals, tau)\n",
    "\n",
    "    chi = np.mean(acc.susceptibility)\n",
    "    # chi_err = acc.(M_vals, T, lattice.N)\n",
    "    \n",
    "\n",
    "    acf=autocorr_fft(acc.magnetization)\n",
    "    acf_time=autocorr_time(acf)\n",
    "    autocorr_time_list.append(acf_time)  \n",
    "    M_err=np.sqrt(np.var(acc.magnetization)*2*acf_time/len(acc.magnetization))\n",
    "    chi_err=np.sqrt(np.var(acc.susceptibility)*2*acf_time/len(acc.susceptibility))\n",
    "\n",
    "\n",
    "    avg_magnetization.append(M_mean)\n",
    "    magnetization_errors.append(M_err)\n",
    "    susceptibilities.append(chi)\n",
    "    susceptibility_errors.append(chi_err)\n",
    "    print(f\"Average Magnetization: {M_mean:.4f} ± {M_err:.4f}\")\n",
    "    print(f\"autocorr_time {acf_time:.4f}\")"
   ]
  },
  {
   "cell_type": "code",
   "execution_count": 5,
   "id": "a416b9e9",
   "metadata": {},
   "outputs": [
    {
     "data": {
      "image/png": "[encoded data removed]",
      "text/plain": [
       "<Figure size 1200x300 with 3 Axes>"
      ]
     },
     "metadata": {},
     "output_type": "display_data"
    }
   ],
   "source": [
    "\n",
    "import numpy as np\n",
    "import matplotlib.pyplot as plt\n",
    "\n",
    "\n",
    "fig, axs = plt.subplots(1, 3, figsize=(12, 3))\n",
    "\n",
    "axs[0].plot(temperatures, np.abs(avg_magnetization))\n",
    "axs[0].errorbar(temperatures, np.abs(avg_magnetization), yerr=magnetization_errors, fmt='o', capsize=4)\n",
    "axs[0].set_xlabel(\"Temperature T\")\n",
    "axs[0].set_ylabel(\"⟨M⟩\")\n",
    "axs[0].set_ylim(0,1)\n",
    "axs[0].set_title(\"Average Magnetization\")\n",
    "# axs[0].tick_params(which='both', direction='in', top=True, right=True)\n",
    "\n",
    "axs[1].errorbar(temperatures, susceptibilities, yerr=susceptibility_errors, fmt='o', capsize=4)\n",
    "axs[1].set_xlabel(\"Temperature T\")\n",
    "axs[1].set_ylabel(\"χ\")\n",
    "axs[1].set_title(\"Susceptibility\")\n",
    "\n",
    "axs[2].plot(temperatures, autocorr_time_list, marker='o')\n",
    "# axs[2].set_yscale('log')\n",
    "axs[2].set_xlabel(\"Temperature T\")\n",
    "axs[2].set_ylabel(\"τ_int\")\n",
    "axs[2].set_title(\"Autocorrelation Time\")\n",
    "# plt.savefig('100ksteps')\n",
    "plt.tight_layout()\n",
    "plt.show()\n"
   ]
  },
  {
   "cell_type": "code",
   "execution_count": 7,
   "id": "60870166",
   "metadata": {},
   "outputs": [
    {
     "data": {
      "image/png": "[encoded data removed]",
      "text/plain": [
       "<Figure size 1200x300 with 3 Axes>"
      ]
     },
     "metadata": {},
     "output_type": "display_data"
    }
   ],
   "source": [
    "\n",
    "import numpy as np\n",
    "import matplotlib.pyplot as plt\n",
    "\n",
    "\n",
    "fig, axs = plt.subplots(1, 3, figsize=(12, 3))\n",
    "\n",
    "axs[0].plot(temperatures, np.abs(avg_magnetization))\n",
    "axs[0].errorbar(temperatures, np.abs(avg_magnetization), yerr=magnetization_errors, fmt='o', capsize=4)\n",
    "axs[0].set_xlabel(\"Temperature T\")\n",
    "axs[0].set_ylabel(\"⟨M⟩\")\n",
    "axs[0].set_ylim(0,1)\n",
    "axs[0].set_title(\"Average Magnetization\")\n",
    "# axs[0].tick_params(which='both', direction='in', top=True, right=True)\n",
    "\n",
    "axs[1].errorbar(temperatures, susceptibilities, yerr=susceptibility_errors, fmt='o', capsize=4)\n",
    "axs[1].set_xlabel(\"Temperature T\")\n",
    "axs[1].set_ylabel(\"χ\")\n",
    "axs[1].set_title(\"Susceptibility\")\n",
    "\n",
    "axs[2].plot(temperatures, autocorr_time_list, marker='o')\n",
    "# axs[2].set_yscale('log')\n",
    "axs[2].set_xlabel(\"Temperature T\")\n",
    "axs[2].set_ylabel(\"τ_int\")\n",
    "axs[2].set_title(\"Autocorrelation Time\")\n",
    "# plt.savefig('100ksteps')\n",
    "plt.tight_layout()\n",
    "plt.show()\n"
   ]
  },
  {
   "cell_type": "code",
   "execution_count": 1,
   "id": "c33c46b4",
   "metadata": {},
   "outputs": [
    {
     "name": "stdout",
     "output_type": "stream",
     "text": [
      "Starting warmup phase...\n"
     ]
    },
    {
     "name": "stderr",
     "output_type": "stream",
     "text": [
      "100%|██████████| 500/500 [00:24<00:00, 20.23it/s]\n"
     ]
    },
    {
     "name": "stdout",
     "output_type": "stream",
     "text": [
      "Starting production phase...\n"
     ]
    },
    {
     "name": "stderr",
     "output_type": "stream",
     "text": [
      "100%|██████████| 10/10 [00:00<00:00, 274.44it/s]\n"
     ]
    },
    {
     "name": "stdout",
     "output_type": "stream",
     "text": [
      "GIF saved to ising_evolution.gif\n"
     ]
    }
   ],
   "source": [
    "from monte_carlo import MonteCarlo\n",
    "from ising_lattice import IsingLattice  # Replace with your actual lattice module\n",
    "from visualization import Visualization\n",
    "\n",
    "# Parameters\n",
    "Lx, Ly = 32, 32\n",
    "T = 2.3\n",
    "warmup_steps = 500\n",
    "production_steps = 10\n",
    "\n",
    "# Set up lattice and simulation\n",
    "lattice = IsingLattice(Lx, Ly, J=1.0)  # Ensure constructor matches yours\n",
    "mc = MonteCarlo(lattice)\n",
    "\n",
    "# Run simulation with visualization\n",
    "mc.run_loop(warmup_steps=warmup_steps, steps=production_steps, T=T, method=\"wolff\")\n",
    "\n",
    "# Create animated GIF from saved frames\n",
    "Visualization.create_gif_from_frames(output_dir=\"frames\", output_file=\"ising_evolution.gif\", fps=5)\n"
   ]
  },
  {
   "cell_type": "code",
   "execution_count": 1,
   "id": "dfa8546d",
   "metadata": {},
   "outputs": [
    {
     "name": "stdout",
     "output_type": "stream",
     "text": [
      "Starting warmup phase...\n"
     ]
    },
    {
     "name": "stderr",
     "output_type": "stream",
     "text": [
      "100%|██████████| 100/100 [00:08<00:00, 11.39it/s]\n"
     ]
    },
    {
     "name": "stdout",
     "output_type": "stream",
     "text": [
      "GIF saved to ising_warmup.gif\n",
      "Starting production phase...\n"
     ]
    },
    {
     "name": "stderr",
     "output_type": "stream",
     "text": [
      "100%|██████████| 5/5 [00:00<00:00, 1024.15it/s]\n"
     ]
    },
    {
     "name": "stdout",
     "output_type": "stream",
     "text": [
      "GIF saved to ising_simulation.gif\n"
     ]
    }
   ],
   "source": [
    "from ising_lattice import IsingLattice\n",
    "from monte_carlo import MonteCarlo\n",
    "from visualization import Visualization\n",
    "\n",
    "rows, cols = 20, 20\n",
    "lattice = IsingLattice(rows, cols)\n",
    "\n",
    "mc = MonteCarlo(lattice)\n",
    "warmup_steps     = 100\n",
    "production_steps = 5\n",
    "T = 2.0  # pick your temperature\n",
    "\n",
    "mc.run_loop(warmup_steps, production_steps, T,\n",
    "            method=\"wolff\")\n",
    "\n",
    "Visualization.create_gif_from_frames()   \n"
   ]
  },
  {
   "cell_type": "code",
   "execution_count": null,
   "id": "909e1f63",
   "metadata": {},
   "outputs": [
    {
     "name": "stdout",
     "output_type": "stream",
     "text": [
      "\n",
      "Running Metropolis at T = 1.50\n",
      "Starting warmup phase...\n"
     ]
    },
    {
     "name": "stderr",
     "output_type": "stream",
     "text": [
      "100%|██████████| 100000/100000 [00:00<00:00, 112668.63it/s]\n"
     ]
    },
    {
     "name": "stdout",
     "output_type": "stream",
     "text": [
      "Starting production phase...\n"
     ]
    },
    {
     "name": "stderr",
     "output_type": "stream",
     "text": [
      "100%|██████████| 1000000/1000000 [00:18<00:00, 54192.00it/s]\n"
     ]
    },
    {
     "name": "stdout",
     "output_type": "stream",
     "text": [
      "Average Magnetization: 0.9868 ± 0.0005\n",
      "autocorr_time 187.6023\n",
      "\n",
      "Running Metropolis at T = 1.55\n",
      "Starting warmup phase...\n"
     ]
    },
    {
     "name": "stderr",
     "output_type": "stream",
     "text": [
      "100%|██████████| 100000/100000 [00:00<00:00, 106399.11it/s]\n"
     ]
    },
    {
     "name": "stdout",
     "output_type": "stream",
     "text": [
      "Starting production phase...\n"
     ]
    },
    {
     "name": "stderr",
     "output_type": "stream",
     "text": [
      "100%|██████████| 1000000/1000000 [00:18<00:00, 55134.99it/s]\n"
     ]
    },
    {
     "name": "stdout",
     "output_type": "stream",
     "text": [
      "Average Magnetization: -0.9836 ± 0.0006\n",
      "autocorr_time 203.1292\n",
      "\n",
      "Running Metropolis at T = 1.60\n",
      "Starting warmup phase...\n"
     ]
    },
    {
     "name": "stderr",
     "output_type": "stream",
     "text": [
      "100%|██████████| 100000/100000 [00:00<00:00, 108519.45it/s]\n"
     ]
    },
    {
     "name": "stdout",
     "output_type": "stream",
     "text": [
      "Starting production phase...\n"
     ]
    },
    {
     "name": "stderr",
     "output_type": "stream",
     "text": [
      "100%|██████████| 1000000/1000000 [00:18<00:00, 53894.01it/s]\n"
     ]
    },
    {
     "name": "stdout",
     "output_type": "stream",
     "text": [
      "Average Magnetization: -0.9791 ± 0.0007\n",
      "autocorr_time 234.0465\n",
      "\n",
      "Running Metropolis at T = 1.65\n",
      "Starting warmup phase...\n"
     ]
    },
    {
     "name": "stderr",
     "output_type": "stream",
     "text": [
      "100%|██████████| 100000/100000 [00:00<00:00, 106170.21it/s]\n"
     ]
    },
    {
     "name": "stdout",
     "output_type": "stream",
     "text": [
      "Starting production phase...\n"
     ]
    },
    {
     "name": "stderr",
     "output_type": "stream",
     "text": [
      "100%|██████████| 1000000/1000000 [00:18<00:00, 53381.27it/s]\n"
     ]
    },
    {
     "name": "stdout",
     "output_type": "stream",
     "text": [
      "Average Magnetization: -0.9746 ± 0.0010\n",
      "autocorr_time 300.2417\n",
      "\n",
      "Running Metropolis at T = 1.70\n",
      "Starting warmup phase...\n"
     ]
    },
    {
     "name": "stderr",
     "output_type": "stream",
     "text": [
      "100%|██████████| 100000/100000 [00:00<00:00, 111436.36it/s]\n"
     ]
    },
    {
     "name": "stdout",
     "output_type": "stream",
     "text": [
      "Starting production phase...\n"
     ]
    },
    {
     "name": "stderr",
     "output_type": "stream",
     "text": [
      "100%|██████████| 1000000/1000000 [00:18<00:00, 55087.57it/s]\n"
     ]
    },
    {
     "name": "stdout",
     "output_type": "stream",
     "text": [
      "Average Magnetization: 0.9700 ± 0.0009\n",
      "autocorr_time 236.2827\n",
      "\n",
      "Running Metropolis at T = 1.75\n",
      "Starting warmup phase...\n"
     ]
    },
    {
     "name": "stderr",
     "output_type": "stream",
     "text": [
      "100%|██████████| 100000/100000 [00:00<00:00, 105265.29it/s]\n"
     ]
    },
    {
     "name": "stdout",
     "output_type": "stream",
     "text": [
      "Starting production phase...\n"
     ]
    },
    {
     "name": "stderr",
     "output_type": "stream",
     "text": [
      "100%|██████████| 1000000/1000000 [00:18<00:00, 55141.40it/s]\n"
     ]
    },
    {
     "name": "stdout",
     "output_type": "stream",
     "text": [
      "Average Magnetization: -0.9621 ± 0.0014\n",
      "autocorr_time 358.4977\n",
      "\n",
      "Running Metropolis at T = 1.80\n",
      "Starting warmup phase...\n"
     ]
    },
    {
     "name": "stderr",
     "output_type": "stream",
     "text": [
      "100%|██████████| 100000/100000 [00:00<00:00, 105545.89it/s]\n"
     ]
    },
    {
     "name": "stdout",
     "output_type": "stream",
     "text": [
      "Starting production phase...\n"
     ]
    },
    {
     "name": "stderr",
     "output_type": "stream",
     "text": [
      "100%|██████████| 1000000/1000000 [00:18<00:00, 53102.26it/s]\n"
     ]
    },
    {
     "name": "stdout",
     "output_type": "stream",
     "text": [
      "Average Magnetization: 0.9547 ± 0.0019\n",
      "autocorr_time 470.3837\n",
      "\n",
      "Running Metropolis at T = 1.85\n",
      "Starting warmup phase...\n"
     ]
    },
    {
     "name": "stderr",
     "output_type": "stream",
     "text": [
      "100%|██████████| 100000/100000 [00:00<00:00, 105070.45it/s]\n"
     ]
    },
    {
     "name": "stdout",
     "output_type": "stream",
     "text": [
      "Starting production phase...\n"
     ]
    },
    {
     "name": "stderr",
     "output_type": "stream",
     "text": [
      "100%|██████████| 1000000/1000000 [00:18<00:00, 54979.74it/s]\n"
     ]
    },
    {
     "name": "stdout",
     "output_type": "stream",
     "text": [
      "Average Magnetization: -0.9474 ± 0.0020\n",
      "autocorr_time 438.9352\n",
      "\n",
      "Running Metropolis at T = 1.90\n",
      "Starting warmup phase...\n"
     ]
    },
    {
     "name": "stderr",
     "output_type": "stream",
     "text": [
      "100%|██████████| 100000/100000 [00:00<00:00, 110775.91it/s]\n"
     ]
    },
    {
     "name": "stdout",
     "output_type": "stream",
     "text": [
      "Starting production phase...\n"
     ]
    },
    {
     "name": "stderr",
     "output_type": "stream",
     "text": [
      "100%|██████████| 1000000/1000000 [00:18<00:00, 54724.96it/s]\n"
     ]
    },
    {
     "name": "stdout",
     "output_type": "stream",
     "text": [
      "Average Magnetization: 0.9408 ± 0.0019\n",
      "autocorr_time 376.6682\n",
      "\n",
      "Running Metropolis at T = 1.95\n",
      "Starting warmup phase...\n"
     ]
    },
    {
     "name": "stderr",
     "output_type": "stream",
     "text": [
      "100%|██████████| 100000/100000 [00:00<00:00, 104056.39it/s]\n"
     ]
    },
    {
     "name": "stdout",
     "output_type": "stream",
     "text": [
      "Starting production phase...\n"
     ]
    },
    {
     "name": "stderr",
     "output_type": "stream",
     "text": [
      "100%|██████████| 1000000/1000000 [00:18<00:00, 55237.91it/s]\n"
     ]
    },
    {
     "name": "stdout",
     "output_type": "stream",
     "text": [
      "Average Magnetization: 0.8424 ± 0.0916\n",
      "autocorr_time 27203.7436\n",
      "\n",
      "Running Metropolis at T = 2.00\n",
      "Starting warmup phase...\n"
     ]
    },
    {
     "name": "stderr",
     "output_type": "stream",
     "text": [
      "100%|██████████| 100000/100000 [00:00<00:00, 105699.92it/s]\n"
     ]
    },
    {
     "name": "stdout",
     "output_type": "stream",
     "text": [
      "Starting production phase...\n"
     ]
    },
    {
     "name": "stderr",
     "output_type": "stream",
     "text": [
      "100%|██████████| 1000000/1000000 [00:18<00:00, 54140.61it/s]\n"
     ]
    },
    {
     "name": "stdout",
     "output_type": "stream",
     "text": [
      "Average Magnetization: -0.0352 ± 0.6074\n",
      "autocorr_time 219159.8320\n",
      "\n",
      "Running Metropolis at T = 2.05\n",
      "Starting warmup phase...\n"
     ]
    },
    {
     "name": "stderr",
     "output_type": "stream",
     "text": [
      "100%|██████████| 100000/100000 [00:00<00:00, 105530.04it/s]\n"
     ]
    },
    {
     "name": "stdout",
     "output_type": "stream",
     "text": [
      "Starting production phase...\n"
     ]
    },
    {
     "name": "stderr",
     "output_type": "stream",
     "text": [
      "100%|██████████| 1000000/1000000 [00:19<00:00, 52301.50it/s]\n"
     ]
    },
    {
     "name": "stdout",
     "output_type": "stream",
     "text": [
      "Average Magnetization: -0.0753 ± 0.5064\n",
      "autocorr_time 157851.8723\n",
      "\n",
      "Running Metropolis at T = 2.10\n",
      "Starting warmup phase...\n"
     ]
    },
    {
     "name": "stderr",
     "output_type": "stream",
     "text": [
      "100%|██████████| 100000/100000 [00:01<00:00, 95260.96it/s]\n"
     ]
    },
    {
     "name": "stdout",
     "output_type": "stream",
     "text": [
      "Starting production phase...\n"
     ]
    },
    {
     "name": "stderr",
     "output_type": "stream",
     "text": [
      "100%|██████████| 1000000/1000000 [00:18<00:00, 55456.71it/s]\n"
     ]
    },
    {
     "name": "stdout",
     "output_type": "stream",
     "text": [
      "Average Magnetization: 0.0984 ± 0.2914\n",
      "autocorr_time 54582.8028\n",
      "\n",
      "Running Metropolis at T = 2.15\n",
      "Starting warmup phase...\n"
     ]
    },
    {
     "name": "stderr",
     "output_type": "stream",
     "text": [
      "100%|██████████| 100000/100000 [00:00<00:00, 110649.32it/s]\n"
     ]
    },
    {
     "name": "stdout",
     "output_type": "stream",
     "text": [
      "Starting production phase...\n"
     ]
    },
    {
     "name": "stderr",
     "output_type": "stream",
     "text": [
      "100%|██████████| 1000000/1000000 [00:18<00:00, 53180.93it/s]\n"
     ]
    },
    {
     "name": "stdout",
     "output_type": "stream",
     "text": [
      "Average Magnetization: -0.3572 ± 0.3763\n",
      "autocorr_time 113140.8397\n",
      "\n",
      "Running Metropolis at T = 2.20\n",
      "Starting warmup phase...\n"
     ]
    },
    {
     "name": "stderr",
     "output_type": "stream",
     "text": [
      "100%|██████████| 100000/100000 [00:00<00:00, 104226.30it/s]\n"
     ]
    },
    {
     "name": "stdout",
     "output_type": "stream",
     "text": [
      "Starting production phase...\n"
     ]
    },
    {
     "name": "stderr",
     "output_type": "stream",
     "text": [
      "100%|██████████| 1000000/1000000 [00:18<00:00, 54606.30it/s]\n"
     ]
    },
    {
     "name": "stdout",
     "output_type": "stream",
     "text": [
      "Average Magnetization: -0.0223 ± 0.2360\n",
      "autocorr_time 39609.1005\n",
      "\n",
      "Running Metropolis at T = 2.25\n",
      "Starting warmup phase...\n"
     ]
    },
    {
     "name": "stderr",
     "output_type": "stream",
     "text": [
      "100%|██████████| 100000/100000 [00:00<00:00, 103956.38it/s]\n"
     ]
    },
    {
     "name": "stdout",
     "output_type": "stream",
     "text": [
      "Starting production phase...\n"
     ]
    },
    {
     "name": "stderr",
     "output_type": "stream",
     "text": [
      "100%|██████████| 1000000/1000000 [00:18<00:00, 55436.64it/s]\n"
     ]
    },
    {
     "name": "stdout",
     "output_type": "stream",
     "text": [
      "Average Magnetization: 0.0681 ± 0.2071\n",
      "autocorr_time 32402.6695\n",
      "\n",
      "Running Metropolis at T = 2.30\n",
      "Starting warmup phase...\n"
     ]
    },
    {
     "name": "stderr",
     "output_type": "stream",
     "text": [
      "100%|██████████| 100000/100000 [00:00<00:00, 112071.80it/s]\n"
     ]
    },
    {
     "name": "stdout",
     "output_type": "stream",
     "text": [
      "Starting production phase...\n"
     ]
    },
    {
     "name": "stderr",
     "output_type": "stream",
     "text": [
      "100%|██████████| 1000000/1000000 [00:18<00:00, 55253.80it/s]\n"
     ]
    },
    {
     "name": "stdout",
     "output_type": "stream",
     "text": [
      "Average Magnetization: 0.1033 ± 0.1475\n",
      "autocorr_time 17582.0702\n",
      "\n",
      "Running Metropolis at T = 2.35\n",
      "Starting warmup phase...\n"
     ]
    },
    {
     "name": "stderr",
     "output_type": "stream",
     "text": [
      "100%|██████████| 100000/100000 [00:00<00:00, 106898.02it/s]\n"
     ]
    },
    {
     "name": "stdout",
     "output_type": "stream",
     "text": [
      "Starting production phase...\n"
     ]
    },
    {
     "name": "stderr",
     "output_type": "stream",
     "text": [
      "100%|██████████| 1000000/1000000 [00:18<00:00, 54097.67it/s]\n"
     ]
    },
    {
     "name": "stdout",
     "output_type": "stream",
     "text": [
      "Average Magnetization: -0.0807 ± 0.1305\n",
      "autocorr_time 15138.4208\n",
      "\n",
      "Running Metropolis at T = 2.40\n",
      "Starting warmup phase...\n"
     ]
    },
    {
     "name": "stderr",
     "output_type": "stream",
     "text": [
      "100%|██████████| 100000/100000 [00:01<00:00, 97241.61it/s]\n"
     ]
    },
    {
     "name": "stdout",
     "output_type": "stream",
     "text": [
      "Starting production phase...\n"
     ]
    },
    {
     "name": "stderr",
     "output_type": "stream",
     "text": [
      "100%|██████████| 1000000/1000000 [00:18<00:00, 53972.58it/s]\n"
     ]
    },
    {
     "name": "stdout",
     "output_type": "stream",
     "text": [
      "Average Magnetization: -0.0599 ± 0.1366\n",
      "autocorr_time 17556.7054\n",
      "\n",
      "Running Metropolis at T = 2.45\n",
      "Starting warmup phase...\n"
     ]
    },
    {
     "name": "stderr",
     "output_type": "stream",
     "text": [
      "100%|██████████| 100000/100000 [00:00<00:00, 105903.88it/s]\n"
     ]
    },
    {
     "name": "stdout",
     "output_type": "stream",
     "text": [
      "Starting production phase...\n"
     ]
    },
    {
     "name": "stderr",
     "output_type": "stream",
     "text": [
      "100%|██████████| 1000000/1000000 [00:17<00:00, 55645.48it/s]\n"
     ]
    },
    {
     "name": "stdout",
     "output_type": "stream",
     "text": [
      "Average Magnetization: -0.0006 ± 0.1014\n",
      "autocorr_time 10673.8267\n",
      "\n",
      "Running Metropolis at T = 2.50\n",
      "Starting warmup phase...\n"
     ]
    },
    {
     "name": "stderr",
     "output_type": "stream",
     "text": [
      "100%|██████████| 100000/100000 [00:00<00:00, 110986.00it/s]\n"
     ]
    },
    {
     "name": "stdout",
     "output_type": "stream",
     "text": [
      "Starting production phase...\n"
     ]
    },
    {
     "name": "stderr",
     "output_type": "stream",
     "text": [
      "100%|██████████| 1000000/1000000 [00:18<00:00, 55042.25it/s]\n"
     ]
    },
    {
     "name": "stdout",
     "output_type": "stream",
     "text": [
      "Average Magnetization: -0.0216 ± 0.0790\n",
      "autocorr_time 7396.8440\n",
      "\n",
      "Running Metropolis at T = 2.55\n",
      "Starting warmup phase...\n"
     ]
    },
    {
     "name": "stderr",
     "output_type": "stream",
     "text": [
      "100%|██████████| 100000/100000 [00:00<00:00, 114562.50it/s]\n"
     ]
    },
    {
     "name": "stdout",
     "output_type": "stream",
     "text": [
      "Starting production phase...\n"
     ]
    },
    {
     "name": "stderr",
     "output_type": "stream",
     "text": [
      "100%|██████████| 1000000/1000000 [00:17<00:00, 55717.95it/s]\n"
     ]
    },
    {
     "name": "stdout",
     "output_type": "stream",
     "text": [
      "Average Magnetization: 0.0198 ± 0.0648\n",
      "autocorr_time 5514.5257\n",
      "\n",
      "Running Metropolis at T = 2.60\n",
      "Starting warmup phase...\n"
     ]
    },
    {
     "name": "stderr",
     "output_type": "stream",
     "text": [
      "100%|██████████| 100000/100000 [00:00<00:00, 107502.98it/s]\n"
     ]
    },
    {
     "name": "stdout",
     "output_type": "stream",
     "text": [
      "Starting production phase...\n"
     ]
    },
    {
     "name": "stderr",
     "output_type": "stream",
     "text": [
      "100%|██████████| 1000000/1000000 [00:17<00:00, 56067.87it/s]\n"
     ]
    },
    {
     "name": "stdout",
     "output_type": "stream",
     "text": [
      "Average Magnetization: -0.0466 ± 0.0665\n",
      "autocorr_time 6252.7567\n",
      "\n",
      "Running Metropolis at T = 2.65\n",
      "Starting warmup phase...\n"
     ]
    },
    {
     "name": "stderr",
     "output_type": "stream",
     "text": [
      "100%|██████████| 100000/100000 [00:00<00:00, 110215.74it/s]\n"
     ]
    },
    {
     "name": "stdout",
     "output_type": "stream",
     "text": [
      "Starting production phase...\n"
     ]
    },
    {
     "name": "stderr",
     "output_type": "stream",
     "text": [
      "100%|██████████| 1000000/1000000 [00:18<00:00, 54743.03it/s]\n"
     ]
    },
    {
     "name": "stdout",
     "output_type": "stream",
     "text": [
      "Average Magnetization: -0.0988 ± 0.0561\n",
      "autocorr_time 4853.5817\n",
      "\n",
      "Running Metropolis at T = 2.70\n",
      "Starting warmup phase...\n"
     ]
    },
    {
     "name": "stderr",
     "output_type": "stream",
     "text": [
      "100%|██████████| 100000/100000 [00:00<00:00, 108569.06it/s]\n"
     ]
    },
    {
     "name": "stdout",
     "output_type": "stream",
     "text": [
      "Starting production phase...\n"
     ]
    },
    {
     "name": "stderr",
     "output_type": "stream",
     "text": [
      "100%|██████████| 1000000/1000000 [00:18<00:00, 55342.77it/s]\n"
     ]
    },
    {
     "name": "stdout",
     "output_type": "stream",
     "text": [
      "Average Magnetization: 0.0098 ± 0.0424\n",
      "autocorr_time 3177.0133\n",
      "\n",
      "Running Metropolis at T = 2.75\n",
      "Starting warmup phase...\n"
     ]
    },
    {
     "name": "stderr",
     "output_type": "stream",
     "text": [
      "100%|██████████| 100000/100000 [00:00<00:00, 110451.44it/s]\n"
     ]
    },
    {
     "name": "stdout",
     "output_type": "stream",
     "text": [
      "Starting production phase...\n"
     ]
    },
    {
     "name": "stderr",
     "output_type": "stream",
     "text": [
      "100%|██████████| 1000000/1000000 [00:18<00:00, 53204.91it/s]\n"
     ]
    },
    {
     "name": "stdout",
     "output_type": "stream",
     "text": [
      "Average Magnetization: -0.0464 ± 0.0401\n",
      "autocorr_time 3165.2818\n",
      "\n",
      "Running Metropolis at T = 2.80\n",
      "Starting warmup phase...\n"
     ]
    },
    {
     "name": "stderr",
     "output_type": "stream",
     "text": [
      "100%|██████████| 100000/100000 [00:01<00:00, 88501.30it/s]\n"
     ]
    },
    {
     "name": "stdout",
     "output_type": "stream",
     "text": [
      "Starting production phase...\n"
     ]
    },
    {
     "name": "stderr",
     "output_type": "stream",
     "text": [
      "100%|██████████| 1000000/1000000 [00:18<00:00, 54838.72it/s]\n"
     ]
    },
    {
     "name": "stdout",
     "output_type": "stream",
     "text": [
      "Average Magnetization: 0.0109 ± 0.0352\n",
      "autocorr_time 2679.3110\n",
      "\n",
      "Running Metropolis at T = 2.85\n",
      "Starting warmup phase...\n"
     ]
    },
    {
     "name": "stderr",
     "output_type": "stream",
     "text": [
      "100%|██████████| 100000/100000 [00:01<00:00, 97769.51it/s]\n"
     ]
    },
    {
     "name": "stdout",
     "output_type": "stream",
     "text": [
      "Starting production phase...\n"
     ]
    },
    {
     "name": "stderr",
     "output_type": "stream",
     "text": [
      "100%|██████████| 1000000/1000000 [00:18<00:00, 55075.22it/s]\n"
     ]
    },
    {
     "name": "stdout",
     "output_type": "stream",
     "text": [
      "Average Magnetization: 0.0120 ± 0.0328\n",
      "autocorr_time 2570.1048\n",
      "\n",
      "Running Metropolis at T = 2.90\n",
      "Starting warmup phase...\n"
     ]
    },
    {
     "name": "stderr",
     "output_type": "stream",
     "text": [
      "100%|██████████| 100000/100000 [00:01<00:00, 96792.98it/s]\n"
     ]
    },
    {
     "name": "stdout",
     "output_type": "stream",
     "text": [
      "Starting production phase...\n"
     ]
    },
    {
     "name": "stderr",
     "output_type": "stream",
     "text": [
      "100%|██████████| 1000000/1000000 [00:18<00:00, 54604.94it/s]\n"
     ]
    },
    {
     "name": "stdout",
     "output_type": "stream",
     "text": [
      "Average Magnetization: -0.0209 ± 0.0292\n",
      "autocorr_time 2084.3620\n",
      "\n",
      "Running Metropolis at T = 2.95\n",
      "Starting warmup phase...\n"
     ]
    },
    {
     "name": "stderr",
     "output_type": "stream",
     "text": [
      "100%|██████████| 100000/100000 [00:00<00:00, 106714.13it/s]\n"
     ]
    },
    {
     "name": "stdout",
     "output_type": "stream",
     "text": [
      "Starting production phase...\n"
     ]
    },
    {
     "name": "stderr",
     "output_type": "stream",
     "text": [
      "100%|██████████| 1000000/1000000 [00:18<00:00, 53944.08it/s]\n"
     ]
    },
    {
     "name": "stdout",
     "output_type": "stream",
     "text": [
      "Average Magnetization: 0.0241 ± 0.0258\n",
      "autocorr_time 1779.1262\n",
      "\n",
      "Running Metropolis at T = 3.00\n",
      "Starting warmup phase...\n"
     ]
    },
    {
     "name": "stderr",
     "output_type": "stream",
     "text": [
      "100%|██████████| 100000/100000 [00:00<00:00, 106413.20it/s]\n"
     ]
    },
    {
     "name": "stdout",
     "output_type": "stream",
     "text": [
      "Starting production phase...\n"
     ]
    },
    {
     "name": "stderr",
     "output_type": "stream",
     "text": [
      "100%|██████████| 1000000/1000000 [00:18<00:00, 54996.27it/s]\n"
     ]
    },
    {
     "name": "stdout",
     "output_type": "stream",
     "text": [
      "Average Magnetization: 0.0100 ± 0.0227\n",
      "autocorr_time 1566.5293\n"
     ]
    }
   ],
   "source": [
    "import numpy as np\n",
    "import matplotlib.pyplot as plt\n",
    "from ising_lattice import IsingLattice\n",
    "from monte_carlo import MonteCarlo\n",
    "\n",
    "temperatures = np.linspace(1.5, 3.0, 31)  # Temperature range\n",
    "Lx = 8\n",
    "Ly = 8 \n",
    "J = -1.0\n",
    "steps = 1_000_000  # production steps after warmup\n",
    "warmup_steps = 100_000  # warmup steps\n",
    "method = \"metropolis\"    ##  wolff\n",
    "\n",
    "# --- Storage ---\n",
    "avg_magnetization_m = []\n",
    "magnetization_errors_m = []\n",
    "susceptibilities_m = []\n",
    "susceptibility_errors_m = []\n",
    "autocorr_time_list_m = []\n",
    "def autocorr(x):\n",
    "    x = np.asarray(x, float)\n",
    "    x = x - x.mean()\n",
    "    n = len(x)\n",
    "    result = np.correlate(x, x, mode='full')\n",
    "    acov = result[n-1:]   # lags 0..n-1\n",
    "    acov /= np.arange(n, 0, -1)   # unbiased: divide by N-k\n",
    "    return acov / acov[0]         # normalize → acf[0]=1\n",
    "\n",
    "def autocorr_time(correlation):\n",
    "    for i, val in enumerate(correlation[1:], 1):\n",
    "        if val < 0:\n",
    "            return 1 + 2 * np.sum(correlation[1:i])\n",
    "    return 1 + 2 * np.sum(correlation[1:])\n",
    "\n",
    "def autocorr_fft(x, unbiased=True):\n",
    "    \"\"\"\n",
    "    Compute autocorrelation of a 1D array using FFT (fast, O(n log n)).\n",
    "    \n",
    "    Returns:\n",
    "        acf : array of length n (lags 0..n-1), normalized so acf[0] = 1.\n",
    "    \n",
    "    Parameters:\n",
    "        unbiased : if True, normalize by (n - lag),\n",
    "                   else normalize by n (biased).\n",
    "    \"\"\"\n",
    "    x = np.asarray(x, dtype=float)\n",
    "    n = x.size\n",
    "    x = x - x.mean()\n",
    "\n",
    "    # FFT length (next power of two >= 2n-1 for linear convolution)\n",
    "    nfft = 1 << (2*n - 1).bit_length()\n",
    "\n",
    "    # Power spectrum\n",
    "    f = np.fft.rfft(x, n=nfft)\n",
    "    acov = np.fft.irfft(f * np.conjugate(f), n=nfft)[:n]\n",
    "\n",
    "    # Variance\n",
    "    var = acov[0] / n\n",
    "\n",
    "    # Normalize to get correlation\n",
    "    if unbiased:\n",
    "        denom = var * (n - np.arange(n))\n",
    "    else:\n",
    "        denom = var * n\n",
    "\n",
    "    acf = acov / denom\n",
    "    return acf\n",
    "\n",
    "# --- Loop over temperatures ---\n",
    "for T in temperatures:\n",
    "    print(f\"\\nRunning Metropolis at T = {T:.2f}\")\n",
    "\n",
    "    lattice = IsingLattice(Lx, Ly, J=J)\n",
    "    mc = MonteCarlo(lattice)\n",
    "    mc.run_loop(warmup_steps=warmup_steps,steps=steps, T=T, method=method)\n",
    "\n",
    "    acc = mc.acc  \n",
    "\n",
    "    M_vals = np.asarray(acc.magnetization)\n",
    "    M_mean = M_vals.mean()\n",
    "    tau = acc.magnetization_tau_int\n",
    "    M_err = acc.calculate_error(M_vals, tau)\n",
    "\n",
    "    chi = np.mean(acc.susceptibility)\n",
    "    # chi_err = acc.(M_vals, T, lattice.N)\n",
    "    \n",
    "\n",
    "    acf=autocorr_fft(acc.magnetization)\n",
    "    acf_time=autocorr_time(acf)\n",
    "    autocorr_time_list.append(acf_time)  \n",
    "    M_err=np.sqrt(np.var(acc.magnetization)*2*acf_time/len(acc.magnetization))\n",
    "    chi_err=np.sqrt(np.var(acc.susceptibility)*2*acf_time/len(acc.susceptibility))\n",
    "\n",
    "\n",
    "    avg_magnetization.append(M_mean)\n",
    "    magnetization_errors.append(M_err)\n",
    "    susceptibilities.append(chi)\n",
    "    susceptibility_errors.append(chi_err)\n",
    "    print(f\"Average Magnetization: {M_mean:.4f} ± {M_err:.4f}\")\n",
    "    print(f\"autocorr_time {acf_time:.4f}\")"
   ]
  },
  {
   "cell_type": "code",
   "execution_count": 3,
   "id": "fbb5d920",
   "metadata": {},
   "outputs": [
    {
     "data": {
      "image/png": "[encoded data removed]",
      "text/plain": [
       "<Figure size 1200x300 with 3 Axes>"
      ]
     },
     "metadata": {},
     "output_type": "display_data"
    }
   ],
   "source": [
    "\n",
    "import numpy as np\n",
    "import matplotlib.pyplot as plt\n",
    "\n",
    "\n",
    "fig, axs = plt.subplots(1, 3, figsize=(12, 3))\n",
    "\n",
    "axs[0].plot(temperatures, np.abs(avg_magnetization))\n",
    "axs[0].errorbar(temperatures, np.abs(avg_magnetization), yerr=magnetization_errors, fmt='o', capsize=4)\n",
    "axs[0].set_xlabel(\"Temperature T\")\n",
    "axs[0].set_ylabel(\"⟨M⟩\")\n",
    "axs[0].set_ylim(0,1)\n",
    "axs[0].set_title(\"Average Magnetization\")\n",
    "# axs[0].tick_params(which='both', direction='in', top=True, right=True)\n",
    "\n",
    "axs[1].errorbar(temperatures, susceptibilities, yerr=susceptibility_errors, fmt='o', capsize=4)\n",
    "axs[1].set_xlabel(\"Temperature T\")\n",
    "axs[1].set_ylabel(\"χ\")\n",
    "axs[1].set_title(\"Susceptibility\")\n",
    "\n",
    "axs[2].plot(temperatures, autocorr_time_list, marker='o')\n",
    "# axs[2].set_yscale('log')\n",
    "axs[2].set_xlabel(\"Temperature T\")\n",
    "axs[2].set_ylabel(\"τ_int\")\n",
    "axs[2].set_title(\"Autocorrelation Time\")\n",
    "# plt.savefig('100ksteps')\n",
    "plt.tight_layout()\n",
    "plt.show()\n"
   ]
  },
  {
   "cell_type": "code",
   "execution_count": 4,
   "id": "2f397dbe",
   "metadata": {},
   "outputs": [
    {
     "name": "stdout",
     "output_type": "stream",
     "text": [
      "\n",
      "Running Metropolis at T = 1.50\n",
      "Starting warmup phase...\n"
     ]
    },
    {
     "name": "stderr",
     "output_type": "stream",
     "text": [
      "100%|██████████| 10000/10000 [00:00<00:00, 65338.96it/s]\n"
     ]
    },
    {
     "name": "stdout",
     "output_type": "stream",
     "text": [
      "Starting production phase...\n"
     ]
    },
    {
     "name": "stderr",
     "output_type": "stream",
     "text": [
      "100%|██████████| 100000/100000 [00:02<00:00, 49760.09it/s]\n"
     ]
    },
    {
     "name": "stdout",
     "output_type": "stream",
     "text": [
      "Average Magnetization: -0.9848 ± 0.0020\n",
      "autocorr_time 266.0710\n",
      "\n",
      "Running Metropolis at T = 1.55\n",
      "Starting warmup phase...\n"
     ]
    },
    {
     "name": "stderr",
     "output_type": "stream",
     "text": [
      "100%|██████████| 10000/10000 [00:00<00:00, 106052.28it/s]\n"
     ]
    },
    {
     "name": "stdout",
     "output_type": "stream",
     "text": [
      "Starting production phase...\n"
     ]
    },
    {
     "name": "stderr",
     "output_type": "stream",
     "text": [
      "100%|██████████| 100000/100000 [00:01<00:00, 54256.71it/s]\n"
     ]
    },
    {
     "name": "stdout",
     "output_type": "stream",
     "text": [
      "Average Magnetization: -0.9818 ± 0.0022\n",
      "autocorr_time 238.4939\n",
      "\n",
      "Running Metropolis at T = 1.60\n",
      "Starting warmup phase...\n"
     ]
    },
    {
     "name": "stderr",
     "output_type": "stream",
     "text": [
      "100%|██████████| 10000/10000 [00:00<00:00, 97269.60it/s]\n"
     ]
    },
    {
     "name": "stdout",
     "output_type": "stream",
     "text": [
      "Starting production phase...\n"
     ]
    },
    {
     "name": "stderr",
     "output_type": "stream",
     "text": [
      "100%|██████████| 100000/100000 [00:01<00:00, 50465.42it/s]\n"
     ]
    },
    {
     "name": "stdout",
     "output_type": "stream",
     "text": [
      "Average Magnetization: 0.9743 ± 0.0049\n",
      "autocorr_time 495.4270\n",
      "\n",
      "Running Metropolis at T = 1.65\n",
      "Starting warmup phase...\n"
     ]
    },
    {
     "name": "stderr",
     "output_type": "stream",
     "text": [
      "100%|██████████| 10000/10000 [00:00<00:00, 107625.18it/s]\n"
     ]
    },
    {
     "name": "stdout",
     "output_type": "stream",
     "text": [
      "Starting production phase...\n"
     ]
    },
    {
     "name": "stderr",
     "output_type": "stream",
     "text": [
      "100%|██████████| 100000/100000 [00:01<00:00, 52512.51it/s]\n"
     ]
    },
    {
     "name": "stdout",
     "output_type": "stream",
     "text": [
      "Average Magnetization: 0.9690 ± 0.0058\n",
      "autocorr_time 517.9903\n",
      "\n",
      "Running Metropolis at T = 1.70\n",
      "Starting warmup phase...\n"
     ]
    },
    {
     "name": "stderr",
     "output_type": "stream",
     "text": [
      "100%|██████████| 10000/10000 [00:00<00:00, 74850.97it/s]\n"
     ]
    },
    {
     "name": "stdout",
     "output_type": "stream",
     "text": [
      "Starting production phase...\n"
     ]
    },
    {
     "name": "stderr",
     "output_type": "stream",
     "text": [
      "100%|██████████| 100000/100000 [00:01<00:00, 54219.72it/s]\n"
     ]
    },
    {
     "name": "stdout",
     "output_type": "stream",
     "text": [
      "Average Magnetization: -0.9668 ± 0.0038\n",
      "autocorr_time 278.7139\n",
      "\n",
      "Running Metropolis at T = 1.75\n",
      "Starting warmup phase...\n"
     ]
    },
    {
     "name": "stderr",
     "output_type": "stream",
     "text": [
      "100%|██████████| 10000/10000 [00:00<00:00, 101733.62it/s]\n"
     ]
    },
    {
     "name": "stdout",
     "output_type": "stream",
     "text": [
      "Starting production phase...\n"
     ]
    },
    {
     "name": "stderr",
     "output_type": "stream",
     "text": [
      "100%|██████████| 100000/100000 [00:01<00:00, 53273.05it/s]\n"
     ]
    },
    {
     "name": "stdout",
     "output_type": "stream",
     "text": [
      "Average Magnetization: -0.5844 ± 0.4834\n",
      "autocorr_time 20728.4816\n",
      "\n",
      "Running Metropolis at T = 1.80\n",
      "Starting warmup phase...\n"
     ]
    },
    {
     "name": "stderr",
     "output_type": "stream",
     "text": [
      "100%|██████████| 10000/10000 [00:00<00:00, 72033.17it/s]\n"
     ]
    },
    {
     "name": "stdout",
     "output_type": "stream",
     "text": [
      "Starting production phase...\n"
     ]
    },
    {
     "name": "stderr",
     "output_type": "stream",
     "text": [
      "100%|██████████| 100000/100000 [00:01<00:00, 54931.06it/s]\n"
     ]
    },
    {
     "name": "stdout",
     "output_type": "stream",
     "text": [
      "Average Magnetization: -0.9515 ± 0.0081\n",
      "autocorr_time 545.6591\n",
      "\n",
      "Running Metropolis at T = 1.85\n",
      "Starting warmup phase...\n"
     ]
    },
    {
     "name": "stderr",
     "output_type": "stream",
     "text": [
      "100%|██████████| 10000/10000 [00:00<00:00, 96354.11it/s]\n"
     ]
    },
    {
     "name": "stdout",
     "output_type": "stream",
     "text": [
      "Starting production phase...\n"
     ]
    },
    {
     "name": "stderr",
     "output_type": "stream",
     "text": [
      "100%|██████████| 100000/100000 [00:01<00:00, 50268.47it/s]\n"
     ]
    },
    {
     "name": "stdout",
     "output_type": "stream",
     "text": [
      "Average Magnetization: 0.9540 ± 0.0041\n",
      "autocorr_time 260.5726\n",
      "\n",
      "Running Metropolis at T = 1.90\n",
      "Starting warmup phase...\n"
     ]
    },
    {
     "name": "stderr",
     "output_type": "stream",
     "text": [
      "100%|██████████| 10000/10000 [00:00<00:00, 75202.86it/s]\n"
     ]
    },
    {
     "name": "stdout",
     "output_type": "stream",
     "text": [
      "Starting production phase...\n"
     ]
    },
    {
     "name": "stderr",
     "output_type": "stream",
     "text": [
      "100%|██████████| 100000/100000 [00:01<00:00, 54841.19it/s]\n"
     ]
    },
    {
     "name": "stdout",
     "output_type": "stream",
     "text": [
      "Average Magnetization: -0.9428 ± 0.0044\n",
      "autocorr_time 252.3971\n",
      "\n",
      "Running Metropolis at T = 1.95\n",
      "Starting warmup phase...\n"
     ]
    },
    {
     "name": "stderr",
     "output_type": "stream",
     "text": [
      "100%|██████████| 10000/10000 [00:00<00:00, 110658.60it/s]\n"
     ]
    },
    {
     "name": "stdout",
     "output_type": "stream",
     "text": [
      "Starting production phase...\n"
     ]
    },
    {
     "name": "stderr",
     "output_type": "stream",
     "text": [
      "100%|██████████| 100000/100000 [00:01<00:00, 54813.40it/s]\n"
     ]
    },
    {
     "name": "stdout",
     "output_type": "stream",
     "text": [
      "Average Magnetization: 0.9135 ± 0.0116\n",
      "autocorr_time 608.8036\n",
      "\n",
      "Running Metropolis at T = 2.00\n",
      "Starting warmup phase...\n"
     ]
    },
    {
     "name": "stderr",
     "output_type": "stream",
     "text": [
      "100%|██████████| 10000/10000 [00:00<00:00, 99954.10it/s]\n"
     ]
    },
    {
     "name": "stdout",
     "output_type": "stream",
     "text": [
      "Starting production phase...\n"
     ]
    },
    {
     "name": "stderr",
     "output_type": "stream",
     "text": [
      "100%|██████████| 100000/100000 [00:01<00:00, 54176.33it/s]\n"
     ]
    },
    {
     "name": "stdout",
     "output_type": "stream",
     "text": [
      "Average Magnetization: -0.9206 ± 0.0064\n",
      "autocorr_time 323.1049\n",
      "\n",
      "Running Metropolis at T = 2.05\n",
      "Starting warmup phase...\n"
     ]
    },
    {
     "name": "stderr",
     "output_type": "stream",
     "text": [
      "100%|██████████| 10000/10000 [00:00<00:00, 114516.49it/s]\n"
     ]
    },
    {
     "name": "stdout",
     "output_type": "stream",
     "text": [
      "Starting production phase...\n"
     ]
    },
    {
     "name": "stderr",
     "output_type": "stream",
     "text": [
      "100%|██████████| 100000/100000 [00:01<00:00, 54695.60it/s]\n"
     ]
    },
    {
     "name": "stdout",
     "output_type": "stream",
     "text": [
      "Average Magnetization: -0.2426 ± 0.4442\n",
      "autocorr_time 13682.3541\n",
      "\n",
      "Running Metropolis at T = 2.10\n",
      "Starting warmup phase...\n"
     ]
    },
    {
     "name": "stderr",
     "output_type": "stream",
     "text": [
      "100%|██████████| 10000/10000 [00:00<00:00, 95184.48it/s]\n"
     ]
    },
    {
     "name": "stdout",
     "output_type": "stream",
     "text": [
      "Starting production phase...\n"
     ]
    },
    {
     "name": "stderr",
     "output_type": "stream",
     "text": [
      "100%|██████████| 100000/100000 [00:01<00:00, 53817.86it/s]\n"
     ]
    },
    {
     "name": "stdout",
     "output_type": "stream",
     "text": [
      "Average Magnetization: -0.6859 ± 0.2491\n",
      "autocorr_time 10574.9005\n",
      "\n",
      "Running Metropolis at T = 2.15\n",
      "Starting warmup phase...\n"
     ]
    },
    {
     "name": "stderr",
     "output_type": "stream",
     "text": [
      "100%|██████████| 10000/10000 [00:00<00:00, 108580.84it/s]\n"
     ]
    },
    {
     "name": "stdout",
     "output_type": "stream",
     "text": [
      "Starting production phase...\n"
     ]
    },
    {
     "name": "stderr",
     "output_type": "stream",
     "text": [
      "100%|██████████| 100000/100000 [00:01<00:00, 54714.14it/s]\n"
     ]
    },
    {
     "name": "stdout",
     "output_type": "stream",
     "text": [
      "Average Magnetization: -0.6659 ± 0.2778\n",
      "autocorr_time 12028.6413\n",
      "\n",
      "Running Metropolis at T = 2.20\n",
      "Starting warmup phase...\n"
     ]
    },
    {
     "name": "stderr",
     "output_type": "stream",
     "text": [
      "100%|██████████| 10000/10000 [00:00<00:00, 92886.81it/s]\n"
     ]
    },
    {
     "name": "stdout",
     "output_type": "stream",
     "text": [
      "Starting production phase...\n"
     ]
    },
    {
     "name": "stderr",
     "output_type": "stream",
     "text": [
      "100%|██████████| 100000/100000 [00:01<00:00, 51921.46it/s]\n"
     ]
    },
    {
     "name": "stdout",
     "output_type": "stream",
     "text": [
      "Average Magnetization: 0.8360 ± 0.0143\n",
      "autocorr_time 477.2057\n",
      "\n",
      "Running Metropolis at T = 2.25\n",
      "Starting warmup phase...\n"
     ]
    },
    {
     "name": "stderr",
     "output_type": "stream",
     "text": [
      "100%|██████████| 10000/10000 [00:00<00:00, 91274.57it/s]\n"
     ]
    },
    {
     "name": "stdout",
     "output_type": "stream",
     "text": [
      "Starting production phase...\n"
     ]
    },
    {
     "name": "stderr",
     "output_type": "stream",
     "text": [
      "100%|██████████| 100000/100000 [00:01<00:00, 51069.27it/s]\n"
     ]
    },
    {
     "name": "stdout",
     "output_type": "stream",
     "text": [
      "Average Magnetization: -0.0017 ± 0.4443\n",
      "autocorr_time 14746.6676\n",
      "\n",
      "Running Metropolis at T = 2.30\n",
      "Starting warmup phase...\n"
     ]
    },
    {
     "name": "stderr",
     "output_type": "stream",
     "text": [
      "100%|██████████| 10000/10000 [00:00<00:00, 109636.66it/s]\n"
     ]
    },
    {
     "name": "stdout",
     "output_type": "stream",
     "text": [
      "Starting production phase...\n"
     ]
    },
    {
     "name": "stderr",
     "output_type": "stream",
     "text": [
      "100%|██████████| 100000/100000 [00:01<00:00, 55320.18it/s]\n"
     ]
    },
    {
     "name": "stdout",
     "output_type": "stream",
     "text": [
      "Average Magnetization: -0.5628 ± 0.2141\n",
      "autocorr_time 7899.7730\n",
      "\n",
      "Running Metropolis at T = 2.35\n",
      "Starting warmup phase...\n"
     ]
    },
    {
     "name": "stderr",
     "output_type": "stream",
     "text": [
      "100%|██████████| 10000/10000 [00:00<00:00, 94432.70it/s]\n"
     ]
    },
    {
     "name": "stdout",
     "output_type": "stream",
     "text": [
      "Starting production phase...\n"
     ]
    },
    {
     "name": "stderr",
     "output_type": "stream",
     "text": [
      "100%|██████████| 100000/100000 [00:01<00:00, 55338.01it/s]\n"
     ]
    },
    {
     "name": "stdout",
     "output_type": "stream",
     "text": [
      "Average Magnetization: 0.2988 ± 0.4323\n",
      "autocorr_time 20076.6686\n",
      "\n",
      "Running Metropolis at T = 2.40\n",
      "Starting warmup phase...\n"
     ]
    },
    {
     "name": "stderr",
     "output_type": "stream",
     "text": [
      "100%|██████████| 10000/10000 [00:00<00:00, 101414.82it/s]\n"
     ]
    },
    {
     "name": "stdout",
     "output_type": "stream",
     "text": [
      "Starting production phase...\n"
     ]
    },
    {
     "name": "stderr",
     "output_type": "stream",
     "text": [
      "100%|██████████| 100000/100000 [00:01<00:00, 55382.16it/s]\n"
     ]
    },
    {
     "name": "stdout",
     "output_type": "stream",
     "text": [
      "Average Magnetization: 0.2122 ± 0.2965\n",
      "autocorr_time 8859.3868\n",
      "\n",
      "Running Metropolis at T = 2.45\n",
      "Starting warmup phase...\n"
     ]
    },
    {
     "name": "stderr",
     "output_type": "stream",
     "text": [
      "100%|██████████| 10000/10000 [00:00<00:00, 110441.81it/s]\n"
     ]
    },
    {
     "name": "stdout",
     "output_type": "stream",
     "text": [
      "Starting production phase...\n"
     ]
    },
    {
     "name": "stderr",
     "output_type": "stream",
     "text": [
      "100%|██████████| 100000/100000 [00:01<00:00, 53028.04it/s]\n"
     ]
    },
    {
     "name": "stdout",
     "output_type": "stream",
     "text": [
      "Average Magnetization: -0.2590 ± 0.2088\n",
      "autocorr_time 5566.7069\n",
      "\n",
      "Running Metropolis at T = 2.50\n",
      "Starting warmup phase...\n"
     ]
    },
    {
     "name": "stderr",
     "output_type": "stream",
     "text": [
      "100%|██████████| 10000/10000 [00:00<00:00, 75276.69it/s]\n"
     ]
    },
    {
     "name": "stdout",
     "output_type": "stream",
     "text": [
      "Starting production phase...\n"
     ]
    },
    {
     "name": "stderr",
     "output_type": "stream",
     "text": [
      "100%|██████████| 100000/100000 [00:01<00:00, 55776.90it/s]\n"
     ]
    },
    {
     "name": "stdout",
     "output_type": "stream",
     "text": [
      "Average Magnetization: 0.2603 ± 0.1563\n",
      "autocorr_time 3732.8568\n",
      "\n",
      "Running Metropolis at T = 2.55\n",
      "Starting warmup phase...\n"
     ]
    },
    {
     "name": "stderr",
     "output_type": "stream",
     "text": [
      "100%|██████████| 10000/10000 [00:00<00:00, 107980.11it/s]\n"
     ]
    },
    {
     "name": "stdout",
     "output_type": "stream",
     "text": [
      "Starting production phase...\n"
     ]
    },
    {
     "name": "stderr",
     "output_type": "stream",
     "text": [
      "100%|██████████| 100000/100000 [00:01<00:00, 54830.03it/s]\n"
     ]
    },
    {
     "name": "stdout",
     "output_type": "stream",
     "text": [
      "Average Magnetization: -0.0404 ± 0.2070\n",
      "autocorr_time 5791.1847\n",
      "\n",
      "Running Metropolis at T = 2.60\n",
      "Starting warmup phase...\n"
     ]
    },
    {
     "name": "stderr",
     "output_type": "stream",
     "text": [
      "100%|██████████| 10000/10000 [00:00<00:00, 106003.50it/s]\n"
     ]
    },
    {
     "name": "stdout",
     "output_type": "stream",
     "text": [
      "Starting production phase...\n"
     ]
    },
    {
     "name": "stderr",
     "output_type": "stream",
     "text": [
      "100%|██████████| 100000/100000 [00:01<00:00, 55490.49it/s]\n"
     ]
    },
    {
     "name": "stdout",
     "output_type": "stream",
     "text": [
      "Average Magnetization: -0.0902 ± 0.1538\n",
      "autocorr_time 3715.4159\n",
      "\n",
      "Running Metropolis at T = 2.65\n",
      "Starting warmup phase...\n"
     ]
    },
    {
     "name": "stderr",
     "output_type": "stream",
     "text": [
      "100%|██████████| 10000/10000 [00:00<00:00, 84327.11it/s]\n"
     ]
    },
    {
     "name": "stdout",
     "output_type": "stream",
     "text": [
      "Starting production phase...\n"
     ]
    },
    {
     "name": "stderr",
     "output_type": "stream",
     "text": [
      "100%|██████████| 100000/100000 [00:01<00:00, 50617.63it/s]\n"
     ]
    },
    {
     "name": "stdout",
     "output_type": "stream",
     "text": [
      "Average Magnetization: 0.1622 ± 0.1195\n",
      "autocorr_time 2612.2398\n",
      "\n",
      "Running Metropolis at T = 2.70\n",
      "Starting warmup phase...\n"
     ]
    },
    {
     "name": "stderr",
     "output_type": "stream",
     "text": [
      "100%|██████████| 10000/10000 [00:00<00:00, 67337.38it/s]\n"
     ]
    },
    {
     "name": "stdout",
     "output_type": "stream",
     "text": [
      "Starting production phase...\n"
     ]
    },
    {
     "name": "stderr",
     "output_type": "stream",
     "text": [
      "100%|██████████| 100000/100000 [00:01<00:00, 53887.72it/s]\n"
     ]
    },
    {
     "name": "stdout",
     "output_type": "stream",
     "text": [
      "Average Magnetization: -0.1072 ± 0.1145\n",
      "autocorr_time 2429.0609\n",
      "\n",
      "Running Metropolis at T = 2.75\n",
      "Starting warmup phase...\n"
     ]
    },
    {
     "name": "stderr",
     "output_type": "stream",
     "text": [
      "100%|██████████| 10000/10000 [00:00<00:00, 87142.24it/s]\n"
     ]
    },
    {
     "name": "stdout",
     "output_type": "stream",
     "text": [
      "Starting production phase...\n"
     ]
    },
    {
     "name": "stderr",
     "output_type": "stream",
     "text": [
      "100%|██████████| 100000/100000 [00:01<00:00, 54498.84it/s]\n"
     ]
    },
    {
     "name": "stdout",
     "output_type": "stream",
     "text": [
      "Average Magnetization: -0.0790 ± 0.1330\n",
      "autocorr_time 3451.6890\n",
      "\n",
      "Running Metropolis at T = 2.80\n",
      "Starting warmup phase...\n"
     ]
    },
    {
     "name": "stderr",
     "output_type": "stream",
     "text": [
      "100%|██████████| 10000/10000 [00:00<00:00, 111095.32it/s]\n"
     ]
    },
    {
     "name": "stdout",
     "output_type": "stream",
     "text": [
      "Starting production phase...\n"
     ]
    },
    {
     "name": "stderr",
     "output_type": "stream",
     "text": [
      "100%|██████████| 100000/100000 [00:01<00:00, 55117.36it/s]\n"
     ]
    },
    {
     "name": "stdout",
     "output_type": "stream",
     "text": [
      "Average Magnetization: 0.0373 ± 0.1080\n",
      "autocorr_time 2302.0443\n",
      "\n",
      "Running Metropolis at T = 2.85\n",
      "Starting warmup phase...\n"
     ]
    },
    {
     "name": "stderr",
     "output_type": "stream",
     "text": [
      "100%|██████████| 10000/10000 [00:00<00:00, 111209.91it/s]\n"
     ]
    },
    {
     "name": "stdout",
     "output_type": "stream",
     "text": [
      "Starting production phase...\n"
     ]
    },
    {
     "name": "stderr",
     "output_type": "stream",
     "text": [
      "100%|██████████| 100000/100000 [00:01<00:00, 54985.73it/s]\n"
     ]
    },
    {
     "name": "stdout",
     "output_type": "stream",
     "text": [
      "Average Magnetization: 0.0316 ± 0.0781\n",
      "autocorr_time 1547.6303\n",
      "\n",
      "Running Metropolis at T = 2.90\n",
      "Starting warmup phase...\n"
     ]
    },
    {
     "name": "stderr",
     "output_type": "stream",
     "text": [
      "100%|██████████| 10000/10000 [00:00<00:00, 96739.47it/s]\n"
     ]
    },
    {
     "name": "stdout",
     "output_type": "stream",
     "text": [
      "Starting production phase...\n"
     ]
    },
    {
     "name": "stderr",
     "output_type": "stream",
     "text": [
      "100%|██████████| 100000/100000 [00:01<00:00, 53589.00it/s]\n"
     ]
    },
    {
     "name": "stdout",
     "output_type": "stream",
     "text": [
      "Average Magnetization: -0.0065 ± 0.0879\n",
      "autocorr_time 2021.9557\n",
      "\n",
      "Running Metropolis at T = 2.95\n",
      "Starting warmup phase...\n"
     ]
    },
    {
     "name": "stderr",
     "output_type": "stream",
     "text": [
      "100%|██████████| 10000/10000 [00:00<00:00, 114313.00it/s]\n"
     ]
    },
    {
     "name": "stdout",
     "output_type": "stream",
     "text": [
      "Starting production phase...\n"
     ]
    },
    {
     "name": "stderr",
     "output_type": "stream",
     "text": [
      "100%|██████████| 100000/100000 [00:01<00:00, 53926.00it/s]\n"
     ]
    },
    {
     "name": "stdout",
     "output_type": "stream",
     "text": [
      "Average Magnetization: 0.0256 ± 0.0842\n",
      "autocorr_time 1866.6286\n",
      "\n",
      "Running Metropolis at T = 3.00\n",
      "Starting warmup phase...\n"
     ]
    },
    {
     "name": "stderr",
     "output_type": "stream",
     "text": [
      "100%|██████████| 10000/10000 [00:00<00:00, 110518.06it/s]\n"
     ]
    },
    {
     "name": "stdout",
     "output_type": "stream",
     "text": [
      "Starting production phase...\n"
     ]
    },
    {
     "name": "stderr",
     "output_type": "stream",
     "text": [
      "100%|██████████| 100000/100000 [00:01<00:00, 56172.15it/s]\n"
     ]
    },
    {
     "name": "stdout",
     "output_type": "stream",
     "text": [
      "Average Magnetization: 0.0849 ± 0.0654\n",
      "autocorr_time 1400.4792\n"
     ]
    }
   ],
   "source": [
    "import numpy as np\n",
    "import matplotlib.pyplot as plt\n",
    "from ising_lattice import IsingLattice\n",
    "from monte_carlo import MonteCarlo\n",
    "\n",
    "temperatures = np.linspace(1.5, 3.0, 31)  # Temperature range\n",
    "Lx = 8\n",
    "Ly = 8\n",
    "J = -1.0 \n",
    "steps = 1_00_000  # production steps after warmup\n",
    "warmup_steps = 10_000  # warmup steps\n",
    "method = \"metropolis\"    ##  wolff\n",
    "\n",
    "# --- Storage ---\n",
    "avg_magnetization = []\n",
    "magnetization_errors = []\n",
    "susceptibilities = []\n",
    "susceptibility_errors = []\n",
    "autocorr_time_list = []\n",
    "def autocorr(x):\n",
    "    x = np.asarray(x, float)\n",
    "    x = x - x.mean()\n",
    "    n = len(x)\n",
    "    result = np.correlate(x, x, mode='full')\n",
    "    acov = result[n-1:]   # lags 0..n-1\n",
    "    acov /= np.arange(n, 0, -1)   # unbiased: divide by N-k\n",
    "    return acov / acov[0]         # normalize → acf[0]=1\n",
    "\n",
    "def autocorr_time(correlation):\n",
    "    for i, val in enumerate(correlation[1:], 1):\n",
    "        if val < 0:\n",
    "            return 1 + 2 * np.sum(correlation[1:i])\n",
    "    return 1 + 2 * np.sum(correlation[1:])\n",
    "\n",
    "def autocorr_fft(x, unbiased=True):\n",
    "    \"\"\"\n",
    "    Compute autocorrelation of a 1D array using FFT (fast, O(n log n)).\n",
    "    \n",
    "    Returns:\n",
    "        acf : array of length n (lags 0..n-1), normalized so acf[0] = 1.\n",
    "    \n",
    "    Parameters:\n",
    "        unbiased : if True, normalize by (n - lag),\n",
    "                   else normalize by n (biased).\n",
    "    \"\"\"\n",
    "    x = np.asarray(x, dtype=float)\n",
    "    n = x.size\n",
    "    x = x - x.mean()\n",
    "\n",
    "    # FFT length (next power of two >= 2n-1 for linear convolution)\n",
    "    nfft = 1 << (2*n - 1).bit_length()\n",
    "\n",
    "    # Power spectrum\n",
    "    f = np.fft.rfft(x, n=nfft)\n",
    "    acov = np.fft.irfft(f * np.conjugate(f), n=nfft)[:n]\n",
    "\n",
    "    # Variance\n",
    "    var = acov[0] / n\n",
    "\n",
    "    # Normalize to get correlation\n",
    "    if unbiased:\n",
    "        denom = var * (n - np.arange(n))\n",
    "    else:\n",
    "        denom = var * n\n",
    "\n",
    "    acf = acov / denom\n",
    "    return acf\n",
    "\n",
    "# --- Loop over temperatures ---\n",
    "for T in temperatures:\n",
    "    print(f\"\\nRunning Metropolis at T = {T:.2f}\")\n",
    "\n",
    "    lattice = IsingLattice(Lx, Ly, J=J)\n",
    "    mc = MonteCarlo(lattice)\n",
    "    mc.run_loop(warmup_steps=warmup_steps,steps=steps, T=T, method=method)\n",
    "\n",
    "    acc = mc.acc  \n",
    "\n",
    "    M_vals = np.asarray(acc.magnetization)\n",
    "    M_mean = M_vals.mean()\n",
    "    tau = acc.magnetization_tau_int\n",
    "    M_err = acc.calculate_error(M_vals, tau)\n",
    "\n",
    "    chi = np.mean(acc.susceptibility)\n",
    "    # chi_err = acc.(M_vals, T, lattice.N)\n",
    "    \n",
    "\n",
    "    acf=autocorr_fft(acc.magnetization)\n",
    "    acf_time=autocorr_time(acf)\n",
    "    autocorr_time_list.append(acf_time)  \n",
    "    M_err=np.sqrt(np.var(acc.magnetization)*2*acf_time/len(acc.magnetization))\n",
    "    chi_err=np.sqrt(np.var(acc.susceptibility)*2*acf_time/len(acc.susceptibility))\n",
    "\n",
    "\n",
    "    avg_magnetization.append(M_mean)\n",
    "    magnetization_errors.append(M_err)\n",
    "    susceptibilities.append(chi)\n",
    "    susceptibility_errors.append(chi_err)\n",
    "    print(f\"Average Magnetization: {M_mean:.4f} ± {M_err:.4f}\")\n",
    "    print(f\"autocorr_time {acf_time:.4f}\")"
   ]
  },
  {
   "cell_type": "code",
   "execution_count": 5,
   "id": "a8610618",
   "metadata": {},
   "outputs": [
    {
     "data": {
      "image/png": "[encoded data removed]",
      "text/plain": [
       "<Figure size 1200x300 with 3 Axes>"
      ]
     },
     "metadata": {},
     "output_type": "display_data"
    }
   ],
   "source": [
    "\n",
    "import numpy as np\n",
    "import matplotlib.pyplot as plt\n",
    "\n",
    "\n",
    "fig, axs = plt.subplots(1, 3, figsize=(12, 3))\n",
    "\n",
    "axs[0].plot(temperatures, np.abs(avg_magnetization))\n",
    "axs[0].errorbar(temperatures, np.abs(avg_magnetization), yerr=magnetization_errors, fmt='o', capsize=4)\n",
    "axs[0].set_xlabel(\"Temperature T\")\n",
    "axs[0].set_ylabel(\"⟨M⟩\")\n",
    "axs[0].set_ylim(0,1)\n",
    "axs[0].set_title(\"Average Magnetization\")\n",
    "# axs[0].tick_params(which='both', direction='in', top=True, right=True)\n",
    "\n",
    "axs[1].errorbar(temperatures, susceptibilities, yerr=susceptibility_errors, fmt='o', capsize=4)\n",
    "axs[1].set_xlabel(\"Temperature T\")\n",
    "axs[1].set_ylabel(\"χ\")\n",
    "axs[1].set_title(\"Susceptibility\")\n",
    "\n",
    "axs[2].plot(temperatures, autocorr_time_list, marker='o')\n",
    "# axs[2].set_yscale('log')\n",
    "axs[2].set_xlabel(\"Temperature T\")\n",
    "axs[2].set_ylabel(\"τ_int\")\n",
    "axs[2].set_title(\"Autocorrelation Time\")\n",
    "# plt.savefig('100ksteps')\n",
    "plt.tight_layout()\n",
    "plt.show()\n"
   ]
  },
  {
   "cell_type": "code",
   "execution_count": 6,
   "id": "f15a3bfe",
   "metadata": {},
   "outputs": [
    {
     "name": "stdout",
     "output_type": "stream",
     "text": [
      "\n",
      "Running Metropolis at T = 1.50\n",
      "Starting warmup phase...\n"
     ]
    },
    {
     "name": "stderr",
     "output_type": "stream",
     "text": [
      "100%|██████████| 10000/10000 [00:00<00:00, 80941.27it/s]\n"
     ]
    },
    {
     "name": "stdout",
     "output_type": "stream",
     "text": [
      "Starting production phase...\n"
     ]
    },
    {
     "name": "stderr",
     "output_type": "stream",
     "text": [
      "100%|██████████| 100000/100000 [00:01<00:00, 54353.87it/s]\n"
     ]
    },
    {
     "name": "stdout",
     "output_type": "stream",
     "text": [
      "Average Magnetization: 0.9848 ± 0.0020\n",
      "autocorr_time 266.2087\n",
      "\n",
      "Running Metropolis at T = 1.55\n",
      "Starting warmup phase...\n"
     ]
    },
    {
     "name": "stderr",
     "output_type": "stream",
     "text": [
      "100%|██████████| 10000/10000 [00:00<00:00, 107773.69it/s]\n"
     ]
    },
    {
     "name": "stdout",
     "output_type": "stream",
     "text": [
      "Starting production phase...\n"
     ]
    },
    {
     "name": "stderr",
     "output_type": "stream",
     "text": [
      "100%|██████████| 100000/100000 [00:01<00:00, 53603.58it/s]\n"
     ]
    },
    {
     "name": "stdout",
     "output_type": "stream",
     "text": [
      "Average Magnetization: 0.9818 ± 0.0022\n",
      "autocorr_time 238.1291\n",
      "\n",
      "Running Metropolis at T = 1.60\n",
      "Starting warmup phase...\n"
     ]
    },
    {
     "name": "stderr",
     "output_type": "stream",
     "text": [
      "100%|██████████| 10000/10000 [00:00<00:00, 101835.38it/s]\n"
     ]
    },
    {
     "name": "stdout",
     "output_type": "stream",
     "text": [
      "Starting production phase...\n"
     ]
    },
    {
     "name": "stderr",
     "output_type": "stream",
     "text": [
      "100%|██████████| 100000/100000 [00:01<00:00, 53510.87it/s]\n"
     ]
    },
    {
     "name": "stdout",
     "output_type": "stream",
     "text": [
      "Average Magnetization: -0.9743 ± 0.0049\n",
      "autocorr_time 495.0893\n",
      "\n",
      "Running Metropolis at T = 1.65\n",
      "Starting warmup phase...\n"
     ]
    },
    {
     "name": "stderr",
     "output_type": "stream",
     "text": [
      "100%|██████████| 10000/10000 [00:00<00:00, 96759.10it/s]\n"
     ]
    },
    {
     "name": "stdout",
     "output_type": "stream",
     "text": [
      "Starting production phase...\n"
     ]
    },
    {
     "name": "stderr",
     "output_type": "stream",
     "text": [
      "100%|██████████| 100000/100000 [00:01<00:00, 54796.19it/s]\n"
     ]
    },
    {
     "name": "stdout",
     "output_type": "stream",
     "text": [
      "Average Magnetization: -0.9690 ± 0.0058\n",
      "autocorr_time 517.7241\n",
      "\n",
      "Running Metropolis at T = 1.70\n",
      "Starting warmup phase...\n"
     ]
    },
    {
     "name": "stderr",
     "output_type": "stream",
     "text": [
      "100%|██████████| 10000/10000 [00:00<00:00, 109116.98it/s]\n"
     ]
    },
    {
     "name": "stdout",
     "output_type": "stream",
     "text": [
      "Starting production phase...\n"
     ]
    },
    {
     "name": "stderr",
     "output_type": "stream",
     "text": [
      "100%|██████████| 100000/100000 [00:01<00:00, 55402.17it/s]\n"
     ]
    },
    {
     "name": "stdout",
     "output_type": "stream",
     "text": [
      "Average Magnetization: 0.9668 ± 0.0038\n",
      "autocorr_time 278.7102\n",
      "\n",
      "Running Metropolis at T = 1.75\n",
      "Starting warmup phase...\n"
     ]
    },
    {
     "name": "stderr",
     "output_type": "stream",
     "text": [
      "100%|██████████| 10000/10000 [00:00<00:00, 80543.52it/s]\n"
     ]
    },
    {
     "name": "stdout",
     "output_type": "stream",
     "text": [
      "Starting production phase...\n"
     ]
    },
    {
     "name": "stderr",
     "output_type": "stream",
     "text": [
      "100%|██████████| 100000/100000 [00:01<00:00, 54661.63it/s]\n"
     ]
    },
    {
     "name": "stdout",
     "output_type": "stream",
     "text": [
      "Average Magnetization: 0.5824 ± 0.4855\n",
      "autocorr_time 20840.3662\n",
      "\n",
      "Running Metropolis at T = 1.80\n",
      "Starting warmup phase...\n"
     ]
    },
    {
     "name": "stderr",
     "output_type": "stream",
     "text": [
      "100%|██████████| 10000/10000 [00:00<00:00, 100081.46it/s]\n"
     ]
    },
    {
     "name": "stdout",
     "output_type": "stream",
     "text": [
      "Starting production phase...\n"
     ]
    },
    {
     "name": "stderr",
     "output_type": "stream",
     "text": [
      "100%|██████████| 100000/100000 [00:01<00:00, 53948.07it/s]\n"
     ]
    },
    {
     "name": "stdout",
     "output_type": "stream",
     "text": [
      "Average Magnetization: -0.9515 ± 0.0081\n",
      "autocorr_time 545.8250\n",
      "\n",
      "Running Metropolis at T = 1.85\n",
      "Starting warmup phase...\n"
     ]
    },
    {
     "name": "stderr",
     "output_type": "stream",
     "text": [
      "100%|██████████| 10000/10000 [00:00<00:00, 98175.76it/s]\n"
     ]
    },
    {
     "name": "stdout",
     "output_type": "stream",
     "text": [
      "Starting production phase...\n"
     ]
    },
    {
     "name": "stderr",
     "output_type": "stream",
     "text": [
      "100%|██████████| 100000/100000 [00:01<00:00, 53133.65it/s]\n"
     ]
    },
    {
     "name": "stdout",
     "output_type": "stream",
     "text": [
      "Average Magnetization: 0.9540 ± 0.0041\n",
      "autocorr_time 260.3319\n",
      "\n",
      "Running Metropolis at T = 1.90\n",
      "Starting warmup phase...\n"
     ]
    },
    {
     "name": "stderr",
     "output_type": "stream",
     "text": [
      "100%|██████████| 10000/10000 [00:00<00:00, 95876.60it/s]\n"
     ]
    },
    {
     "name": "stdout",
     "output_type": "stream",
     "text": [
      "Starting production phase...\n"
     ]
    },
    {
     "name": "stderr",
     "output_type": "stream",
     "text": [
      "100%|██████████| 100000/100000 [00:01<00:00, 52624.68it/s]\n"
     ]
    },
    {
     "name": "stdout",
     "output_type": "stream",
     "text": [
      "Average Magnetization: -0.9428 ± 0.0044\n",
      "autocorr_time 251.9805\n",
      "\n",
      "Running Metropolis at T = 1.95\n",
      "Starting warmup phase...\n"
     ]
    },
    {
     "name": "stderr",
     "output_type": "stream",
     "text": [
      "100%|██████████| 10000/10000 [00:00<00:00, 103365.52it/s]\n"
     ]
    },
    {
     "name": "stdout",
     "output_type": "stream",
     "text": [
      "Starting production phase...\n"
     ]
    },
    {
     "name": "stderr",
     "output_type": "stream",
     "text": [
      "100%|██████████| 100000/100000 [00:01<00:00, 51868.87it/s]\n"
     ]
    },
    {
     "name": "stdout",
     "output_type": "stream",
     "text": [
      "Average Magnetization: -0.9135 ± 0.0116\n",
      "autocorr_time 608.7743\n",
      "\n",
      "Running Metropolis at T = 2.00\n",
      "Starting warmup phase...\n"
     ]
    },
    {
     "name": "stderr",
     "output_type": "stream",
     "text": [
      "100%|██████████| 10000/10000 [00:00<00:00, 85346.36it/s]\n"
     ]
    },
    {
     "name": "stdout",
     "output_type": "stream",
     "text": [
      "Starting production phase...\n"
     ]
    },
    {
     "name": "stderr",
     "output_type": "stream",
     "text": [
      "100%|██████████| 100000/100000 [00:01<00:00, 54327.70it/s]\n"
     ]
    },
    {
     "name": "stdout",
     "output_type": "stream",
     "text": [
      "Average Magnetization: -0.9205 ± 0.0064\n",
      "autocorr_time 322.5225\n",
      "\n",
      "Running Metropolis at T = 2.05\n",
      "Starting warmup phase...\n"
     ]
    },
    {
     "name": "stderr",
     "output_type": "stream",
     "text": [
      "100%|██████████| 10000/10000 [00:00<00:00, 96957.73it/s]\n"
     ]
    },
    {
     "name": "stdout",
     "output_type": "stream",
     "text": [
      "Starting production phase...\n"
     ]
    },
    {
     "name": "stderr",
     "output_type": "stream",
     "text": [
      "100%|██████████| 100000/100000 [00:01<00:00, 54769.71it/s]\n"
     ]
    },
    {
     "name": "stdout",
     "output_type": "stream",
     "text": [
      "Average Magnetization: -0.2437 ± 0.4439\n",
      "autocorr_time 13670.3508\n",
      "\n",
      "Running Metropolis at T = 2.10\n",
      "Starting warmup phase...\n"
     ]
    },
    {
     "name": "stderr",
     "output_type": "stream",
     "text": [
      "100%|██████████| 10000/10000 [00:00<00:00, 101006.96it/s]\n"
     ]
    },
    {
     "name": "stdout",
     "output_type": "stream",
     "text": [
      "Starting production phase...\n"
     ]
    },
    {
     "name": "stderr",
     "output_type": "stream",
     "text": [
      "100%|██████████| 100000/100000 [00:01<00:00, 54174.93it/s]\n"
     ]
    },
    {
     "name": "stdout",
     "output_type": "stream",
     "text": [
      "Average Magnetization: 0.6848 ± 0.2503\n",
      "autocorr_time 10631.6643\n",
      "\n",
      "Running Metropolis at T = 2.15\n",
      "Starting warmup phase...\n"
     ]
    },
    {
     "name": "stderr",
     "output_type": "stream",
     "text": [
      "100%|██████████| 10000/10000 [00:00<00:00, 67937.37it/s]\n"
     ]
    },
    {
     "name": "stdout",
     "output_type": "stream",
     "text": [
      "Starting production phase...\n"
     ]
    },
    {
     "name": "stderr",
     "output_type": "stream",
     "text": [
      "100%|██████████| 100000/100000 [00:01<00:00, 54251.09it/s]\n"
     ]
    },
    {
     "name": "stdout",
     "output_type": "stream",
     "text": [
      "Average Magnetization: -0.6603 ± 0.2845\n",
      "autocorr_time 12341.3848\n",
      "\n",
      "Running Metropolis at T = 2.20\n",
      "Starting warmup phase...\n"
     ]
    },
    {
     "name": "stderr",
     "output_type": "stream",
     "text": [
      "100%|██████████| 10000/10000 [00:00<00:00, 102612.19it/s]\n"
     ]
    },
    {
     "name": "stdout",
     "output_type": "stream",
     "text": [
      "Starting production phase...\n"
     ]
    },
    {
     "name": "stderr",
     "output_type": "stream",
     "text": [
      "100%|██████████| 100000/100000 [00:01<00:00, 54986.08it/s]\n"
     ]
    },
    {
     "name": "stdout",
     "output_type": "stream",
     "text": [
      "Average Magnetization: 0.8363 ± 0.0142\n",
      "autocorr_time 472.6645\n",
      "\n",
      "Running Metropolis at T = 2.25\n",
      "Starting warmup phase...\n"
     ]
    },
    {
     "name": "stderr",
     "output_type": "stream",
     "text": [
      "100%|██████████| 10000/10000 [00:00<00:00, 65754.22it/s]\n"
     ]
    },
    {
     "name": "stdout",
     "output_type": "stream",
     "text": [
      "Starting production phase...\n"
     ]
    },
    {
     "name": "stderr",
     "output_type": "stream",
     "text": [
      "100%|██████████| 100000/100000 [00:01<00:00, 55543.73it/s]\n"
     ]
    },
    {
     "name": "stdout",
     "output_type": "stream",
     "text": [
      "Average Magnetization: 0.0026 ± 0.4443\n",
      "autocorr_time 14744.7717\n",
      "\n",
      "Running Metropolis at T = 2.30\n",
      "Starting warmup phase...\n"
     ]
    },
    {
     "name": "stderr",
     "output_type": "stream",
     "text": [
      "100%|██████████| 10000/10000 [00:00<00:00, 102470.05it/s]\n"
     ]
    },
    {
     "name": "stdout",
     "output_type": "stream",
     "text": [
      "Starting production phase...\n"
     ]
    },
    {
     "name": "stderr",
     "output_type": "stream",
     "text": [
      "100%|██████████| 100000/100000 [00:01<00:00, 53086.80it/s]\n"
     ]
    },
    {
     "name": "stdout",
     "output_type": "stream",
     "text": [
      "Average Magnetization: 0.5605 ± 0.2139\n",
      "autocorr_time 7806.7801\n",
      "\n",
      "Running Metropolis at T = 2.35\n",
      "Starting warmup phase...\n"
     ]
    },
    {
     "name": "stderr",
     "output_type": "stream",
     "text": [
      "100%|██████████| 10000/10000 [00:00<00:00, 92877.56it/s]\n"
     ]
    },
    {
     "name": "stdout",
     "output_type": "stream",
     "text": [
      "Starting production phase...\n"
     ]
    },
    {
     "name": "stderr",
     "output_type": "stream",
     "text": [
      "100%|██████████| 100000/100000 [00:01<00:00, 54279.63it/s]\n"
     ]
    },
    {
     "name": "stdout",
     "output_type": "stream",
     "text": [
      "Average Magnetization: 0.2479 ± 0.3950\n",
      "autocorr_time 16573.7090\n",
      "\n",
      "Running Metropolis at T = 2.40\n",
      "Starting warmup phase...\n"
     ]
    },
    {
     "name": "stderr",
     "output_type": "stream",
     "text": [
      "100%|██████████| 10000/10000 [00:00<00:00, 105575.78it/s]\n"
     ]
    },
    {
     "name": "stdout",
     "output_type": "stream",
     "text": [
      "Starting production phase...\n"
     ]
    },
    {
     "name": "stderr",
     "output_type": "stream",
     "text": [
      "100%|██████████| 100000/100000 [00:01<00:00, 54651.06it/s]\n"
     ]
    },
    {
     "name": "stdout",
     "output_type": "stream",
     "text": [
      "Average Magnetization: 0.3040 ± 0.1942\n",
      "autocorr_time 4552.6491\n",
      "\n",
      "Running Metropolis at T = 2.45\n",
      "Starting warmup phase...\n"
     ]
    },
    {
     "name": "stderr",
     "output_type": "stream",
     "text": [
      "100%|██████████| 10000/10000 [00:00<00:00, 113749.70it/s]\n"
     ]
    },
    {
     "name": "stdout",
     "output_type": "stream",
     "text": [
      "Starting production phase...\n"
     ]
    },
    {
     "name": "stderr",
     "output_type": "stream",
     "text": [
      "100%|██████████| 100000/100000 [00:01<00:00, 55805.47it/s]\n"
     ]
    },
    {
     "name": "stdout",
     "output_type": "stream",
     "text": [
      "Average Magnetization: -0.2593 ± 0.2069\n",
      "autocorr_time 5464.8151\n",
      "\n",
      "Running Metropolis at T = 2.50\n",
      "Starting warmup phase...\n"
     ]
    },
    {
     "name": "stderr",
     "output_type": "stream",
     "text": [
      "100%|██████████| 10000/10000 [00:00<00:00, 95901.81it/s]\n"
     ]
    },
    {
     "name": "stdout",
     "output_type": "stream",
     "text": [
      "Starting production phase...\n"
     ]
    },
    {
     "name": "stderr",
     "output_type": "stream",
     "text": [
      "100%|██████████| 100000/100000 [00:01<00:00, 55335.42it/s]\n"
     ]
    },
    {
     "name": "stdout",
     "output_type": "stream",
     "text": [
      "Average Magnetization: -0.0504 ± 0.2297\n",
      "autocorr_time 6149.3538\n",
      "\n",
      "Running Metropolis at T = 2.55\n",
      "Starting warmup phase...\n"
     ]
    },
    {
     "name": "stderr",
     "output_type": "stream",
     "text": [
      "100%|██████████| 10000/10000 [00:00<00:00, 98118.34it/s]\n"
     ]
    },
    {
     "name": "stdout",
     "output_type": "stream",
     "text": [
      "Starting production phase...\n"
     ]
    },
    {
     "name": "stderr",
     "output_type": "stream",
     "text": [
      "100%|██████████| 100000/100000 [00:01<00:00, 55771.91it/s]\n"
     ]
    },
    {
     "name": "stdout",
     "output_type": "stream",
     "text": [
      "Average Magnetization: -0.0816 ± 0.1960\n",
      "autocorr_time 4703.4387\n",
      "\n",
      "Running Metropolis at T = 2.60\n",
      "Starting warmup phase...\n"
     ]
    },
    {
     "name": "stderr",
     "output_type": "stream",
     "text": [
      "100%|██████████| 10000/10000 [00:00<00:00, 88923.98it/s]\n"
     ]
    },
    {
     "name": "stdout",
     "output_type": "stream",
     "text": [
      "Starting production phase...\n"
     ]
    },
    {
     "name": "stderr",
     "output_type": "stream",
     "text": [
      "100%|██████████| 100000/100000 [00:01<00:00, 52805.26it/s]\n"
     ]
    },
    {
     "name": "stdout",
     "output_type": "stream",
     "text": [
      "Average Magnetization: 0.1444 ± 0.1435\n",
      "autocorr_time 3047.3585\n",
      "\n",
      "Running Metropolis at T = 2.65\n",
      "Starting warmup phase...\n"
     ]
    },
    {
     "name": "stderr",
     "output_type": "stream",
     "text": [
      "100%|██████████| 10000/10000 [00:00<00:00, 93939.69it/s]\n"
     ]
    },
    {
     "name": "stdout",
     "output_type": "stream",
     "text": [
      "Starting production phase...\n"
     ]
    },
    {
     "name": "stderr",
     "output_type": "stream",
     "text": [
      "100%|██████████| 100000/100000 [00:01<00:00, 55388.24it/s]\n"
     ]
    },
    {
     "name": "stdout",
     "output_type": "stream",
     "text": [
      "Average Magnetization: -0.0405 ± 0.1662\n",
      "autocorr_time 3872.3804\n",
      "\n",
      "Running Metropolis at T = 2.70\n",
      "Starting warmup phase...\n"
     ]
    },
    {
     "name": "stderr",
     "output_type": "stream",
     "text": [
      "100%|██████████| 10000/10000 [00:00<00:00, 105119.61it/s]\n"
     ]
    },
    {
     "name": "stdout",
     "output_type": "stream",
     "text": [
      "Starting production phase...\n"
     ]
    },
    {
     "name": "stderr",
     "output_type": "stream",
     "text": [
      "100%|██████████| 100000/100000 [00:01<00:00, 55741.07it/s]\n"
     ]
    },
    {
     "name": "stdout",
     "output_type": "stream",
     "text": [
      "Average Magnetization: 0.1642 ± 0.1143\n",
      "autocorr_time 2800.3303\n",
      "\n",
      "Running Metropolis at T = 2.75\n",
      "Starting warmup phase...\n"
     ]
    },
    {
     "name": "stderr",
     "output_type": "stream",
     "text": [
      "100%|██████████| 10000/10000 [00:00<00:00, 106194.86it/s]\n"
     ]
    },
    {
     "name": "stdout",
     "output_type": "stream",
     "text": [
      "Starting production phase...\n"
     ]
    },
    {
     "name": "stderr",
     "output_type": "stream",
     "text": [
      "100%|██████████| 100000/100000 [00:01<00:00, 51496.93it/s]\n"
     ]
    },
    {
     "name": "stdout",
     "output_type": "stream",
     "text": [
      "Average Magnetization: -0.0710 ± 0.1032\n",
      "autocorr_time 2445.5916\n",
      "\n",
      "Running Metropolis at T = 2.80\n",
      "Starting warmup phase...\n"
     ]
    },
    {
     "name": "stderr",
     "output_type": "stream",
     "text": [
      "100%|██████████| 10000/10000 [00:00<00:00, 102907.76it/s]\n"
     ]
    },
    {
     "name": "stdout",
     "output_type": "stream",
     "text": [
      "Starting production phase...\n"
     ]
    },
    {
     "name": "stderr",
     "output_type": "stream",
     "text": [
      "100%|██████████| 100000/100000 [00:01<00:00, 54499.25it/s]\n"
     ]
    },
    {
     "name": "stdout",
     "output_type": "stream",
     "text": [
      "Average Magnetization: -0.1515 ± 0.1038\n",
      "autocorr_time 2299.1966\n",
      "\n",
      "Running Metropolis at T = 2.85\n",
      "Starting warmup phase...\n"
     ]
    },
    {
     "name": "stderr",
     "output_type": "stream",
     "text": [
      "100%|██████████| 10000/10000 [00:00<00:00, 96905.53it/s]\n"
     ]
    },
    {
     "name": "stdout",
     "output_type": "stream",
     "text": [
      "Starting production phase...\n"
     ]
    },
    {
     "name": "stderr",
     "output_type": "stream",
     "text": [
      "100%|██████████| 100000/100000 [00:01<00:00, 55036.24it/s]\n"
     ]
    },
    {
     "name": "stdout",
     "output_type": "stream",
     "text": [
      "Average Magnetization: 0.0314 ± 0.0933\n",
      "autocorr_time 1992.2253\n",
      "\n",
      "Running Metropolis at T = 2.90\n",
      "Starting warmup phase...\n"
     ]
    },
    {
     "name": "stderr",
     "output_type": "stream",
     "text": [
      "100%|██████████| 10000/10000 [00:00<00:00, 64595.73it/s]\n"
     ]
    },
    {
     "name": "stdout",
     "output_type": "stream",
     "text": [
      "Starting production phase...\n"
     ]
    },
    {
     "name": "stderr",
     "output_type": "stream",
     "text": [
      "100%|██████████| 100000/100000 [00:01<00:00, 55961.32it/s]\n"
     ]
    },
    {
     "name": "stdout",
     "output_type": "stream",
     "text": [
      "Average Magnetization: -0.1061 ± 0.0929\n",
      "autocorr_time 2242.9518\n",
      "\n",
      "Running Metropolis at T = 2.95\n",
      "Starting warmup phase...\n"
     ]
    },
    {
     "name": "stderr",
     "output_type": "stream",
     "text": [
      "100%|██████████| 10000/10000 [00:00<00:00, 100789.73it/s]\n"
     ]
    },
    {
     "name": "stdout",
     "output_type": "stream",
     "text": [
      "Starting production phase...\n"
     ]
    },
    {
     "name": "stderr",
     "output_type": "stream",
     "text": [
      "100%|██████████| 100000/100000 [00:01<00:00, 55938.64it/s]\n"
     ]
    },
    {
     "name": "stdout",
     "output_type": "stream",
     "text": [
      "Average Magnetization: 0.0123 ± 0.0916\n",
      "autocorr_time 2344.6398\n",
      "\n",
      "Running Metropolis at T = 3.00\n",
      "Starting warmup phase...\n"
     ]
    },
    {
     "name": "stderr",
     "output_type": "stream",
     "text": [
      "100%|██████████| 10000/10000 [00:00<00:00, 113502.52it/s]\n"
     ]
    },
    {
     "name": "stdout",
     "output_type": "stream",
     "text": [
      "Starting production phase...\n"
     ]
    },
    {
     "name": "stderr",
     "output_type": "stream",
     "text": [
      "100%|██████████| 100000/100000 [00:01<00:00, 53903.47it/s]"
     ]
    },
    {
     "name": "stdout",
     "output_type": "stream",
     "text": [
      "Average Magnetization: 0.0241 ± 0.0787\n",
      "autocorr_time 1659.4023\n"
     ]
    },
    {
     "name": "stderr",
     "output_type": "stream",
     "text": [
      "\n"
     ]
    }
   ],
   "source": [
    "import numpy as np\n",
    "import matplotlib.pyplot as plt\n",
    "from ising_lattice import IsingLattice\n",
    "from monte_carlo import MonteCarlo\n",
    "\n",
    "temperatures = np.linspace(1.5, 3.0, 31)  # Temperature range\n",
    "Lx = 8\n",
    "Ly = 8\n",
    "J = -1.0 \n",
    "steps = 1_00_000  # production steps after warmup\n",
    "warmup_steps = 10_000  # warmup steps\n",
    "method = \"metropolis\"    ##  wolff\n",
    "\n",
    "# --- Storage ---\n",
    "avg_magnetization = []\n",
    "magnetization_errors = []\n",
    "susceptibilities = []\n",
    "susceptibility_errors = []\n",
    "autocorr_time_list = []\n",
    "def autocorr(x):\n",
    "    x = np.asarray(x, float)\n",
    "    x = x - x.mean()\n",
    "    n = len(x)\n",
    "    result = np.correlate(x, x, mode='full')\n",
    "    acov = result[n-1:]   # lags 0..n-1\n",
    "    acov /= np.arange(n, 0, -1)   # unbiased: divide by N-k\n",
    "    return acov / acov[0]         # normalize → acf[0]=1\n",
    "\n",
    "def autocorr_time(correlation):\n",
    "    for i, val in enumerate(correlation[1:], 1):\n",
    "        if val < 0:\n",
    "            return 1 + 2 * np.sum(correlation[1:i])\n",
    "    return 1 + 2 * np.sum(correlation[1:])\n",
    "\n",
    "def autocorr_fft(x, unbiased=True):\n",
    "    \"\"\"\n",
    "    Compute autocorrelation of a 1D array using FFT (fast, O(n log n)).\n",
    "    \n",
    "    Returns:\n",
    "        acf : array of length n (lags 0..n-1), normalized so acf[0] = 1.\n",
    "    \n",
    "    Parameters:\n",
    "        unbiased : if True, normalize by (n - lag),\n",
    "                   else normalize by n (biased).\n",
    "    \"\"\"\n",
    "    x = np.asarray(x, dtype=float)\n",
    "    n = x.size\n",
    "    x = x - x.mean()\n",
    "\n",
    "    # FFT length (next power of two >= 2n-1 for linear convolution)\n",
    "    nfft = 1 << (2*n - 1).bit_length()\n",
    "\n",
    "    # Power spectrum\n",
    "    f = np.fft.rfft(x, n=nfft)\n",
    "    acov = np.fft.irfft(f * np.conjugate(f), n=nfft)[:n]\n",
    "\n",
    "    # Variance\n",
    "    var = acov[0] / n\n",
    "\n",
    "    # Normalize to get correlation\n",
    "    if unbiased:\n",
    "        denom = var * (n - np.arange(n))\n",
    "    else:\n",
    "        denom = var * n\n",
    "\n",
    "    acf = acov / denom\n",
    "    return acf\n",
    "\n",
    "# --- Loop over temperatures ---\n",
    "for T in temperatures:\n",
    "    print(f\"\\nRunning Metropolis at T = {T:.2f}\")\n",
    "\n",
    "    lattice = IsingLattice(Lx, Ly, J=J)\n",
    "    mc = MonteCarlo(lattice)\n",
    "    mc.run_loop(warmup_steps=warmup_steps,steps=steps, T=T, method=method)\n",
    "\n",
    "    acc = mc.acc  \n",
    "\n",
    "    M_vals = np.asarray(acc.magnetization)\n",
    "    M_mean = M_vals.mean()\n",
    "    tau = acc.magnetization_tau_int\n",
    "    M_err = acc.calculate_error(M_vals, tau)\n",
    "\n",
    "    chi = np.mean(acc.susceptibility)\n",
    "    # chi_err = acc.(M_vals, T, lattice.N)\n",
    "    \n",
    "\n",
    "    acf=autocorr_fft(acc.magnetization)\n",
    "    acf_time=autocorr_time(acf)\n",
    "    autocorr_time_list.append(acf_time)  \n",
    "    M_err=np.sqrt(np.var(acc.magnetization)*2*acf_time/len(acc.magnetization))\n",
    "    chi_err=np.sqrt(np.var(acc.susceptibility)*2*acf_time/len(acc.susceptibility))\n",
    "\n",
    "\n",
    "    avg_magnetization.append(M_mean)\n",
    "    magnetization_errors.append(M_err)\n",
    "    susceptibilities.append(chi)\n",
    "    susceptibility_errors.append(chi_err)\n",
    "    print(f\"Average Magnetization: {M_mean:.4f} ± {M_err:.4f}\")\n",
    "    print(f\"autocorr_time {acf_time:.4f}\")"
   ]
  },
  {
   "cell_type": "code",
   "execution_count": 7,
   "id": "ffc13941",
   "metadata": {},
   "outputs": [
    {
     "data": {
      "image/png": "[encoded data removed]",
      "text/plain": [
       "<Figure size 1200x300 with 3 Axes>"
      ]
     },
     "metadata": {},
     "output_type": "display_data"
    }
   ],
   "source": [
    "\n",
    "import numpy as np\n",
    "import matplotlib.pyplot as plt\n",
    "\n",
    "\n",
    "fig, axs = plt.subplots(1, 3, figsize=(12, 3))\n",
    "\n",
    "axs[0].plot(temperatures, np.abs(avg_magnetization))\n",
    "axs[0].errorbar(temperatures, np.abs(avg_magnetization), yerr=magnetization_errors, fmt='o', capsize=4)\n",
    "axs[0].set_xlabel(\"Temperature T\")\n",
    "axs[0].set_ylabel(\"⟨M⟩\")\n",
    "axs[0].set_ylim(0,1)\n",
    "axs[0].set_title(\"Average Magnetization\")\n",
    "# axs[0].tick_params(which='both', direction='in', top=True, right=True)\n",
    "\n",
    "axs[1].errorbar(temperatures, susceptibilities, yerr=susceptibility_errors, fmt='o', capsize=4)\n",
    "axs[1].set_xlabel(\"Temperature T\")\n",
    "axs[1].set_ylabel(\"χ\")\n",
    "axs[1].set_title(\"Susceptibility\")\n",
    "\n",
    "axs[2].plot(temperatures, autocorr_time_list, marker='o')\n",
    "# axs[2].set_yscale('log')\n",
    "axs[2].set_xlabel(\"Temperature T\")\n",
    "axs[2].set_ylabel(\"τ_int\")\n",
    "axs[2].set_title(\"Autocorrelation Time\")\n",
    "# plt.savefig('100ksteps')\n",
    "plt.tight_layout()\n",
    "plt.show()\n"
   ]
  },
  {
   "cell_type": "code",
   "execution_count": 8,
   "id": "2d5314c6",
   "metadata": {},
   "outputs": [
    {
     "name": "stdout",
     "output_type": "stream",
     "text": [
      "\n",
      "Running Metropolis at T = 1.50\n",
      "Starting warmup phase...\n"
     ]
    },
    {
     "name": "stderr",
     "output_type": "stream",
     "text": [
      "100%|██████████| 100/100 [00:00<00:00, 3703.45it/s]\n"
     ]
    },
    {
     "name": "stdout",
     "output_type": "stream",
     "text": [
      "Starting production phase...\n"
     ]
    },
    {
     "name": "stderr",
     "output_type": "stream",
     "text": [
      "100%|██████████| 1000/1000 [00:00<00:00, 4321.67it/s]\n"
     ]
    },
    {
     "name": "stdout",
     "output_type": "stream",
     "text": [
      "Average Magnetization: -0.0061 ± 0.0441\n",
      "autocorr_time 1.0000\n",
      "\n",
      "Running Metropolis at T = 1.55\n",
      "Starting warmup phase...\n"
     ]
    },
    {
     "name": "stderr",
     "output_type": "stream",
     "text": [
      "100%|██████████| 100/100 [00:00<00:00, 6683.51it/s]\n"
     ]
    },
    {
     "name": "stdout",
     "output_type": "stream",
     "text": [
      "Starting production phase...\n"
     ]
    },
    {
     "name": "stderr",
     "output_type": "stream",
     "text": [
      "100%|██████████| 1000/1000 [00:00<00:00, 6199.78it/s]\n"
     ]
    },
    {
     "name": "stdout",
     "output_type": "stream",
     "text": [
      "Average Magnetization: 0.0018 ± 0.0441\n",
      "autocorr_time 1.0000\n",
      "\n",
      "Running Metropolis at T = 1.60\n",
      "Starting warmup phase...\n"
     ]
    },
    {
     "name": "stderr",
     "output_type": "stream",
     "text": [
      "100%|██████████| 100/100 [00:00<00:00, 6414.98it/s]\n"
     ]
    },
    {
     "name": "stdout",
     "output_type": "stream",
     "text": [
      "Starting production phase...\n"
     ]
    },
    {
     "name": "stderr",
     "output_type": "stream",
     "text": [
      "100%|██████████| 1000/1000 [00:00<00:00, 6128.85it/s]\n"
     ]
    },
    {
     "name": "stdout",
     "output_type": "stream",
     "text": [
      "Average Magnetization: -0.0000 ± 0.0437\n",
      "autocorr_time 1.0000\n",
      "\n",
      "Running Metropolis at T = 1.65\n",
      "Starting warmup phase...\n"
     ]
    },
    {
     "name": "stderr",
     "output_type": "stream",
     "text": [
      "100%|██████████| 100/100 [00:00<00:00, 6650.34it/s]\n"
     ]
    },
    {
     "name": "stdout",
     "output_type": "stream",
     "text": [
      "Starting production phase...\n"
     ]
    },
    {
     "name": "stderr",
     "output_type": "stream",
     "text": [
      "100%|██████████| 1000/1000 [00:00<00:00, 6114.06it/s]\n"
     ]
    },
    {
     "name": "stdout",
     "output_type": "stream",
     "text": [
      "Average Magnetization: -0.0008 ± 0.0437\n",
      "autocorr_time 1.0000\n",
      "\n",
      "Running Metropolis at T = 1.70\n",
      "Starting warmup phase...\n"
     ]
    },
    {
     "name": "stderr",
     "output_type": "stream",
     "text": [
      "100%|██████████| 100/100 [00:00<00:00, 6828.67it/s]\n"
     ]
    },
    {
     "name": "stdout",
     "output_type": "stream",
     "text": [
      "Starting production phase...\n"
     ]
    },
    {
     "name": "stderr",
     "output_type": "stream",
     "text": [
      "100%|██████████| 1000/1000 [00:00<00:00, 6081.38it/s]\n"
     ]
    },
    {
     "name": "stdout",
     "output_type": "stream",
     "text": [
      "Average Magnetization: 0.0077 ± 0.0434\n",
      "autocorr_time 1.0000\n",
      "\n",
      "Running Metropolis at T = 1.75\n",
      "Starting warmup phase...\n"
     ]
    },
    {
     "name": "stderr",
     "output_type": "stream",
     "text": [
      "100%|██████████| 100/100 [00:00<00:00, 5981.86it/s]\n"
     ]
    },
    {
     "name": "stdout",
     "output_type": "stream",
     "text": [
      "Starting production phase...\n"
     ]
    },
    {
     "name": "stderr",
     "output_type": "stream",
     "text": [
      "100%|██████████| 1000/1000 [00:00<00:00, 6286.57it/s]\n"
     ]
    },
    {
     "name": "stdout",
     "output_type": "stream",
     "text": [
      "Average Magnetization: 0.0012 ± 0.0431\n",
      "autocorr_time 1.0000\n",
      "\n",
      "Running Metropolis at T = 1.80\n",
      "Starting warmup phase...\n"
     ]
    },
    {
     "name": "stderr",
     "output_type": "stream",
     "text": [
      "100%|██████████| 100/100 [00:00<00:00, 6370.93it/s]\n"
     ]
    },
    {
     "name": "stdout",
     "output_type": "stream",
     "text": [
      "Starting production phase...\n"
     ]
    },
    {
     "name": "stderr",
     "output_type": "stream",
     "text": [
      "100%|██████████| 1000/1000 [00:00<00:00, 6184.66it/s]\n"
     ]
    },
    {
     "name": "stdout",
     "output_type": "stream",
     "text": [
      "Average Magnetization: -0.0027 ± 0.0429\n",
      "autocorr_time 1.0000\n",
      "\n",
      "Running Metropolis at T = 1.85\n",
      "Starting warmup phase...\n"
     ]
    },
    {
     "name": "stderr",
     "output_type": "stream",
     "text": [
      "100%|██████████| 100/100 [00:00<00:00, 6722.07it/s]\n"
     ]
    },
    {
     "name": "stdout",
     "output_type": "stream",
     "text": [
      "Starting production phase...\n"
     ]
    },
    {
     "name": "stderr",
     "output_type": "stream",
     "text": [
      "100%|██████████| 1000/1000 [00:00<00:00, 6222.77it/s]\n"
     ]
    },
    {
     "name": "stdout",
     "output_type": "stream",
     "text": [
      "Average Magnetization: 0.0107 ± 0.0425\n",
      "autocorr_time 1.0000\n",
      "\n",
      "Running Metropolis at T = 1.90\n",
      "Starting warmup phase...\n"
     ]
    },
    {
     "name": "stderr",
     "output_type": "stream",
     "text": [
      "100%|██████████| 100/100 [00:00<00:00, 6844.71it/s]\n"
     ]
    },
    {
     "name": "stdout",
     "output_type": "stream",
     "text": [
      "Starting production phase...\n"
     ]
    },
    {
     "name": "stderr",
     "output_type": "stream",
     "text": [
      "100%|██████████| 1000/1000 [00:00<00:00, 6198.04it/s]\n"
     ]
    },
    {
     "name": "stdout",
     "output_type": "stream",
     "text": [
      "Average Magnetization: 0.0018 ± 0.0420\n",
      "autocorr_time 1.0000\n",
      "\n",
      "Running Metropolis at T = 1.95\n",
      "Starting warmup phase...\n"
     ]
    },
    {
     "name": "stderr",
     "output_type": "stream",
     "text": [
      "100%|██████████| 100/100 [00:00<00:00, 6527.29it/s]\n"
     ]
    },
    {
     "name": "stdout",
     "output_type": "stream",
     "text": [
      "Starting production phase...\n"
     ]
    },
    {
     "name": "stderr",
     "output_type": "stream",
     "text": [
      "100%|██████████| 1000/1000 [00:00<00:00, 6210.14it/s]\n"
     ]
    },
    {
     "name": "stdout",
     "output_type": "stream",
     "text": [
      "Average Magnetization: 0.0061 ± 0.0417\n",
      "autocorr_time 1.0000\n",
      "\n",
      "Running Metropolis at T = 2.00\n",
      "Starting warmup phase...\n"
     ]
    },
    {
     "name": "stderr",
     "output_type": "stream",
     "text": [
      "100%|██████████| 100/100 [00:00<00:00, 7067.66it/s]\n"
     ]
    },
    {
     "name": "stdout",
     "output_type": "stream",
     "text": [
      "Starting production phase...\n"
     ]
    },
    {
     "name": "stderr",
     "output_type": "stream",
     "text": [
      "100%|██████████| 1000/1000 [00:00<00:00, 6718.63it/s]\n"
     ]
    },
    {
     "name": "stdout",
     "output_type": "stream",
     "text": [
      "Average Magnetization: -0.0041 ± 0.0409\n",
      "autocorr_time 1.0000\n",
      "\n",
      "Running Metropolis at T = 2.05\n",
      "Starting warmup phase...\n"
     ]
    },
    {
     "name": "stderr",
     "output_type": "stream",
     "text": [
      "100%|██████████| 100/100 [00:00<00:00, 7262.86it/s]\n"
     ]
    },
    {
     "name": "stdout",
     "output_type": "stream",
     "text": [
      "Starting production phase...\n"
     ]
    },
    {
     "name": "stderr",
     "output_type": "stream",
     "text": [
      "100%|██████████| 1000/1000 [00:00<00:00, 6995.73it/s]\n"
     ]
    },
    {
     "name": "stdout",
     "output_type": "stream",
     "text": [
      "Average Magnetization: -0.0024 ± 0.0401\n",
      "autocorr_time 1.0000\n",
      "\n",
      "Running Metropolis at T = 2.10\n",
      "Starting warmup phase...\n"
     ]
    },
    {
     "name": "stderr",
     "output_type": "stream",
     "text": [
      "100%|██████████| 100/100 [00:00<00:00, 7664.19it/s]\n"
     ]
    },
    {
     "name": "stdout",
     "output_type": "stream",
     "text": [
      "Starting production phase...\n"
     ]
    },
    {
     "name": "stderr",
     "output_type": "stream",
     "text": [
      "100%|██████████| 1000/1000 [00:00<00:00, 6887.13it/s]\n"
     ]
    },
    {
     "name": "stdout",
     "output_type": "stream",
     "text": [
      "Average Magnetization: 0.0049 ± 0.0393\n",
      "autocorr_time 1.0000\n",
      "\n",
      "Running Metropolis at T = 2.15\n",
      "Starting warmup phase...\n"
     ]
    },
    {
     "name": "stderr",
     "output_type": "stream",
     "text": [
      "100%|██████████| 100/100 [00:00<00:00, 7096.96it/s]\n"
     ]
    },
    {
     "name": "stdout",
     "output_type": "stream",
     "text": [
      "Starting production phase...\n"
     ]
    },
    {
     "name": "stderr",
     "output_type": "stream",
     "text": [
      "100%|██████████| 1000/1000 [00:00<00:00, 7040.91it/s]\n"
     ]
    },
    {
     "name": "stdout",
     "output_type": "stream",
     "text": [
      "Average Magnetization: 0.0159 ± 0.0384\n",
      "autocorr_time 1.0000\n",
      "\n",
      "Running Metropolis at T = 2.20\n",
      "Starting warmup phase...\n"
     ]
    },
    {
     "name": "stderr",
     "output_type": "stream",
     "text": [
      "100%|██████████| 100/100 [00:00<00:00, 8120.63it/s]\n"
     ]
    },
    {
     "name": "stdout",
     "output_type": "stream",
     "text": [
      "Starting production phase...\n"
     ]
    },
    {
     "name": "stderr",
     "output_type": "stream",
     "text": [
      "100%|██████████| 1000/1000 [00:00<00:00, 7522.75it/s]\n"
     ]
    },
    {
     "name": "stdout",
     "output_type": "stream",
     "text": [
      "Average Magnetization: -0.0049 ± 0.0373\n",
      "autocorr_time 1.0000\n",
      "\n",
      "Running Metropolis at T = 2.25\n",
      "Starting warmup phase...\n"
     ]
    },
    {
     "name": "stderr",
     "output_type": "stream",
     "text": [
      "100%|██████████| 100/100 [00:00<00:00, 8094.92it/s]\n"
     ]
    },
    {
     "name": "stdout",
     "output_type": "stream",
     "text": [
      "Starting production phase...\n"
     ]
    },
    {
     "name": "stderr",
     "output_type": "stream",
     "text": [
      "100%|██████████| 1000/1000 [00:00<00:00, 8305.44it/s]\n"
     ]
    },
    {
     "name": "stdout",
     "output_type": "stream",
     "text": [
      "Average Magnetization: 0.0025 ± 0.0360\n",
      "autocorr_time 1.0000\n",
      "\n",
      "Running Metropolis at T = 2.30\n",
      "Starting warmup phase...\n"
     ]
    },
    {
     "name": "stderr",
     "output_type": "stream",
     "text": [
      "100%|██████████| 100/100 [00:00<00:00, 9770.33it/s]\n"
     ]
    },
    {
     "name": "stdout",
     "output_type": "stream",
     "text": [
      "Starting production phase...\n"
     ]
    },
    {
     "name": "stderr",
     "output_type": "stream",
     "text": [
      "100%|██████████| 1000/1000 [00:00<00:00, 8622.09it/s]\n"
     ]
    },
    {
     "name": "stdout",
     "output_type": "stream",
     "text": [
      "Average Magnetization: -0.0126 ± 0.0348\n",
      "autocorr_time 1.0000\n",
      "\n",
      "Running Metropolis at T = 2.35\n",
      "Starting warmup phase...\n"
     ]
    },
    {
     "name": "stderr",
     "output_type": "stream",
     "text": [
      "100%|██████████| 100/100 [00:00<00:00, 9577.35it/s]\n"
     ]
    },
    {
     "name": "stdout",
     "output_type": "stream",
     "text": [
      "Starting production phase...\n"
     ]
    },
    {
     "name": "stderr",
     "output_type": "stream",
     "text": [
      "100%|██████████| 1000/1000 [00:00<00:00, 8886.61it/s]\n"
     ]
    },
    {
     "name": "stdout",
     "output_type": "stream",
     "text": [
      "Average Magnetization: -0.0091 ± 0.0337\n",
      "autocorr_time 1.0000\n",
      "\n",
      "Running Metropolis at T = 2.40\n",
      "Starting warmup phase...\n"
     ]
    },
    {
     "name": "stderr",
     "output_type": "stream",
     "text": [
      "100%|██████████| 100/100 [00:00<00:00, 10484.71it/s]\n"
     ]
    },
    {
     "name": "stdout",
     "output_type": "stream",
     "text": [
      "Starting production phase...\n"
     ]
    },
    {
     "name": "stderr",
     "output_type": "stream",
     "text": [
      "100%|██████████| 1000/1000 [00:00<00:00, 9731.93it/s]\n"
     ]
    },
    {
     "name": "stdout",
     "output_type": "stream",
     "text": [
      "Average Magnetization: 0.0066 ± 0.0319\n",
      "autocorr_time 1.0000\n",
      "\n",
      "Running Metropolis at T = 2.45\n",
      "Starting warmup phase...\n"
     ]
    },
    {
     "name": "stderr",
     "output_type": "stream",
     "text": [
      "100%|██████████| 100/100 [00:00<00:00, 9898.53it/s]\n"
     ]
    },
    {
     "name": "stdout",
     "output_type": "stream",
     "text": [
      "Starting production phase...\n"
     ]
    },
    {
     "name": "stderr",
     "output_type": "stream",
     "text": [
      "100%|██████████| 1000/1000 [00:00<00:00, 10057.27it/s]\n"
     ]
    },
    {
     "name": "stdout",
     "output_type": "stream",
     "text": [
      "Average Magnetization: 0.0037 ± 0.0307\n",
      "autocorr_time 1.0000\n",
      "\n",
      "Running Metropolis at T = 2.50\n",
      "Starting warmup phase...\n"
     ]
    },
    {
     "name": "stderr",
     "output_type": "stream",
     "text": [
      "100%|██████████| 100/100 [00:00<00:00, 11038.80it/s]\n"
     ]
    },
    {
     "name": "stdout",
     "output_type": "stream",
     "text": [
      "Starting production phase...\n"
     ]
    },
    {
     "name": "stderr",
     "output_type": "stream",
     "text": [
      "100%|██████████| 1000/1000 [00:00<00:00, 10481.78it/s]\n"
     ]
    },
    {
     "name": "stdout",
     "output_type": "stream",
     "text": [
      "Average Magnetization: -0.0016 ± 0.0290\n",
      "autocorr_time 1.0000\n",
      "\n",
      "Running Metropolis at T = 2.55\n",
      "Starting warmup phase...\n"
     ]
    },
    {
     "name": "stderr",
     "output_type": "stream",
     "text": [
      "100%|██████████| 100/100 [00:00<00:00, 12375.86it/s]\n"
     ]
    },
    {
     "name": "stdout",
     "output_type": "stream",
     "text": [
      "Starting production phase...\n"
     ]
    },
    {
     "name": "stderr",
     "output_type": "stream",
     "text": [
      "100%|██████████| 1000/1000 [00:00<00:00, 11816.80it/s]\n"
     ]
    },
    {
     "name": "stdout",
     "output_type": "stream",
     "text": [
      "Average Magnetization: -0.0117 ± 0.0277\n",
      "autocorr_time 1.0000\n",
      "\n",
      "Running Metropolis at T = 2.60\n",
      "Starting warmup phase...\n"
     ]
    },
    {
     "name": "stderr",
     "output_type": "stream",
     "text": [
      "100%|██████████| 100/100 [00:00<00:00, 13234.17it/s]\n"
     ]
    },
    {
     "name": "stdout",
     "output_type": "stream",
     "text": [
      "Starting production phase...\n"
     ]
    },
    {
     "name": "stderr",
     "output_type": "stream",
     "text": [
      "100%|██████████| 1000/1000 [00:00<00:00, 13268.71it/s]\n"
     ]
    },
    {
     "name": "stdout",
     "output_type": "stream",
     "text": [
      "Average Magnetization: 0.0127 ± 0.0258\n",
      "autocorr_time 1.0000\n",
      "\n",
      "Running Metropolis at T = 2.65\n",
      "Starting warmup phase...\n"
     ]
    },
    {
     "name": "stderr",
     "output_type": "stream",
     "text": [
      "100%|██████████| 100/100 [00:00<00:00, 15142.99it/s]\n"
     ]
    },
    {
     "name": "stdout",
     "output_type": "stream",
     "text": [
      "Starting production phase...\n"
     ]
    },
    {
     "name": "stderr",
     "output_type": "stream",
     "text": [
      "100%|██████████| 1000/1000 [00:00<00:00, 13553.75it/s]\n"
     ]
    },
    {
     "name": "stdout",
     "output_type": "stream",
     "text": [
      "Average Magnetization: 0.0053 ± 0.0249\n",
      "autocorr_time 1.0000\n",
      "\n",
      "Running Metropolis at T = 2.70\n",
      "Starting warmup phase...\n"
     ]
    },
    {
     "name": "stderr",
     "output_type": "stream",
     "text": [
      "100%|██████████| 100/100 [00:00<00:00, 14240.18it/s]\n"
     ]
    },
    {
     "name": "stdout",
     "output_type": "stream",
     "text": [
      "Starting production phase...\n"
     ]
    },
    {
     "name": "stderr",
     "output_type": "stream",
     "text": [
      "100%|██████████| 1000/1000 [00:00<00:00, 14200.36it/s]\n"
     ]
    },
    {
     "name": "stdout",
     "output_type": "stream",
     "text": [
      "Average Magnetization: -0.0049 ± 0.0238\n",
      "autocorr_time 1.0000\n",
      "\n",
      "Running Metropolis at T = 2.75\n",
      "Starting warmup phase...\n"
     ]
    },
    {
     "name": "stderr",
     "output_type": "stream",
     "text": [
      "100%|██████████| 100/100 [00:00<00:00, 17095.88it/s]\n"
     ]
    },
    {
     "name": "stdout",
     "output_type": "stream",
     "text": [
      "Starting production phase...\n"
     ]
    },
    {
     "name": "stderr",
     "output_type": "stream",
     "text": [
      "100%|██████████| 1000/1000 [00:00<00:00, 14603.97it/s]\n"
     ]
    },
    {
     "name": "stdout",
     "output_type": "stream",
     "text": [
      "Average Magnetization: 0.0309 ± 0.0228\n",
      "autocorr_time 1.0000\n",
      "\n",
      "Running Metropolis at T = 2.80\n",
      "Starting warmup phase...\n"
     ]
    },
    {
     "name": "stderr",
     "output_type": "stream",
     "text": [
      "100%|██████████| 100/100 [00:00<00:00, 16179.23it/s]\n"
     ]
    },
    {
     "name": "stdout",
     "output_type": "stream",
     "text": [
      "Starting production phase...\n"
     ]
    },
    {
     "name": "stderr",
     "output_type": "stream",
     "text": [
      "100%|██████████| 1000/1000 [00:00<00:00, 16063.85it/s]\n"
     ]
    },
    {
     "name": "stdout",
     "output_type": "stream",
     "text": [
      "Average Magnetization: 0.0178 ± 0.0240\n",
      "autocorr_time 1.2478\n",
      "\n",
      "Running Metropolis at T = 2.85\n",
      "Starting warmup phase...\n"
     ]
    },
    {
     "name": "stderr",
     "output_type": "stream",
     "text": [
      "100%|██████████| 100/100 [00:00<00:00, 20275.07it/s]\n"
     ]
    },
    {
     "name": "stdout",
     "output_type": "stream",
     "text": [
      "Starting production phase...\n"
     ]
    },
    {
     "name": "stderr",
     "output_type": "stream",
     "text": [
      "100%|██████████| 1000/1000 [00:00<00:00, 17086.06it/s]\n"
     ]
    },
    {
     "name": "stdout",
     "output_type": "stream",
     "text": [
      "Average Magnetization: 0.0440 ± 0.0233\n",
      "autocorr_time 1.3163\n",
      "\n",
      "Running Metropolis at T = 2.90\n",
      "Starting warmup phase...\n"
     ]
    },
    {
     "name": "stderr",
     "output_type": "stream",
     "text": [
      "100%|██████████| 100/100 [00:00<00:00, 21231.61it/s]\n"
     ]
    },
    {
     "name": "stdout",
     "output_type": "stream",
     "text": [
      "Starting production phase...\n"
     ]
    },
    {
     "name": "stderr",
     "output_type": "stream",
     "text": [
      "100%|██████████| 1000/1000 [00:00<00:00, 19156.45it/s]\n"
     ]
    },
    {
     "name": "stdout",
     "output_type": "stream",
     "text": [
      "Average Magnetization: -0.0108 ± 0.0245\n",
      "autocorr_time 1.5591\n",
      "\n",
      "Running Metropolis at T = 2.95\n",
      "Starting warmup phase...\n"
     ]
    },
    {
     "name": "stderr",
     "output_type": "stream",
     "text": [
      "100%|██████████| 100/100 [00:00<00:00, 20777.25it/s]\n"
     ]
    },
    {
     "name": "stdout",
     "output_type": "stream",
     "text": [
      "Starting production phase...\n"
     ]
    },
    {
     "name": "stderr",
     "output_type": "stream",
     "text": [
      "100%|██████████| 1000/1000 [00:00<00:00, 18644.25it/s]\n"
     ]
    },
    {
     "name": "stdout",
     "output_type": "stream",
     "text": [
      "Average Magnetization: -0.0036 ± 0.0234\n",
      "autocorr_time 1.6312\n",
      "\n",
      "Running Metropolis at T = 3.00\n",
      "Starting warmup phase...\n"
     ]
    },
    {
     "name": "stderr",
     "output_type": "stream",
     "text": [
      "100%|██████████| 100/100 [00:00<00:00, 21508.15it/s]\n"
     ]
    },
    {
     "name": "stdout",
     "output_type": "stream",
     "text": [
      "Starting production phase...\n"
     ]
    },
    {
     "name": "stderr",
     "output_type": "stream",
     "text": [
      "100%|██████████| 1000/1000 [00:00<00:00, 19977.92it/s]"
     ]
    },
    {
     "name": "stdout",
     "output_type": "stream",
     "text": [
      "Average Magnetization: -0.0303 ± 0.0244\n",
      "autocorr_time 1.8806\n"
     ]
    },
    {
     "name": "stderr",
     "output_type": "stream",
     "text": [
      "\n"
     ]
    }
   ],
   "source": [
    "import numpy as np\n",
    "import matplotlib.pyplot as plt\n",
    "from ising_lattice import IsingLattice\n",
    "from monte_carlo import MonteCarlo\n",
    "\n",
    "temperatures = np.linspace(1.5, 3.0, 31)  # Temperature range\n",
    "Lx = 8\n",
    "Ly = 8\n",
    "J = 1.0 \n",
    "steps = 1_000  # production steps after warmup\n",
    "warmup_steps = 100  # warmup steps\n",
    "method = \"wolff\"    ##  wolff   metropolis\n",
    "\n",
    "# --- Storage ---\n",
    "avg_magnetization = []\n",
    "magnetization_errors = []\n",
    "susceptibilities = []\n",
    "susceptibility_errors = []\n",
    "autocorr_time_list = []\n",
    "def autocorr(x):\n",
    "    x = np.asarray(x, float)\n",
    "    x = x - x.mean()\n",
    "    n = len(x)\n",
    "    result = np.correlate(x, x, mode='full')\n",
    "    acov = result[n-1:]   # lags 0..n-1\n",
    "    acov /= np.arange(n, 0, -1)   # unbiased: divide by N-k\n",
    "    return acov / acov[0]         # normalize → acf[0]=1\n",
    "\n",
    "def autocorr_time(correlation):\n",
    "    for i, val in enumerate(correlation[1:], 1):\n",
    "        if val < 0:\n",
    "            return 1 + 2 * np.sum(correlation[1:i])\n",
    "    return 1 + 2 * np.sum(correlation[1:])\n",
    "\n",
    "def autocorr_fft(x, unbiased=True):\n",
    "    \"\"\"\n",
    "    Compute autocorrelation of a 1D array using FFT (fast, O(n log n)).\n",
    "    \n",
    "    Returns:\n",
    "        acf : array of length n (lags 0..n-1), normalized so acf[0] = 1.\n",
    "    \n",
    "    Parameters:\n",
    "        unbiased : if True, normalize by (n - lag),\n",
    "                   else normalize by n (biased).\n",
    "    \"\"\"\n",
    "    x = np.asarray(x, dtype=float)\n",
    "    n = x.size\n",
    "    x = x - x.mean()\n",
    "\n",
    "    # FFT length (next power of two >= 2n-1 for linear convolution)\n",
    "    nfft = 1 << (2*n - 1).bit_length()\n",
    "\n",
    "    # Power spectrum\n",
    "    f = np.fft.rfft(x, n=nfft)\n",
    "    acov = np.fft.irfft(f * np.conjugate(f), n=nfft)[:n]\n",
    "\n",
    "    # Variance\n",
    "    var = acov[0] / n\n",
    "\n",
    "    # Normalize to get correlation\n",
    "    if unbiased:\n",
    "        denom = var * (n - np.arange(n))\n",
    "    else:\n",
    "        denom = var * n\n",
    "\n",
    "    acf = acov / denom\n",
    "    return acf\n",
    "\n",
    "# --- Loop over temperatures ---\n",
    "for T in temperatures:\n",
    "    print(f\"\\nRunning Metropolis at T = {T:.2f}\")\n",
    "\n",
    "    lattice = IsingLattice(Lx, Ly, J=J)\n",
    "    mc = MonteCarlo(lattice)\n",
    "    mc.run_loop(warmup_steps=warmup_steps,steps=steps, T=T, method=method)\n",
    "\n",
    "    acc = mc.acc  \n",
    "\n",
    "    M_vals = np.asarray(acc.magnetization)\n",
    "    M_mean = M_vals.mean()\n",
    "    tau = acc.magnetization_tau_int\n",
    "    M_err = acc.calculate_error(M_vals, tau)\n",
    "\n",
    "    chi = np.mean(acc.susceptibility)\n",
    "    # chi_err = acc.(M_vals, T, lattice.N)\n",
    "    \n",
    "\n",
    "    acf=autocorr_fft(acc.magnetization)\n",
    "    acf_time=autocorr_time(acf)\n",
    "    autocorr_time_list.append(acf_time)  \n",
    "    M_err=np.sqrt(np.var(acc.magnetization)*2*acf_time/len(acc.magnetization))\n",
    "    chi_err=np.sqrt(np.var(acc.susceptibility)*2*acf_time/len(acc.susceptibility))\n",
    "\n",
    "\n",
    "    avg_magnetization.append(M_mean)\n",
    "    magnetization_errors.append(M_err)\n",
    "    susceptibilities.append(chi)\n",
    "    susceptibility_errors.append(chi_err)\n",
    "    print(f\"Average Magnetization: {M_mean:.4f} ± {M_err:.4f}\")\n",
    "    print(f\"autocorr_time {acf_time:.4f}\")"
   ]
  },
  {
   "cell_type": "code",
   "execution_count": 9,
   "id": "a1314752",
   "metadata": {},
   "outputs": [
    {
     "data": {
      "image/png": "[encoded data removed]",
      "text/plain": [
       "<Figure size 1200x300 with 3 Axes>"
      ]
     },
     "metadata": {},
     "output_type": "display_data"
    }
   ],
   "source": [
    "\n",
    "import numpy as np\n",
    "import matplotlib.pyplot as plt\n",
    "\n",
    "\n",
    "fig, axs = plt.subplots(1, 3, figsize=(12, 3))\n",
    "\n",
    "axs[0].plot(temperatures, np.abs(avg_magnetization))\n",
    "axs[0].errorbar(temperatures, np.abs(avg_magnetization), yerr=magnetization_errors, fmt='o', capsize=4)\n",
    "axs[0].set_xlabel(\"Temperature T\")\n",
    "axs[0].set_ylabel(\"⟨M⟩\")\n",
    "axs[0].set_ylim(0,1)\n",
    "axs[0].set_title(\"Average Magnetization\")\n",
    "# axs[0].tick_params(which='both', direction='in', top=True, right=True)\n",
    "\n",
    "axs[1].errorbar(temperatures, susceptibilities, yerr=susceptibility_errors, fmt='o', capsize=4)\n",
    "axs[1].set_xlabel(\"Temperature T\")\n",
    "axs[1].set_ylabel(\"χ\")\n",
    "axs[1].set_title(\"Susceptibility\")\n",
    "\n",
    "axs[2].plot(temperatures, autocorr_time_list, marker='o')\n",
    "# axs[2].set_yscale('log')\n",
    "axs[2].set_xlabel(\"Temperature T\")\n",
    "axs[2].set_ylabel(\"τ_int\")\n",
    "axs[2].set_title(\"Autocorrelation Time\")\n",
    "# plt.savefig('100ksteps')\n",
    "plt.tight_layout()\n",
    "plt.show()\n"
   ]
  },
  {
   "cell_type": "code",
   "execution_count": 2,
   "id": "65fef466",
   "metadata": {},
   "outputs": [
    {
     "name": "stdout",
     "output_type": "stream",
     "text": [
      "\n",
      "Running Metropolis at T = 1.50\n",
      "Starting warmup phase...\n"
     ]
    },
    {
     "name": "stderr",
     "output_type": "stream",
     "text": [
      "100%|██████████| 100/100 [00:00<00:00, 8771.21it/s]\n"
     ]
    },
    {
     "name": "stdout",
     "output_type": "stream",
     "text": [
      "Starting production phase...\n"
     ]
    },
    {
     "name": "stderr",
     "output_type": "stream",
     "text": [
      "100%|██████████| 1000/1000 [00:00<00:00, 8211.31it/s]\n"
     ]
    },
    {
     "name": "stdout",
     "output_type": "stream",
     "text": [
      "Average Magnetization: 0.0037 ± 0.0441\n",
      "autocorr_time 1.0000\n",
      "\n",
      "Running Metropolis at T = 1.55\n",
      "Starting warmup phase...\n"
     ]
    },
    {
     "name": "stderr",
     "output_type": "stream",
     "text": [
      "100%|██████████| 100/100 [00:00<00:00, 9387.22it/s]\n"
     ]
    },
    {
     "name": "stdout",
     "output_type": "stream",
     "text": [
      "Starting production phase...\n"
     ]
    },
    {
     "name": "stderr",
     "output_type": "stream",
     "text": [
      "100%|██████████| 1000/1000 [00:00<00:00, 8320.55it/s]\n"
     ]
    },
    {
     "name": "stdout",
     "output_type": "stream",
     "text": [
      "Average Magnetization: -0.0007 ± 0.0440\n",
      "autocorr_time 1.0000\n",
      "\n",
      "Running Metropolis at T = 1.60\n",
      "Starting warmup phase...\n"
     ]
    },
    {
     "name": "stderr",
     "output_type": "stream",
     "text": [
      "100%|██████████| 100/100 [00:00<00:00, 8246.44it/s]\n"
     ]
    },
    {
     "name": "stdout",
     "output_type": "stream",
     "text": [
      "Starting production phase...\n"
     ]
    },
    {
     "name": "stderr",
     "output_type": "stream",
     "text": [
      "100%|██████████| 1000/1000 [00:00<00:00, 8263.42it/s]\n"
     ]
    },
    {
     "name": "stdout",
     "output_type": "stream",
     "text": [
      "Average Magnetization: 0.0040 ± 0.0438\n",
      "autocorr_time 1.0000\n",
      "\n",
      "Running Metropolis at T = 1.65\n",
      "Starting warmup phase...\n"
     ]
    },
    {
     "name": "stderr",
     "output_type": "stream",
     "text": [
      "100%|██████████| 100/100 [00:00<00:00, 9421.80it/s]\n"
     ]
    },
    {
     "name": "stdout",
     "output_type": "stream",
     "text": [
      "Starting production phase...\n"
     ]
    },
    {
     "name": "stderr",
     "output_type": "stream",
     "text": [
      "100%|██████████| 1000/1000 [00:00<00:00, 8413.34it/s]\n"
     ]
    },
    {
     "name": "stdout",
     "output_type": "stream",
     "text": [
      "Average Magnetization: -0.0034 ± 0.0436\n",
      "autocorr_time 1.0000\n",
      "\n",
      "Running Metropolis at T = 1.70\n",
      "Starting warmup phase...\n"
     ]
    },
    {
     "name": "stderr",
     "output_type": "stream",
     "text": [
      "100%|██████████| 100/100 [00:00<00:00, 9628.80it/s]\n"
     ]
    },
    {
     "name": "stdout",
     "output_type": "stream",
     "text": [
      "Starting production phase...\n"
     ]
    },
    {
     "name": "stderr",
     "output_type": "stream",
     "text": [
      "100%|██████████| 1000/1000 [00:00<00:00, 8502.08it/s]\n"
     ]
    },
    {
     "name": "stdout",
     "output_type": "stream",
     "text": [
      "Average Magnetization: -0.0076 ± 0.0433\n",
      "autocorr_time 1.0000\n",
      "\n",
      "Running Metropolis at T = 1.75\n",
      "Starting warmup phase...\n"
     ]
    },
    {
     "name": "stderr",
     "output_type": "stream",
     "text": [
      "100%|██████████| 100/100 [00:00<00:00, 9176.10it/s]\n"
     ]
    },
    {
     "name": "stdout",
     "output_type": "stream",
     "text": [
      "Starting production phase...\n"
     ]
    },
    {
     "name": "stderr",
     "output_type": "stream",
     "text": [
      "100%|██████████| 1000/1000 [00:00<00:00, 8155.24it/s]\n"
     ]
    },
    {
     "name": "stdout",
     "output_type": "stream",
     "text": [
      "Average Magnetization: 0.0012 ± 0.0431\n",
      "autocorr_time 1.0000\n",
      "\n",
      "Running Metropolis at T = 1.80\n",
      "Starting warmup phase...\n"
     ]
    },
    {
     "name": "stderr",
     "output_type": "stream",
     "text": [
      "100%|██████████| 100/100 [00:00<00:00, 8430.59it/s]\n"
     ]
    },
    {
     "name": "stdout",
     "output_type": "stream",
     "text": [
      "Starting production phase...\n"
     ]
    },
    {
     "name": "stderr",
     "output_type": "stream",
     "text": [
      "100%|██████████| 1000/1000 [00:00<00:00, 7419.38it/s]\n"
     ]
    },
    {
     "name": "stdout",
     "output_type": "stream",
     "text": [
      "Average Magnetization: 0.0027 ± 0.0429\n",
      "autocorr_time 1.0000\n",
      "\n",
      "Running Metropolis at T = 1.85\n",
      "Starting warmup phase...\n"
     ]
    },
    {
     "name": "stderr",
     "output_type": "stream",
     "text": [
      "100%|██████████| 100/100 [00:00<00:00, 9123.41it/s]\n"
     ]
    },
    {
     "name": "stdout",
     "output_type": "stream",
     "text": [
      "Starting production phase...\n"
     ]
    },
    {
     "name": "stderr",
     "output_type": "stream",
     "text": [
      "100%|██████████| 1000/1000 [00:00<00:00, 8246.20it/s]\n"
     ]
    },
    {
     "name": "stdout",
     "output_type": "stream",
     "text": [
      "Average Magnetization: -0.0131 ± 0.0424\n",
      "autocorr_time 1.0000\n",
      "\n",
      "Running Metropolis at T = 1.90\n",
      "Starting warmup phase...\n"
     ]
    },
    {
     "name": "stderr",
     "output_type": "stream",
     "text": [
      "100%|██████████| 100/100 [00:00<00:00, 9264.47it/s]\n"
     ]
    },
    {
     "name": "stdout",
     "output_type": "stream",
     "text": [
      "Starting production phase...\n"
     ]
    },
    {
     "name": "stderr",
     "output_type": "stream",
     "text": [
      "100%|██████████| 1000/1000 [00:00<00:00, 8306.31it/s]\n"
     ]
    },
    {
     "name": "stdout",
     "output_type": "stream",
     "text": [
      "Average Magnetization: -0.0116 ± 0.0421\n",
      "autocorr_time 1.0000\n",
      "\n",
      "Running Metropolis at T = 1.95\n",
      "Starting warmup phase...\n"
     ]
    },
    {
     "name": "stderr",
     "output_type": "stream",
     "text": [
      "100%|██████████| 100/100 [00:00<00:00, 9664.07it/s]\n"
     ]
    },
    {
     "name": "stdout",
     "output_type": "stream",
     "text": [
      "Starting production phase...\n"
     ]
    },
    {
     "name": "stderr",
     "output_type": "stream",
     "text": [
      "100%|██████████| 1000/1000 [00:00<00:00, 8524.99it/s]\n"
     ]
    },
    {
     "name": "stdout",
     "output_type": "stream",
     "text": [
      "Average Magnetization: -0.0017 ± 0.0417\n",
      "autocorr_time 1.0000\n",
      "\n",
      "Running Metropolis at T = 2.00\n",
      "Starting warmup phase...\n"
     ]
    },
    {
     "name": "stderr",
     "output_type": "stream",
     "text": [
      "100%|██████████| 100/100 [00:00<00:00, 10033.02it/s]\n"
     ]
    },
    {
     "name": "stdout",
     "output_type": "stream",
     "text": [
      "Starting production phase...\n"
     ]
    },
    {
     "name": "stderr",
     "output_type": "stream",
     "text": [
      "100%|██████████| 1000/1000 [00:00<00:00, 8281.72it/s]\n"
     ]
    },
    {
     "name": "stdout",
     "output_type": "stream",
     "text": [
      "Average Magnetization: -0.0000 ± 0.0408\n",
      "autocorr_time 1.0000\n",
      "\n",
      "Running Metropolis at T = 2.05\n",
      "Starting warmup phase...\n"
     ]
    },
    {
     "name": "stderr",
     "output_type": "stream",
     "text": [
      "100%|██████████| 100/100 [00:00<00:00, 10069.87it/s]\n"
     ]
    },
    {
     "name": "stdout",
     "output_type": "stream",
     "text": [
      "Starting production phase...\n"
     ]
    },
    {
     "name": "stderr",
     "output_type": "stream",
     "text": [
      "100%|██████████| 1000/1000 [00:00<00:00, 8769.28it/s]\n"
     ]
    },
    {
     "name": "stdout",
     "output_type": "stream",
     "text": [
      "Average Magnetization: 0.0043 ± 0.0401\n",
      "autocorr_time 1.0000\n",
      "\n",
      "Running Metropolis at T = 2.10\n",
      "Starting warmup phase...\n"
     ]
    },
    {
     "name": "stderr",
     "output_type": "stream",
     "text": [
      "100%|██████████| 100/100 [00:00<00:00, 8755.10it/s]\n"
     ]
    },
    {
     "name": "stdout",
     "output_type": "stream",
     "text": [
      "Starting production phase...\n"
     ]
    },
    {
     "name": "stderr",
     "output_type": "stream",
     "text": [
      "100%|██████████| 1000/1000 [00:00<00:00, 8783.20it/s]\n"
     ]
    },
    {
     "name": "stdout",
     "output_type": "stream",
     "text": [
      "Average Magnetization: 0.0047 ± 0.0394\n",
      "autocorr_time 1.0000\n",
      "\n",
      "Running Metropolis at T = 2.15\n",
      "Starting warmup phase...\n"
     ]
    },
    {
     "name": "stderr",
     "output_type": "stream",
     "text": [
      "100%|██████████| 100/100 [00:00<00:00, 11073.49it/s]\n"
     ]
    },
    {
     "name": "stdout",
     "output_type": "stream",
     "text": [
      "Starting production phase...\n"
     ]
    },
    {
     "name": "stderr",
     "output_type": "stream",
     "text": [
      "100%|██████████| 1000/1000 [00:00<00:00, 9200.84it/s]\n"
     ]
    },
    {
     "name": "stdout",
     "output_type": "stream",
     "text": [
      "Average Magnetization: -0.0035 ± 0.0380\n",
      "autocorr_time 1.0000\n",
      "\n",
      "Running Metropolis at T = 2.20\n",
      "Starting warmup phase...\n"
     ]
    },
    {
     "name": "stderr",
     "output_type": "stream",
     "text": [
      "100%|██████████| 100/100 [00:00<00:00, 10123.59it/s]\n"
     ]
    },
    {
     "name": "stdout",
     "output_type": "stream",
     "text": [
      "Starting production phase...\n"
     ]
    },
    {
     "name": "stderr",
     "output_type": "stream",
     "text": [
      "100%|██████████| 1000/1000 [00:00<00:00, 10181.56it/s]\n"
     ]
    },
    {
     "name": "stdout",
     "output_type": "stream",
     "text": [
      "Average Magnetization: 0.0227 ± 0.0371\n",
      "autocorr_time 1.0000\n",
      "\n",
      "Running Metropolis at T = 2.25\n",
      "Starting warmup phase...\n"
     ]
    },
    {
     "name": "stderr",
     "output_type": "stream",
     "text": [
      "100%|██████████| 100/100 [00:00<00:00, 11593.84it/s]\n"
     ]
    },
    {
     "name": "stdout",
     "output_type": "stream",
     "text": [
      "Starting production phase...\n"
     ]
    },
    {
     "name": "stderr",
     "output_type": "stream",
     "text": [
      "100%|██████████| 1000/1000 [00:00<00:00, 10374.08it/s]\n"
     ]
    },
    {
     "name": "stdout",
     "output_type": "stream",
     "text": [
      "Average Magnetization: 0.0031 ± 0.0359\n",
      "autocorr_time 1.0000\n",
      "\n",
      "Running Metropolis at T = 2.30\n",
      "Starting warmup phase...\n"
     ]
    },
    {
     "name": "stderr",
     "output_type": "stream",
     "text": [
      "100%|██████████| 100/100 [00:00<00:00, 11943.46it/s]\n"
     ]
    },
    {
     "name": "stdout",
     "output_type": "stream",
     "text": [
      "Starting production phase...\n"
     ]
    },
    {
     "name": "stderr",
     "output_type": "stream",
     "text": [
      "100%|██████████| 1000/1000 [00:00<00:00, 10748.20it/s]\n"
     ]
    },
    {
     "name": "stdout",
     "output_type": "stream",
     "text": [
      "Average Magnetization: -0.0043 ± 0.0347\n",
      "autocorr_time 1.0000\n",
      "\n",
      "Running Metropolis at T = 2.35\n",
      "Starting warmup phase...\n"
     ]
    },
    {
     "name": "stderr",
     "output_type": "stream",
     "text": [
      "100%|██████████| 100/100 [00:00<00:00, 11409.66it/s]\n"
     ]
    },
    {
     "name": "stdout",
     "output_type": "stream",
     "text": [
      "Starting production phase...\n"
     ]
    },
    {
     "name": "stderr",
     "output_type": "stream",
     "text": [
      "100%|██████████| 1000/1000 [00:00<00:00, 11120.55it/s]\n"
     ]
    },
    {
     "name": "stdout",
     "output_type": "stream",
     "text": [
      "Average Magnetization: 0.0062 ± 0.0338\n",
      "autocorr_time 1.0000\n",
      "\n",
      "Running Metropolis at T = 2.40\n",
      "Starting warmup phase...\n"
     ]
    },
    {
     "name": "stderr",
     "output_type": "stream",
     "text": [
      "100%|██████████| 100/100 [00:00<00:00, 11008.09it/s]\n"
     ]
    },
    {
     "name": "stdout",
     "output_type": "stream",
     "text": [
      "Starting production phase...\n"
     ]
    },
    {
     "name": "stderr",
     "output_type": "stream",
     "text": [
      "100%|██████████| 1000/1000 [00:00<00:00, 11197.50it/s]\n"
     ]
    },
    {
     "name": "stdout",
     "output_type": "stream",
     "text": [
      "Average Magnetization: -0.0146 ± 0.0322\n",
      "autocorr_time 1.0000\n",
      "\n",
      "Running Metropolis at T = 2.45\n",
      "Starting warmup phase...\n"
     ]
    },
    {
     "name": "stderr",
     "output_type": "stream",
     "text": [
      "100%|██████████| 100/100 [00:00<00:00, 12596.64it/s]\n"
     ]
    },
    {
     "name": "stdout",
     "output_type": "stream",
     "text": [
      "Starting production phase...\n"
     ]
    },
    {
     "name": "stderr",
     "output_type": "stream",
     "text": [
      "100%|██████████| 1000/1000 [00:00<00:00, 13004.91it/s]\n"
     ]
    },
    {
     "name": "stdout",
     "output_type": "stream",
     "text": [
      "Average Magnetization: 0.0038 ± 0.0304\n",
      "autocorr_time 1.0000\n",
      "\n",
      "Running Metropolis at T = 2.50\n",
      "Starting warmup phase...\n"
     ]
    },
    {
     "name": "stderr",
     "output_type": "stream",
     "text": [
      "100%|██████████| 100/100 [00:00<00:00, 15414.00it/s]\n"
     ]
    },
    {
     "name": "stdout",
     "output_type": "stream",
     "text": [
      "Starting production phase...\n"
     ]
    },
    {
     "name": "stderr",
     "output_type": "stream",
     "text": [
      "100%|██████████| 1000/1000 [00:00<00:00, 13232.08it/s]\n"
     ]
    },
    {
     "name": "stdout",
     "output_type": "stream",
     "text": [
      "Average Magnetization: 0.0032 ± 0.0290\n",
      "autocorr_time 1.0000\n",
      "\n",
      "Running Metropolis at T = 2.55\n",
      "Starting warmup phase...\n"
     ]
    },
    {
     "name": "stderr",
     "output_type": "stream",
     "text": [
      "100%|██████████| 100/100 [00:00<00:00, 15606.13it/s]\n"
     ]
    },
    {
     "name": "stdout",
     "output_type": "stream",
     "text": [
      "Starting production phase...\n"
     ]
    },
    {
     "name": "stderr",
     "output_type": "stream",
     "text": [
      "100%|██████████| 1000/1000 [00:00<00:00, 14091.59it/s]\n"
     ]
    },
    {
     "name": "stdout",
     "output_type": "stream",
     "text": [
      "Average Magnetization: 0.0148 ± 0.0279\n",
      "autocorr_time 1.0000\n",
      "\n",
      "Running Metropolis at T = 2.60\n",
      "Starting warmup phase...\n"
     ]
    },
    {
     "name": "stderr",
     "output_type": "stream",
     "text": [
      "100%|██████████| 100/100 [00:00<00:00, 14970.03it/s]\n"
     ]
    },
    {
     "name": "stdout",
     "output_type": "stream",
     "text": [
      "Starting production phase...\n"
     ]
    },
    {
     "name": "stderr",
     "output_type": "stream",
     "text": [
      "100%|██████████| 1000/1000 [00:00<00:00, 13850.54it/s]\n"
     ]
    },
    {
     "name": "stdout",
     "output_type": "stream",
     "text": [
      "Average Magnetization: 0.0012 ± 0.0255\n",
      "autocorr_time 1.0000\n",
      "\n",
      "Running Metropolis at T = 2.65\n",
      "Starting warmup phase...\n"
     ]
    },
    {
     "name": "stderr",
     "output_type": "stream",
     "text": [
      "100%|██████████| 100/100 [00:00<00:00, 19160.82it/s]\n"
     ]
    },
    {
     "name": "stdout",
     "output_type": "stream",
     "text": [
      "Starting production phase...\n"
     ]
    },
    {
     "name": "stderr",
     "output_type": "stream",
     "text": [
      "100%|██████████| 1000/1000 [00:00<00:00, 15855.80it/s]\n"
     ]
    },
    {
     "name": "stdout",
     "output_type": "stream",
     "text": [
      "Average Magnetization: 0.0121 ± 0.0248\n",
      "autocorr_time 1.0000\n",
      "\n",
      "Running Metropolis at T = 2.70\n",
      "Starting warmup phase...\n"
     ]
    },
    {
     "name": "stderr",
     "output_type": "stream",
     "text": [
      "100%|██████████| 100/100 [00:00<00:00, 20101.14it/s]\n"
     ]
    },
    {
     "name": "stdout",
     "output_type": "stream",
     "text": [
      "Starting production phase...\n"
     ]
    },
    {
     "name": "stderr",
     "output_type": "stream",
     "text": [
      "100%|██████████| 1000/1000 [00:00<00:00, 16551.85it/s]\n"
     ]
    },
    {
     "name": "stdout",
     "output_type": "stream",
     "text": [
      "Average Magnetization: 0.0040 ± 0.0237\n",
      "autocorr_time 1.0000\n",
      "\n",
      "Running Metropolis at T = 2.75\n",
      "Starting warmup phase...\n"
     ]
    },
    {
     "name": "stderr",
     "output_type": "stream",
     "text": [
      "100%|██████████| 100/100 [00:00<00:00, 20613.87it/s]\n"
     ]
    },
    {
     "name": "stdout",
     "output_type": "stream",
     "text": [
      "Starting production phase...\n"
     ]
    },
    {
     "name": "stderr",
     "output_type": "stream",
     "text": [
      "100%|██████████| 1000/1000 [00:00<00:00, 17170.91it/s]\n"
     ]
    },
    {
     "name": "stdout",
     "output_type": "stream",
     "text": [
      "Average Magnetization: -0.0200 ± 0.0265\n",
      "autocorr_time 1.3338\n",
      "\n",
      "Running Metropolis at T = 2.80\n",
      "Starting warmup phase...\n"
     ]
    },
    {
     "name": "stderr",
     "output_type": "stream",
     "text": [
      "100%|██████████| 100/100 [00:00<00:00, 21182.28it/s]\n"
     ]
    },
    {
     "name": "stdout",
     "output_type": "stream",
     "text": [
      "Starting production phase...\n"
     ]
    },
    {
     "name": "stderr",
     "output_type": "stream",
     "text": [
      "100%|██████████| 1000/1000 [00:00<00:00, 18191.02it/s]\n"
     ]
    },
    {
     "name": "stdout",
     "output_type": "stream",
     "text": [
      "Average Magnetization: -0.0170 ± 0.0248\n",
      "autocorr_time 1.2982\n",
      "\n",
      "Running Metropolis at T = 2.85\n",
      "Starting warmup phase...\n"
     ]
    },
    {
     "name": "stderr",
     "output_type": "stream",
     "text": [
      "100%|██████████| 100/100 [00:00<00:00, 22404.27it/s]\n"
     ]
    },
    {
     "name": "stdout",
     "output_type": "stream",
     "text": [
      "Starting production phase...\n"
     ]
    },
    {
     "name": "stderr",
     "output_type": "stream",
     "text": [
      "100%|██████████| 1000/1000 [00:00<00:00, 18821.54it/s]\n"
     ]
    },
    {
     "name": "stdout",
     "output_type": "stream",
     "text": [
      "Average Magnetization: 0.0148 ± 0.0240\n",
      "autocorr_time 1.3830\n",
      "\n",
      "Running Metropolis at T = 2.90\n",
      "Starting warmup phase...\n"
     ]
    },
    {
     "name": "stderr",
     "output_type": "stream",
     "text": [
      "100%|██████████| 100/100 [00:00<00:00, 24830.12it/s]\n"
     ]
    },
    {
     "name": "stdout",
     "output_type": "stream",
     "text": [
      "Starting production phase...\n"
     ]
    },
    {
     "name": "stderr",
     "output_type": "stream",
     "text": [
      "100%|██████████| 1000/1000 [00:00<00:00, 20252.55it/s]\n"
     ]
    },
    {
     "name": "stdout",
     "output_type": "stream",
     "text": [
      "Average Magnetization: 0.0113 ± 0.0228\n",
      "autocorr_time 1.3883\n",
      "\n",
      "Running Metropolis at T = 2.95\n",
      "Starting warmup phase...\n"
     ]
    },
    {
     "name": "stderr",
     "output_type": "stream",
     "text": [
      "100%|██████████| 100/100 [00:00<00:00, 23771.84it/s]\n"
     ]
    },
    {
     "name": "stdout",
     "output_type": "stream",
     "text": [
      "Starting production phase...\n"
     ]
    },
    {
     "name": "stderr",
     "output_type": "stream",
     "text": [
      "100%|██████████| 1000/1000 [00:00<00:00, 19672.17it/s]\n"
     ]
    },
    {
     "name": "stdout",
     "output_type": "stream",
     "text": [
      "Average Magnetization: 0.0022 ± 0.0240\n",
      "autocorr_time 1.6369\n",
      "\n",
      "Running Metropolis at T = 3.00\n",
      "Starting warmup phase...\n"
     ]
    },
    {
     "name": "stderr",
     "output_type": "stream",
     "text": [
      "100%|██████████| 100/100 [00:00<00:00, 23914.16it/s]\n"
     ]
    },
    {
     "name": "stdout",
     "output_type": "stream",
     "text": [
      "Starting production phase...\n"
     ]
    },
    {
     "name": "stderr",
     "output_type": "stream",
     "text": [
      "100%|██████████| 1000/1000 [00:00<00:00, 20724.89it/s]"
     ]
    },
    {
     "name": "stdout",
     "output_type": "stream",
     "text": [
      "Average Magnetization: -0.0106 ± 0.0244\n",
      "autocorr_time 1.9482\n"
     ]
    },
    {
     "name": "stderr",
     "output_type": "stream",
     "text": [
      "\n"
     ]
    }
   ],
   "source": [
    "import numpy as np\n",
    "import matplotlib.pyplot as plt\n",
    "from ising_lattice import IsingLattice\n",
    "from monte_carlo import MonteCarlo\n",
    "\n",
    "temperatures = np.linspace(1.5, 3.0, 31)  # Temperature range\n",
    "Lx = 8\n",
    "Ly = 8\n",
    "J = 1.0 \n",
    "steps = 1_000  # production steps after warmup\n",
    "warmup_steps = 100  # warmup steps\n",
    "method = \"wolff\"    ##  wolff   metropolis\n",
    "\n",
    "# --- Storage ---\n",
    "avg_magnetization = []\n",
    "magnetization_errors = []\n",
    "susceptibilities = []\n",
    "susceptibility_errors = []\n",
    "autocorr_time_list = []\n",
    "m2_array = []\n",
    "m2_errors = []\n",
    "\n",
    "def autocorr(x):\n",
    "    x = np.asarray(x, float)\n",
    "    x = x - x.mean()\n",
    "    n = len(x)\n",
    "    result = np.correlate(x, x, mode='full')\n",
    "    acov = result[n-1:]   # lags 0..n-1\n",
    "    acov /= np.arange(n, 0, -1)   # unbiased: divide by N-k\n",
    "    return acov / acov[0]         # normalize → acf[0]=1\n",
    "\n",
    "def autocorr_time(correlation):\n",
    "    for i, val in enumerate(correlation[1:], 1):\n",
    "        if val < 0:\n",
    "            return 1 + 2 * np.sum(correlation[1:i])\n",
    "    return 1 + 2 * np.sum(correlation[1:])\n",
    "\n",
    "def autocorr_fft(x, unbiased=True):\n",
    "    \"\"\"\n",
    "    Compute autocorrelation of a 1D array using FFT (fast, O(n log n)).\n",
    "    \n",
    "    Returns:\n",
    "        acf : array of length n (lags 0..n-1), normalized so acf[0] = 1.\n",
    "    \n",
    "    Parameters:\n",
    "        unbiased : if True, normalize by (n - lag),\n",
    "                   else normalize by n (biased).\n",
    "    \"\"\"\n",
    "    x = np.asarray(x, dtype=float)\n",
    "    n = x.size\n",
    "    x = x - x.mean()\n",
    "\n",
    "    # FFT length (next power of two >= 2n-1 for linear convolution)\n",
    "    nfft = 1 << (2*n - 1).bit_length()\n",
    "\n",
    "    # Power spectrum\n",
    "    f = np.fft.rfft(x, n=nfft)\n",
    "    acov = np.fft.irfft(f * np.conjugate(f), n=nfft)[:n]\n",
    "\n",
    "    # Variance\n",
    "    var = acov[0] / n\n",
    "\n",
    "    # Normalize to get correlation\n",
    "    if unbiased:\n",
    "        denom = var * (n - np.arange(n))\n",
    "    else:\n",
    "        denom = var * n\n",
    "\n",
    "    acf = acov / denom\n",
    "    return acf\n",
    "\n",
    "# --- Loop over temperatures ---\n",
    "for T in temperatures:\n",
    "    print(f\"\\nRunning Metropolis at T = {T:.2f}\")\n",
    "\n",
    "    lattice = IsingLattice(Lx, Ly, J=J)\n",
    "    mc = MonteCarlo(lattice)\n",
    "    mc.run_loop(warmup_steps=warmup_steps,steps=steps, T=T, method=method)\n",
    "\n",
    "    acc = mc.acc  \n",
    "\n",
    "    M_vals = np.asarray(acc.magnetization)\n",
    "    M_mean = M_vals.mean()\n",
    "    tau = acc.magnetization_tau_int\n",
    "    M_err = acc.calculate_error(M_vals, tau)\n",
    "    m2_vals = acc.m2_array\n",
    "    m2_err = acc.calculate_error(m2_vals,tau)\n",
    "\n",
    "\n",
    "    chi = np.mean(acc.susceptibility)\n",
    "    # chi_err = acc.(M_vals, T, lattice.N)\n",
    "\n",
    "    m2_array.append(np.mean(m2_vals))\n",
    "    \n",
    "\n",
    "    acf=autocorr_fft(acc.magnetization)\n",
    "    acf_time=autocorr_time(acf)\n",
    "    autocorr_time_list.append(acf_time)  \n",
    "    M_err=np.sqrt(np.var(acc.magnetization)*2*acf_time/len(acc.magnetization))\n",
    "    chi_err=np.sqrt(np.var(acc.susceptibility)*2*acf_time/len(acc.susceptibility))\n",
    "    m2_errors.append(m2_err)\n",
    "\n",
    "\n",
    "    avg_magnetization.append(M_mean)\n",
    "    magnetization_errors.append(M_err)\n",
    "    susceptibilities.append(chi)\n",
    "    susceptibility_errors.append(chi_err)\n",
    "    print(f\"Average Magnetization: {M_mean:.4f} ± {M_err:.4f}\")\n",
    "    print(f\"autocorr_time {acf_time:.4f}\")"
   ]
  },
  {
   "cell_type": "code",
   "execution_count": null,
   "id": "03c08688",
   "metadata": {},
   "outputs": [
    {
     "data": {
      "image/png": "[encoded data removed]",
      "text/plain": [
       "<Figure size 1200x300 with 3 Axes>"
      ]
     },
     "metadata": {},
     "output_type": "display_data"
    }
   ],
   "source": [
    "\n",
    "import numpy as np\n",
    "import matplotlib.pyplot as plt\n",
    "\n",
    "\n",
    "fig, axs = plt.subplots(1, 3, figsize=(12, 3))\n",
    "\n",
    "axs[0].plot(temperatures, np.abs(avg_magnetization))\n",
    "axs[0].errorbar(temperatures, np.abs(avg_magnetization), yerr=magnetization_errors, fmt='o', capsize=4)\n",
    "axs[0].set_xlabel(\"Temperature T\")\n",
    "axs[0].set_ylabel(\"⟨M⟩\")\n",
    "axs[0].set_ylim(0,1)\n",
    "# axs[0].set_title(\"Average Magnetization\")\n",
    "# axs[0].tick_params(which='both', direction='in', top=True, right=True)\n",
    "\n",
    "axs[1].errorbar(temperatures, susceptibilities, yerr=susceptibility_errors, fmt='o', capsize=4)\n",
    "axs[1].set_xlabel(\"Temperature T\")\n",
    "axs[1].set_ylabel(\"χ\")\n",
    "# axs[1].set_title(\"Susceptibility\")\n",
    "\n",
    "\n",
    "axs[2].errorbar(temperatures, m2_array, yerr=m2_errors, fmt='o', capsize=4)\n",
    "axs[2].set_xlabel(\"Temperature T\")\n",
    "axs[2].set_ylabel(r'<M>^2')\n",
    "# axs[2].set_title(\"Susceptibility\")\n",
    "\n",
    "# axs[2].plot(temperatures, autocorr_time_list, marker='o')\n",
    "# # axs[2].set_yscale('log')\n",
    "# axs[2].set_xlabel(\"Temperature T\")\n",
    "# axs[2].set_ylabel(\"τ_int\")\n",
    "# axs[2].set_title(\"Autocorrelation Time\")\n",
    "# # plt.savefig('100ksteps')\n",
    "plt.tight_layout()\n",
    "plt.show()\n"
   ]
  },
  {
   "cell_type": "code",
   "execution_count": 1,
   "id": "6be67a01",
   "metadata": {},
   "outputs": [
    {
     "name": "stdout",
     "output_type": "stream",
     "text": [
      "\n",
      "Running Metropolis at T = 1.50\n",
      "Starting warmup phase...\n"
     ]
    },
    {
     "name": "stderr",
     "output_type": "stream",
     "text": [
      "100%|██████████| 100/100 [00:00<00:00, 5649.58it/s]\n"
     ]
    },
    {
     "name": "stdout",
     "output_type": "stream",
     "text": [
      "Starting production phase...\n"
     ]
    },
    {
     "name": "stderr",
     "output_type": "stream",
     "text": [
      "100%|██████████| 1000/1000 [00:00<00:00, 7614.90it/s]\n"
     ]
    },
    {
     "name": "stdout",
     "output_type": "stream",
     "text": [
      "Average Magnetization: 0.0061 ± 0.0441\n",
      "autocorr_time 1.0000\n",
      "\n",
      "Running Metropolis at T = 1.55\n",
      "Starting warmup phase...\n"
     ]
    },
    {
     "name": "stderr",
     "output_type": "stream",
     "text": [
      "100%|██████████| 100/100 [00:00<00:00, 9326.27it/s]\n"
     ]
    },
    {
     "name": "stdout",
     "output_type": "stream",
     "text": [
      "Starting production phase...\n"
     ]
    },
    {
     "name": "stderr",
     "output_type": "stream",
     "text": [
      "100%|██████████| 1000/1000 [00:00<00:00, 8165.35it/s]\n"
     ]
    },
    {
     "name": "stdout",
     "output_type": "stream",
     "text": [
      "Average Magnetization: 0.0019 ± 0.0441\n",
      "autocorr_time 1.0000\n",
      "\n",
      "Running Metropolis at T = 1.60\n",
      "Starting warmup phase...\n"
     ]
    },
    {
     "name": "stderr",
     "output_type": "stream",
     "text": [
      "100%|██████████| 100/100 [00:00<00:00, 9041.40it/s]\n"
     ]
    },
    {
     "name": "stdout",
     "output_type": "stream",
     "text": [
      "Starting production phase...\n"
     ]
    },
    {
     "name": "stderr",
     "output_type": "stream",
     "text": [
      "100%|██████████| 1000/1000 [00:00<00:00, 8143.20it/s]\n"
     ]
    },
    {
     "name": "stdout",
     "output_type": "stream",
     "text": [
      "Average Magnetization: 0.0035 ± 0.0437\n",
      "autocorr_time 1.0000\n",
      "\n",
      "Running Metropolis at T = 1.65\n",
      "Starting warmup phase...\n"
     ]
    },
    {
     "name": "stderr",
     "output_type": "stream",
     "text": [
      "100%|██████████| 100/100 [00:00<00:00, 8142.54it/s]\n"
     ]
    },
    {
     "name": "stdout",
     "output_type": "stream",
     "text": [
      "Starting production phase...\n"
     ]
    },
    {
     "name": "stderr",
     "output_type": "stream",
     "text": [
      "100%|██████████| 1000/1000 [00:00<00:00, 7865.20it/s]\n"
     ]
    },
    {
     "name": "stdout",
     "output_type": "stream",
     "text": [
      "Average Magnetization: 0.0034 ± 0.0436\n",
      "autocorr_time 1.0000\n",
      "\n",
      "Running Metropolis at T = 1.70\n",
      "Starting warmup phase...\n"
     ]
    },
    {
     "name": "stderr",
     "output_type": "stream",
     "text": [
      "100%|██████████| 100/100 [00:00<00:00, 8811.38it/s]\n"
     ]
    },
    {
     "name": "stdout",
     "output_type": "stream",
     "text": [
      "Starting production phase...\n"
     ]
    },
    {
     "name": "stderr",
     "output_type": "stream",
     "text": [
      "100%|██████████| 1000/1000 [00:00<00:00, 7411.32it/s]\n"
     ]
    },
    {
     "name": "stdout",
     "output_type": "stream",
     "text": [
      "Average Magnetization: -0.0076 ± 0.0433\n",
      "autocorr_time 1.0000\n",
      "\n",
      "Running Metropolis at T = 1.75\n",
      "Starting warmup phase...\n"
     ]
    },
    {
     "name": "stderr",
     "output_type": "stream",
     "text": [
      "100%|██████████| 100/100 [00:00<00:00, 8846.69it/s]\n"
     ]
    },
    {
     "name": "stdout",
     "output_type": "stream",
     "text": [
      "Starting production phase...\n"
     ]
    },
    {
     "name": "stderr",
     "output_type": "stream",
     "text": [
      "100%|██████████| 1000/1000 [00:00<00:00, 7549.21it/s]\n"
     ]
    },
    {
     "name": "stdout",
     "output_type": "stream",
     "text": [
      "Average Magnetization: -0.0076 ± 0.0432\n",
      "autocorr_time 1.0000\n",
      "\n",
      "Running Metropolis at T = 1.80\n",
      "Starting warmup phase...\n"
     ]
    },
    {
     "name": "stderr",
     "output_type": "stream",
     "text": [
      "100%|██████████| 100/100 [00:00<00:00, 7976.39it/s]\n"
     ]
    },
    {
     "name": "stdout",
     "output_type": "stream",
     "text": [
      "Starting production phase...\n"
     ]
    },
    {
     "name": "stderr",
     "output_type": "stream",
     "text": [
      "100%|██████████| 1000/1000 [00:00<00:00, 8008.14it/s]\n"
     ]
    },
    {
     "name": "stdout",
     "output_type": "stream",
     "text": [
      "Average Magnetization: 0.0026 ± 0.0430\n",
      "autocorr_time 1.0000\n",
      "\n",
      "Running Metropolis at T = 1.85\n",
      "Starting warmup phase...\n"
     ]
    },
    {
     "name": "stderr",
     "output_type": "stream",
     "text": [
      "100%|██████████| 100/100 [00:00<00:00, 9586.10it/s]\n"
     ]
    },
    {
     "name": "stdout",
     "output_type": "stream",
     "text": [
      "Starting production phase...\n"
     ]
    },
    {
     "name": "stderr",
     "output_type": "stream",
     "text": [
      "100%|██████████| 1000/1000 [00:00<00:00, 7942.52it/s]\n"
     ]
    },
    {
     "name": "stdout",
     "output_type": "stream",
     "text": [
      "Average Magnetization: -0.0114 ± 0.0425\n",
      "autocorr_time 1.0000\n",
      "\n",
      "Running Metropolis at T = 1.90\n",
      "Starting warmup phase...\n"
     ]
    },
    {
     "name": "stderr",
     "output_type": "stream",
     "text": [
      "100%|██████████| 100/100 [00:00<00:00, 8355.85it/s]\n"
     ]
    },
    {
     "name": "stdout",
     "output_type": "stream",
     "text": [
      "Starting production phase...\n"
     ]
    },
    {
     "name": "stderr",
     "output_type": "stream",
     "text": [
      "100%|██████████| 1000/1000 [00:00<00:00, 8141.10it/s]\n"
     ]
    },
    {
     "name": "stdout",
     "output_type": "stream",
     "text": [
      "Average Magnetization: 0.0037 ± 0.0419\n",
      "autocorr_time 1.0000\n",
      "\n",
      "Running Metropolis at T = 1.95\n",
      "Starting warmup phase...\n"
     ]
    },
    {
     "name": "stderr",
     "output_type": "stream",
     "text": [
      "100%|██████████| 100/100 [00:00<00:00, 10230.76it/s]\n"
     ]
    },
    {
     "name": "stdout",
     "output_type": "stream",
     "text": [
      "Starting production phase...\n"
     ]
    },
    {
     "name": "stderr",
     "output_type": "stream",
     "text": [
      "100%|██████████| 1000/1000 [00:00<00:00, 7991.56it/s]\n"
     ]
    },
    {
     "name": "stdout",
     "output_type": "stream",
     "text": [
      "Average Magnetization: 0.0061 ± 0.0417\n",
      "autocorr_time 1.0000\n",
      "\n",
      "Running Metropolis at T = 2.00\n",
      "Starting warmup phase...\n"
     ]
    },
    {
     "name": "stderr",
     "output_type": "stream",
     "text": [
      "100%|██████████| 100/100 [00:00<00:00, 8971.97it/s]\n"
     ]
    },
    {
     "name": "stdout",
     "output_type": "stream",
     "text": [
      "Starting production phase...\n"
     ]
    },
    {
     "name": "stderr",
     "output_type": "stream",
     "text": [
      "100%|██████████| 1000/1000 [00:00<00:00, 8347.41it/s]\n"
     ]
    },
    {
     "name": "stdout",
     "output_type": "stream",
     "text": [
      "Average Magnetization: -0.0054 ± 0.0410\n",
      "autocorr_time 1.0000\n",
      "\n",
      "Running Metropolis at T = 2.05\n",
      "Starting warmup phase...\n"
     ]
    },
    {
     "name": "stderr",
     "output_type": "stream",
     "text": [
      "100%|██████████| 100/100 [00:00<00:00, 9059.36it/s]\n"
     ]
    },
    {
     "name": "stdout",
     "output_type": "stream",
     "text": [
      "Starting production phase...\n"
     ]
    },
    {
     "name": "stderr",
     "output_type": "stream",
     "text": [
      "100%|██████████| 1000/1000 [00:00<00:00, 8815.14it/s]\n"
     ]
    },
    {
     "name": "stdout",
     "output_type": "stream",
     "text": [
      "Average Magnetization: 0.0062 ± 0.0399\n",
      "autocorr_time 1.0000\n",
      "\n",
      "Running Metropolis at T = 2.10\n",
      "Starting warmup phase...\n"
     ]
    },
    {
     "name": "stderr",
     "output_type": "stream",
     "text": [
      "100%|██████████| 100/100 [00:00<00:00, 9183.13it/s]\n"
     ]
    },
    {
     "name": "stdout",
     "output_type": "stream",
     "text": [
      "Starting production phase...\n"
     ]
    },
    {
     "name": "stderr",
     "output_type": "stream",
     "text": [
      "100%|██████████| 1000/1000 [00:00<00:00, 8816.97it/s]\n"
     ]
    },
    {
     "name": "stdout",
     "output_type": "stream",
     "text": [
      "Average Magnetization: 0.0073 ± 0.0392\n",
      "autocorr_time 1.0000\n",
      "\n",
      "Running Metropolis at T = 2.15\n",
      "Starting warmup phase...\n"
     ]
    },
    {
     "name": "stderr",
     "output_type": "stream",
     "text": [
      "100%|██████████| 100/100 [00:00<00:00, 10895.99it/s]\n"
     ]
    },
    {
     "name": "stdout",
     "output_type": "stream",
     "text": [
      "Starting production phase...\n"
     ]
    },
    {
     "name": "stderr",
     "output_type": "stream",
     "text": [
      "100%|██████████| 1000/1000 [00:00<00:00, 9468.72it/s]\n"
     ]
    },
    {
     "name": "stdout",
     "output_type": "stream",
     "text": [
      "Average Magnetization: -0.0107 ± 0.0381\n",
      "autocorr_time 1.0000\n",
      "\n",
      "Running Metropolis at T = 2.20\n",
      "Starting warmup phase...\n"
     ]
    },
    {
     "name": "stderr",
     "output_type": "stream",
     "text": [
      "100%|██████████| 100/100 [00:00<00:00, 9949.48it/s]\n"
     ]
    },
    {
     "name": "stdout",
     "output_type": "stream",
     "text": [
      "Starting production phase...\n"
     ]
    },
    {
     "name": "stderr",
     "output_type": "stream",
     "text": [
      "100%|██████████| 1000/1000 [00:00<00:00, 10116.34it/s]\n"
     ]
    },
    {
     "name": "stdout",
     "output_type": "stream",
     "text": [
      "Average Magnetization: 0.0077 ± 0.0368\n",
      "autocorr_time 1.0000\n",
      "\n",
      "Running Metropolis at T = 2.25\n",
      "Starting warmup phase...\n"
     ]
    },
    {
     "name": "stderr",
     "output_type": "stream",
     "text": [
      "100%|██████████| 100/100 [00:00<00:00, 10864.95it/s]\n"
     ]
    },
    {
     "name": "stdout",
     "output_type": "stream",
     "text": [
      "Starting production phase...\n"
     ]
    },
    {
     "name": "stderr",
     "output_type": "stream",
     "text": [
      "100%|██████████| 1000/1000 [00:00<00:00, 10044.58it/s]\n"
     ]
    },
    {
     "name": "stdout",
     "output_type": "stream",
     "text": [
      "Average Magnetization: 0.0018 ± 0.0361\n",
      "autocorr_time 1.0000\n",
      "\n",
      "Running Metropolis at T = 2.30\n",
      "Starting warmup phase...\n"
     ]
    },
    {
     "name": "stderr",
     "output_type": "stream",
     "text": [
      "100%|██████████| 100/100 [00:00<00:00, 11973.46it/s]\n"
     ]
    },
    {
     "name": "stdout",
     "output_type": "stream",
     "text": [
      "Starting production phase...\n"
     ]
    },
    {
     "name": "stderr",
     "output_type": "stream",
     "text": [
      "100%|██████████| 1000/1000 [00:00<00:00, 11125.74it/s]\n"
     ]
    },
    {
     "name": "stdout",
     "output_type": "stream",
     "text": [
      "Average Magnetization: -0.0052 ± 0.0346\n",
      "autocorr_time 1.0000\n",
      "\n",
      "Running Metropolis at T = 2.35\n",
      "Starting warmup phase...\n"
     ]
    },
    {
     "name": "stderr",
     "output_type": "stream",
     "text": [
      "100%|██████████| 100/100 [00:00<00:00, 12053.64it/s]\n"
     ]
    },
    {
     "name": "stdout",
     "output_type": "stream",
     "text": [
      "Starting production phase...\n"
     ]
    },
    {
     "name": "stderr",
     "output_type": "stream",
     "text": [
      "100%|██████████| 1000/1000 [00:00<00:00, 11347.43it/s]\n"
     ]
    },
    {
     "name": "stdout",
     "output_type": "stream",
     "text": [
      "Average Magnetization: -0.0180 ± 0.0339\n",
      "autocorr_time 1.0000\n",
      "\n",
      "Running Metropolis at T = 2.40\n",
      "Starting warmup phase...\n"
     ]
    },
    {
     "name": "stderr",
     "output_type": "stream",
     "text": [
      "100%|██████████| 100/100 [00:00<00:00, 12388.29it/s]\n"
     ]
    },
    {
     "name": "stdout",
     "output_type": "stream",
     "text": [
      "Starting production phase...\n"
     ]
    },
    {
     "name": "stderr",
     "output_type": "stream",
     "text": [
      "100%|██████████| 1000/1000 [00:00<00:00, 12063.52it/s]\n"
     ]
    },
    {
     "name": "stdout",
     "output_type": "stream",
     "text": [
      "Average Magnetization: 0.0182 ± 0.0316\n",
      "autocorr_time 1.0000\n",
      "\n",
      "Running Metropolis at T = 2.45\n",
      "Starting warmup phase...\n"
     ]
    },
    {
     "name": "stderr",
     "output_type": "stream",
     "text": [
      "100%|██████████| 100/100 [00:00<00:00, 12838.79it/s]\n"
     ]
    },
    {
     "name": "stdout",
     "output_type": "stream",
     "text": [
      "Starting production phase...\n"
     ]
    },
    {
     "name": "stderr",
     "output_type": "stream",
     "text": [
      "100%|██████████| 1000/1000 [00:00<00:00, 12738.50it/s]\n"
     ]
    },
    {
     "name": "stdout",
     "output_type": "stream",
     "text": [
      "Average Magnetization: -0.0191 ± 0.0305\n",
      "autocorr_time 1.0000\n",
      "\n",
      "Running Metropolis at T = 2.50\n",
      "Starting warmup phase...\n"
     ]
    },
    {
     "name": "stderr",
     "output_type": "stream",
     "text": [
      "100%|██████████| 100/100 [00:00<00:00, 14125.56it/s]\n"
     ]
    },
    {
     "name": "stdout",
     "output_type": "stream",
     "text": [
      "Starting production phase...\n"
     ]
    },
    {
     "name": "stderr",
     "output_type": "stream",
     "text": [
      "100%|██████████| 1000/1000 [00:00<00:00, 13422.12it/s]\n"
     ]
    },
    {
     "name": "stdout",
     "output_type": "stream",
     "text": [
      "Average Magnetization: -0.0230 ± 0.0294\n",
      "autocorr_time 1.0000\n",
      "\n",
      "Running Metropolis at T = 2.55\n",
      "Starting warmup phase...\n"
     ]
    },
    {
     "name": "stderr",
     "output_type": "stream",
     "text": [
      "100%|██████████| 100/100 [00:00<00:00, 15419.67it/s]\n"
     ]
    },
    {
     "name": "stdout",
     "output_type": "stream",
     "text": [
      "Starting production phase...\n"
     ]
    },
    {
     "name": "stderr",
     "output_type": "stream",
     "text": [
      "100%|██████████| 1000/1000 [00:00<00:00, 13944.66it/s]\n"
     ]
    },
    {
     "name": "stdout",
     "output_type": "stream",
     "text": [
      "Average Magnetization: 0.0200 ± 0.0272\n",
      "autocorr_time 1.0000\n",
      "\n",
      "Running Metropolis at T = 2.60\n",
      "Starting warmup phase...\n"
     ]
    },
    {
     "name": "stderr",
     "output_type": "stream",
     "text": [
      "100%|██████████| 100/100 [00:00<00:00, 16771.18it/s]\n"
     ]
    },
    {
     "name": "stdout",
     "output_type": "stream",
     "text": [
      "Starting production phase...\n"
     ]
    },
    {
     "name": "stderr",
     "output_type": "stream",
     "text": [
      "100%|██████████| 1000/1000 [00:00<00:00, 14800.94it/s]\n"
     ]
    },
    {
     "name": "stdout",
     "output_type": "stream",
     "text": [
      "Average Magnetization: -0.0090 ± 0.0263\n",
      "autocorr_time 1.0000\n",
      "\n",
      "Running Metropolis at T = 2.65\n",
      "Starting warmup phase...\n"
     ]
    },
    {
     "name": "stderr",
     "output_type": "stream",
     "text": [
      "100%|██████████| 100/100 [00:00<00:00, 17478.45it/s]\n"
     ]
    },
    {
     "name": "stdout",
     "output_type": "stream",
     "text": [
      "Starting production phase...\n"
     ]
    },
    {
     "name": "stderr",
     "output_type": "stream",
     "text": [
      "100%|██████████| 1000/1000 [00:00<00:00, 15772.98it/s]\n"
     ]
    },
    {
     "name": "stdout",
     "output_type": "stream",
     "text": [
      "Average Magnetization: 0.0167 ± 0.0251\n",
      "autocorr_time 1.0000\n",
      "\n",
      "Running Metropolis at T = 2.70\n",
      "Starting warmup phase...\n"
     ]
    },
    {
     "name": "stderr",
     "output_type": "stream",
     "text": [
      "100%|██████████| 100/100 [00:00<00:00, 19279.72it/s]\n"
     ]
    },
    {
     "name": "stdout",
     "output_type": "stream",
     "text": [
      "Starting production phase...\n"
     ]
    },
    {
     "name": "stderr",
     "output_type": "stream",
     "text": [
      "100%|██████████| 1000/1000 [00:00<00:00, 16118.92it/s]\n"
     ]
    },
    {
     "name": "stdout",
     "output_type": "stream",
     "text": [
      "Average Magnetization: -0.0437 ± 0.0235\n",
      "autocorr_time 1.0000\n",
      "\n",
      "Running Metropolis at T = 2.75\n",
      "Starting warmup phase...\n"
     ]
    },
    {
     "name": "stderr",
     "output_type": "stream",
     "text": [
      "100%|██████████| 100/100 [00:00<00:00, 17394.37it/s]\n"
     ]
    },
    {
     "name": "stdout",
     "output_type": "stream",
     "text": [
      "Starting production phase...\n"
     ]
    },
    {
     "name": "stderr",
     "output_type": "stream",
     "text": [
      "100%|██████████| 1000/1000 [00:00<00:00, 17650.34it/s]\n"
     ]
    },
    {
     "name": "stdout",
     "output_type": "stream",
     "text": [
      "Average Magnetization: 0.0241 ± 0.0240\n",
      "autocorr_time 1.1528\n",
      "\n",
      "Running Metropolis at T = 2.80\n",
      "Starting warmup phase...\n"
     ]
    },
    {
     "name": "stderr",
     "output_type": "stream",
     "text": [
      "100%|██████████| 100/100 [00:00<00:00, 19418.07it/s]\n"
     ]
    },
    {
     "name": "stdout",
     "output_type": "stream",
     "text": [
      "Starting production phase...\n"
     ]
    },
    {
     "name": "stderr",
     "output_type": "stream",
     "text": [
      "100%|██████████| 1000/1000 [00:00<00:00, 17913.58it/s]\n"
     ]
    },
    {
     "name": "stdout",
     "output_type": "stream",
     "text": [
      "Average Magnetization: -0.0022 ± 0.0234\n",
      "autocorr_time 1.1303\n",
      "\n",
      "Running Metropolis at T = 2.85\n",
      "Starting warmup phase...\n"
     ]
    },
    {
     "name": "stderr",
     "output_type": "stream",
     "text": [
      "100%|██████████| 100/100 [00:00<00:00, 21416.99it/s]\n"
     ]
    },
    {
     "name": "stdout",
     "output_type": "stream",
     "text": [
      "Starting production phase...\n"
     ]
    },
    {
     "name": "stderr",
     "output_type": "stream",
     "text": [
      "100%|██████████| 1000/1000 [00:00<00:00, 18501.72it/s]\n"
     ]
    },
    {
     "name": "stdout",
     "output_type": "stream",
     "text": [
      "Average Magnetization: 0.0018 ± 0.0222\n",
      "autocorr_time 1.2134\n",
      "\n",
      "Running Metropolis at T = 2.90\n",
      "Starting warmup phase...\n"
     ]
    },
    {
     "name": "stderr",
     "output_type": "stream",
     "text": [
      "100%|██████████| 100/100 [00:00<00:00, 23454.14it/s]\n"
     ]
    },
    {
     "name": "stdout",
     "output_type": "stream",
     "text": [
      "Starting production phase...\n"
     ]
    },
    {
     "name": "stderr",
     "output_type": "stream",
     "text": [
      "100%|██████████| 1000/1000 [00:00<00:00, 19435.26it/s]\n"
     ]
    },
    {
     "name": "stdout",
     "output_type": "stream",
     "text": [
      "Average Magnetization: 0.0092 ± 0.0230\n",
      "autocorr_time 1.4524\n",
      "\n",
      "Running Metropolis at T = 2.95\n",
      "Starting warmup phase...\n"
     ]
    },
    {
     "name": "stderr",
     "output_type": "stream",
     "text": [
      "100%|██████████| 100/100 [00:00<00:00, 22511.29it/s]\n"
     ]
    },
    {
     "name": "stdout",
     "output_type": "stream",
     "text": [
      "Starting production phase...\n"
     ]
    },
    {
     "name": "stderr",
     "output_type": "stream",
     "text": [
      "100%|██████████| 1000/1000 [00:00<00:00, 20975.09it/s]\n"
     ]
    },
    {
     "name": "stdout",
     "output_type": "stream",
     "text": [
      "Average Magnetization: -0.0068 ± 0.0245\n",
      "autocorr_time 1.7311\n",
      "\n",
      "Running Metropolis at T = 3.00\n",
      "Starting warmup phase...\n"
     ]
    },
    {
     "name": "stderr",
     "output_type": "stream",
     "text": [
      "100%|██████████| 100/100 [00:00<00:00, 22674.36it/s]\n"
     ]
    },
    {
     "name": "stdout",
     "output_type": "stream",
     "text": [
      "Starting production phase...\n"
     ]
    },
    {
     "name": "stderr",
     "output_type": "stream",
     "text": [
      "100%|██████████| 1000/1000 [00:00<00:00, 21415.24it/s]"
     ]
    },
    {
     "name": "stdout",
     "output_type": "stream",
     "text": [
      "Average Magnetization: 0.0103 ± 0.0244\n",
      "autocorr_time 1.8259\n"
     ]
    },
    {
     "name": "stderr",
     "output_type": "stream",
     "text": [
      "\n"
     ]
    }
   ],
   "source": [
    "import numpy as np\n",
    "import matplotlib.pyplot as plt\n",
    "from ising_lattice import IsingLattice\n",
    "from monte_carlo import MonteCarlo\n",
    "\n",
    "temperatures = np.linspace(1.5, 3.0, 31)  # Temperature range\n",
    "Lx = 8\n",
    "Ly = 8\n",
    "J = 1.0 \n",
    "steps = 1_000  # production steps after warmup\n",
    "warmup_steps = 100  # warmup steps\n",
    "method = \"wolff\"    ##  wolff   metropolis\n",
    "\n",
    "# --- Storage ---\n",
    "avg_magnetization = []\n",
    "magnetization_errors = []\n",
    "susceptibilities = []\n",
    "susceptibility_errors = []\n",
    "autocorr_time_list = []\n",
    "m2_array = []\n",
    "m2_errors = []\n",
    "mabs_array = []\n",
    "\n",
    "def autocorr(x):\n",
    "    x = np.asarray(x, float)\n",
    "    x = x - x.mean()\n",
    "    n = len(x)\n",
    "    result = np.correlate(x, x, mode='full')\n",
    "    acov = result[n-1:]   # lags 0..n-1\n",
    "    acov /= np.arange(n, 0, -1)   # unbiased: divide by N-k\n",
    "    return acov / acov[0]         # normalize → acf[0]=1\n",
    "\n",
    "def autocorr_time(correlation):\n",
    "    for i, val in enumerate(correlation[1:], 1):\n",
    "        if val < 0:\n",
    "            return 1 + 2 * np.sum(correlation[1:i])\n",
    "    return 1 + 2 * np.sum(correlation[1:])\n",
    "\n",
    "def autocorr_fft(x, unbiased=True):\n",
    "    \"\"\"\n",
    "    Compute autocorrelation of a 1D array using FFT (fast, O(n log n)).\n",
    "    \n",
    "    Returns:\n",
    "        acf : array of length n (lags 0..n-1), normalized so acf[0] = 1.\n",
    "    \n",
    "    Parameters:\n",
    "        unbiased : if True, normalize by (n - lag),\n",
    "                   else normalize by n (biased).\n",
    "    \"\"\"\n",
    "    x = np.asarray(x, dtype=float)\n",
    "    n = x.size\n",
    "    x = x - x.mean()\n",
    "\n",
    "    # FFT length (next power of two >= 2n-1 for linear convolution)\n",
    "    nfft = 1 << (2*n - 1).bit_length()\n",
    "\n",
    "    # Power spectrum\n",
    "    f = np.fft.rfft(x, n=nfft)\n",
    "    acov = np.fft.irfft(f * np.conjugate(f), n=nfft)[:n]\n",
    "\n",
    "    # Variance\n",
    "    var = acov[0] / n\n",
    "\n",
    "    # Normalize to get correlation\n",
    "    if unbiased:\n",
    "        denom = var * (n - np.arange(n))\n",
    "    else:\n",
    "        denom = var * n\n",
    "\n",
    "    acf = acov / denom\n",
    "    return acf\n",
    "\n",
    "# --- Loop over temperatures ---\n",
    "for T in temperatures:\n",
    "    print(f\"\\nRunning Metropolis at T = {T:.2f}\")\n",
    "\n",
    "    lattice = IsingLattice(Lx, Ly, J=J)\n",
    "    mc = MonteCarlo(lattice)\n",
    "    mc.run_loop(warmup_steps=warmup_steps,steps=steps, T=T, method=method)\n",
    "\n",
    "    acc = mc.acc  \n",
    "\n",
    "    M_vals = np.asarray(acc.magnetization)\n",
    "    M_mean = M_vals.mean()\n",
    "    tau = acc.magnetization_tau_int\n",
    "    M_err = acc.calculate_error(M_vals, tau)\n",
    "    m2_vals = acc.m2_array\n",
    "    m2_err = acc.calculate_error(m2_vals,tau)\n",
    "\n",
    "\n",
    "    chi = np.mean(acc.susceptibility)\n",
    "    # chi_err = acc.(M_vals, T, lattice.N)\n",
    "\n",
    "    m2_array.append(np.mean(m2_vals))\n",
    "    mabs_array.append(np.mean(acc.m_abs_array))\n",
    "    acf=autocorr_fft(acc.magnetization)\n",
    "    acf_time=autocorr_time(acf)\n",
    "    autocorr_time_list.append(acf_time)  \n",
    "    M_err=np.sqrt(np.var(acc.magnetization)*2*acf_time/len(acc.magnetization))\n",
    "    chi_err=np.sqrt(np.var(acc.susceptibility)*2*acf_time/len(acc.susceptibility))\n",
    "    m2_errors.append(m2_err)\n",
    "\n",
    "\n",
    "    avg_magnetization.append(M_mean)\n",
    "    magnetization_errors.append(M_err)\n",
    "    susceptibilities.append(chi)\n",
    "    susceptibility_errors.append(chi_err)\n",
    "    print(f\"Average Magnetization: {M_mean:.4f} ± {M_err:.4f}\")\n",
    "    print(f\"autocorr_time {acf_time:.4f}\")"
   ]
  },
  {
   "cell_type": "code",
   "execution_count": null,
   "id": "702b757f",
   "metadata": {},
   "outputs": [
    {
     "data": {
      "image/png": "[encoded data removed]",
      "text/plain": [
       "<Figure size 1200x300 with 3 Axes>"
      ]
     },
     "metadata": {},
     "output_type": "display_data"
    }
   ],
   "source": [
    "\n",
    "import numpy as np\n",
    "import matplotlib.pyplot as plt\n",
    "\n",
    "\n",
    "fig, axs = plt.subplots(1, 3, figsize=(12, 3))\n",
    "\n",
    "axs[0].plot(temperatures, np.abs(avg_magnetization))\n",
    "axs[0].errorbar(temperatures, np.abs(avg_magnetization), yerr=magnetization_errors, fmt='o', capsize=4)\n",
    "axs[0].set_xlabel(\"Temperature T\")\n",
    "axs[0].set_ylabel(\"⟨M⟩\")\n",
    "axs[0].set_ylim(0,1)\n",
    "# axs[0].set_title(\"Average Magnetization\")\n",
    "# axs[0].tick_params(which='both', direction='in', top=True, right=True)\n",
    "\n",
    "# axs[1].errorbar(temperatures, susceptibilities, yerr=susceptibility_errors, fmt='o', capsize=4)\n",
    "# axs[1].set_xlabel(\"Temperature T\")\n",
    "# axs[1].set_ylabel(\"χ\")\n",
    "# # axs[1].set_title(\"Susceptibility\")\n",
    "\n",
    "axs[1].plot(temperatures, mabs_array, fmt='o', capsize=4)\n",
    "axs[1].set_xlabel(\"Temperature T\")\n",
    "axs[1].set_ylabel(\"χ\")\n",
    "# axs[1].set_title(\"Susceptibility\")\n",
    "\n",
    "\n",
    "axs[2].errorbar(temperatures, m2_array, yerr=m2_errors, fmt='o', capsize=4)\n",
    "axs[2].set_xlabel(\"Temperature T\")\n",
    "axs[2].set_ylabel(r'<M>^2')\n",
    "# axs[2].set_title(\"Susceptibility\")\n",
    "\n",
    "# axs[2].plot(temperatures, autocorr_time_list, marker='o')\n",
    "# # axs[2].set_yscale('log')\n",
    "# axs[2].set_xlabel(\"Temperature T\")\n",
    "# axs[2].set_ylabel(\"τ_int\")\n",
    "# axs[2].set_title(\"Autocorrelation Time\")\n",
    "# # plt.savefig('100ksteps')\n",
    "plt.tight_layout()\n",
    "plt.show()\n"
   ]
  },
  {
   "cell_type": "code",
   "execution_count": null,
   "id": "34f91bb7",
   "metadata": {},
   "outputs": [],
   "source": []
  }
 ],
 "metadata": {
  "kernelspec": {
   "display_name": "base",
   "language": "python",
   "name": "python3"
  },
  "language_info": {
   "codemirror_mode": {
    "name": "ipython",
    "version": 3
   },
   "file_extension": ".py",
   "mimetype": "text/x-python",
   "name": "python",
   "nbconvert_exporter": "python",
   "pygments_lexer": "ipython3",
   "version": "3.12.7"
  }
 },
 "nbformat": 4,
 "nbformat_minor": 5
}
